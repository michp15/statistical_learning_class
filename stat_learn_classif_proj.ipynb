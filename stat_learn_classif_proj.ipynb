{
  "nbformat": 4,
  "nbformat_minor": 0,
  "metadata": {
    "colab": {
      "provenance": [],
      "authorship_tag": "ABX9TyMXhjDSnBiExw99O+5ZUMT7",
      "include_colab_link": true
    },
    "kernelspec": {
      "name": "ir",
      "display_name": "R"
    },
    "language_info": {
      "name": "R"
    }
  },
  "cells": [
    {
      "cell_type": "markdown",
      "metadata": {
        "id": "view-in-github",
        "colab_type": "text"
      },
      "source": [
        "<a href=\"https://colab.research.google.com/github/michp15/statistical_learning_class/blob/main/stat_learn_classif_proj.ipynb\" target=\"_parent\"><img src=\"https://colab.research.google.com/assets/colab-badge.svg\" alt=\"Open In Colab\"/></a>"
      ]
    },
    {
      "cell_type": "code",
      "source": [
        "library(utils)\n",
        "library(dplyr)\n",
        "library(tidyr)\n",
        "library(corrplot)"
      ],
      "metadata": {
        "id": "CqaAy0vVNIy8"
      },
      "execution_count": 28,
      "outputs": []
    },
    {
      "cell_type": "code",
      "source": [
        "# download dataset\n",
        "\n",
        "download.file('https://raw.githubusercontent.com/michp15/statistical_learning_class/refs/heads/main/bank-additional-full.csv', 'bank.csv')"
      ],
      "metadata": {
        "id": "2RnI2P0PN96L"
      },
      "execution_count": 3,
      "outputs": []
    },
    {
      "cell_type": "code",
      "source": [
        "# read dataset\n",
        "\n",
        "df = read.csv('bank.csv', sep=';')"
      ],
      "metadata": {
        "id": "4sSG7FM-O-p-"
      },
      "execution_count": 4,
      "outputs": []
    },
    {
      "cell_type": "code",
      "source": [
        "# inspect for correct formatting\n",
        "\n",
        "head(df)"
      ],
      "metadata": {
        "colab": {
          "base_uri": "https://localhost:8080/",
          "height": 303
        },
        "id": "edB3wv8ePK3g",
        "outputId": "ab9a0e92-3041-4466-c85f-117049c32871"
      },
      "execution_count": 10,
      "outputs": [
        {
          "output_type": "display_data",
          "data": {
            "text/html": [
              "<table class=\"dataframe\">\n",
              "<caption>A data.frame: 6 × 21</caption>\n",
              "<thead>\n",
              "\t<tr><th></th><th scope=col>age</th><th scope=col>job</th><th scope=col>marital</th><th scope=col>education</th><th scope=col>default</th><th scope=col>housing</th><th scope=col>loan</th><th scope=col>contact</th><th scope=col>month</th><th scope=col>day_of_week</th><th scope=col>⋯</th><th scope=col>campaign</th><th scope=col>pdays</th><th scope=col>previous</th><th scope=col>poutcome</th><th scope=col>emp.var.rate</th><th scope=col>cons.price.idx</th><th scope=col>cons.conf.idx</th><th scope=col>euribor3m</th><th scope=col>nr.employed</th><th scope=col>y</th></tr>\n",
              "\t<tr><th></th><th scope=col>&lt;int&gt;</th><th scope=col>&lt;chr&gt;</th><th scope=col>&lt;chr&gt;</th><th scope=col>&lt;chr&gt;</th><th scope=col>&lt;chr&gt;</th><th scope=col>&lt;chr&gt;</th><th scope=col>&lt;chr&gt;</th><th scope=col>&lt;chr&gt;</th><th scope=col>&lt;chr&gt;</th><th scope=col>&lt;chr&gt;</th><th scope=col>⋯</th><th scope=col>&lt;int&gt;</th><th scope=col>&lt;int&gt;</th><th scope=col>&lt;int&gt;</th><th scope=col>&lt;chr&gt;</th><th scope=col>&lt;dbl&gt;</th><th scope=col>&lt;dbl&gt;</th><th scope=col>&lt;dbl&gt;</th><th scope=col>&lt;dbl&gt;</th><th scope=col>&lt;dbl&gt;</th><th scope=col>&lt;chr&gt;</th></tr>\n",
              "</thead>\n",
              "<tbody>\n",
              "\t<tr><th scope=row>1</th><td>56</td><td>housemaid</td><td>married</td><td>basic.4y   </td><td>no     </td><td>no </td><td>no </td><td>telephone</td><td>may</td><td>mon</td><td>⋯</td><td>1</td><td>999</td><td>0</td><td>nonexistent</td><td>1.1</td><td>93.994</td><td>-36.4</td><td>4.857</td><td>5191</td><td>no</td></tr>\n",
              "\t<tr><th scope=row>2</th><td>57</td><td>services </td><td>married</td><td>high.school</td><td>unknown</td><td>no </td><td>no </td><td>telephone</td><td>may</td><td>mon</td><td>⋯</td><td>1</td><td>999</td><td>0</td><td>nonexistent</td><td>1.1</td><td>93.994</td><td>-36.4</td><td>4.857</td><td>5191</td><td>no</td></tr>\n",
              "\t<tr><th scope=row>3</th><td>37</td><td>services </td><td>married</td><td>high.school</td><td>no     </td><td>yes</td><td>no </td><td>telephone</td><td>may</td><td>mon</td><td>⋯</td><td>1</td><td>999</td><td>0</td><td>nonexistent</td><td>1.1</td><td>93.994</td><td>-36.4</td><td>4.857</td><td>5191</td><td>no</td></tr>\n",
              "\t<tr><th scope=row>4</th><td>40</td><td>admin.   </td><td>married</td><td>basic.6y   </td><td>no     </td><td>no </td><td>no </td><td>telephone</td><td>may</td><td>mon</td><td>⋯</td><td>1</td><td>999</td><td>0</td><td>nonexistent</td><td>1.1</td><td>93.994</td><td>-36.4</td><td>4.857</td><td>5191</td><td>no</td></tr>\n",
              "\t<tr><th scope=row>5</th><td>56</td><td>services </td><td>married</td><td>high.school</td><td>no     </td><td>no </td><td>yes</td><td>telephone</td><td>may</td><td>mon</td><td>⋯</td><td>1</td><td>999</td><td>0</td><td>nonexistent</td><td>1.1</td><td>93.994</td><td>-36.4</td><td>4.857</td><td>5191</td><td>no</td></tr>\n",
              "\t<tr><th scope=row>6</th><td>45</td><td>services </td><td>married</td><td>basic.9y   </td><td>unknown</td><td>no </td><td>no </td><td>telephone</td><td>may</td><td>mon</td><td>⋯</td><td>1</td><td>999</td><td>0</td><td>nonexistent</td><td>1.1</td><td>93.994</td><td>-36.4</td><td>4.857</td><td>5191</td><td>no</td></tr>\n",
              "</tbody>\n",
              "</table>\n"
            ],
            "text/markdown": "\nA data.frame: 6 × 21\n\n| <!--/--> | age &lt;int&gt; | job &lt;chr&gt; | marital &lt;chr&gt; | education &lt;chr&gt; | default &lt;chr&gt; | housing &lt;chr&gt; | loan &lt;chr&gt; | contact &lt;chr&gt; | month &lt;chr&gt; | day_of_week &lt;chr&gt; | ⋯ ⋯ | campaign &lt;int&gt; | pdays &lt;int&gt; | previous &lt;int&gt; | poutcome &lt;chr&gt; | emp.var.rate &lt;dbl&gt; | cons.price.idx &lt;dbl&gt; | cons.conf.idx &lt;dbl&gt; | euribor3m &lt;dbl&gt; | nr.employed &lt;dbl&gt; | y &lt;chr&gt; |\n|---|---|---|---|---|---|---|---|---|---|---|---|---|---|---|---|---|---|---|---|---|---|\n| 1 | 56 | housemaid | married | basic.4y    | no      | no  | no  | telephone | may | mon | ⋯ | 1 | 999 | 0 | nonexistent | 1.1 | 93.994 | -36.4 | 4.857 | 5191 | no |\n| 2 | 57 | services  | married | high.school | unknown | no  | no  | telephone | may | mon | ⋯ | 1 | 999 | 0 | nonexistent | 1.1 | 93.994 | -36.4 | 4.857 | 5191 | no |\n| 3 | 37 | services  | married | high.school | no      | yes | no  | telephone | may | mon | ⋯ | 1 | 999 | 0 | nonexistent | 1.1 | 93.994 | -36.4 | 4.857 | 5191 | no |\n| 4 | 40 | admin.    | married | basic.6y    | no      | no  | no  | telephone | may | mon | ⋯ | 1 | 999 | 0 | nonexistent | 1.1 | 93.994 | -36.4 | 4.857 | 5191 | no |\n| 5 | 56 | services  | married | high.school | no      | no  | yes | telephone | may | mon | ⋯ | 1 | 999 | 0 | nonexistent | 1.1 | 93.994 | -36.4 | 4.857 | 5191 | no |\n| 6 | 45 | services  | married | basic.9y    | unknown | no  | no  | telephone | may | mon | ⋯ | 1 | 999 | 0 | nonexistent | 1.1 | 93.994 | -36.4 | 4.857 | 5191 | no |\n\n",
            "text/latex": "A data.frame: 6 × 21\n\\begin{tabular}{r|lllllllllllllllllllll}\n  & age & job & marital & education & default & housing & loan & contact & month & day\\_of\\_week & ⋯ & campaign & pdays & previous & poutcome & emp.var.rate & cons.price.idx & cons.conf.idx & euribor3m & nr.employed & y\\\\\n  & <int> & <chr> & <chr> & <chr> & <chr> & <chr> & <chr> & <chr> & <chr> & <chr> & ⋯ & <int> & <int> & <int> & <chr> & <dbl> & <dbl> & <dbl> & <dbl> & <dbl> & <chr>\\\\\n\\hline\n\t1 & 56 & housemaid & married & basic.4y    & no      & no  & no  & telephone & may & mon & ⋯ & 1 & 999 & 0 & nonexistent & 1.1 & 93.994 & -36.4 & 4.857 & 5191 & no\\\\\n\t2 & 57 & services  & married & high.school & unknown & no  & no  & telephone & may & mon & ⋯ & 1 & 999 & 0 & nonexistent & 1.1 & 93.994 & -36.4 & 4.857 & 5191 & no\\\\\n\t3 & 37 & services  & married & high.school & no      & yes & no  & telephone & may & mon & ⋯ & 1 & 999 & 0 & nonexistent & 1.1 & 93.994 & -36.4 & 4.857 & 5191 & no\\\\\n\t4 & 40 & admin.    & married & basic.6y    & no      & no  & no  & telephone & may & mon & ⋯ & 1 & 999 & 0 & nonexistent & 1.1 & 93.994 & -36.4 & 4.857 & 5191 & no\\\\\n\t5 & 56 & services  & married & high.school & no      & no  & yes & telephone & may & mon & ⋯ & 1 & 999 & 0 & nonexistent & 1.1 & 93.994 & -36.4 & 4.857 & 5191 & no\\\\\n\t6 & 45 & services  & married & basic.9y    & unknown & no  & no  & telephone & may & mon & ⋯ & 1 & 999 & 0 & nonexistent & 1.1 & 93.994 & -36.4 & 4.857 & 5191 & no\\\\\n\\end{tabular}\n",
            "text/plain": [
              "  age job       marital education   default housing loan contact   month\n",
              "1 56  housemaid married basic.4y    no      no      no   telephone may  \n",
              "2 57  services  married high.school unknown no      no   telephone may  \n",
              "3 37  services  married high.school no      yes     no   telephone may  \n",
              "4 40  admin.    married basic.6y    no      no      no   telephone may  \n",
              "5 56  services  married high.school no      no      yes  telephone may  \n",
              "6 45  services  married basic.9y    unknown no      no   telephone may  \n",
              "  day_of_week ⋯ campaign pdays previous poutcome    emp.var.rate cons.price.idx\n",
              "1 mon         ⋯ 1        999   0        nonexistent 1.1          93.994        \n",
              "2 mon         ⋯ 1        999   0        nonexistent 1.1          93.994        \n",
              "3 mon         ⋯ 1        999   0        nonexistent 1.1          93.994        \n",
              "4 mon         ⋯ 1        999   0        nonexistent 1.1          93.994        \n",
              "5 mon         ⋯ 1        999   0        nonexistent 1.1          93.994        \n",
              "6 mon         ⋯ 1        999   0        nonexistent 1.1          93.994        \n",
              "  cons.conf.idx euribor3m nr.employed y \n",
              "1 -36.4         4.857     5191        no\n",
              "2 -36.4         4.857     5191        no\n",
              "3 -36.4         4.857     5191        no\n",
              "4 -36.4         4.857     5191        no\n",
              "5 -36.4         4.857     5191        no\n",
              "6 -36.4         4.857     5191        no"
            ]
          },
          "metadata": {}
        }
      ]
    },
    {
      "cell_type": "code",
      "source": [
        "# check for and remove duplicates\n",
        "\n",
        "if (any(duplicated(df))){\n",
        "  df <- distinct(df)\n",
        "}"
      ],
      "metadata": {
        "id": "NuHo3V8hV4oY"
      },
      "execution_count": 15,
      "outputs": []
    },
    {
      "cell_type": "code",
      "source": [
        "# check for null values\n",
        "\n",
        "print(any(is.na(df)))"
      ],
      "metadata": {
        "colab": {
          "base_uri": "https://localhost:8080/"
        },
        "id": "08GSANnsWsIS",
        "outputId": "1ec0ab17-be1f-4fb7-ff68-51d5a7479ee3"
      },
      "execution_count": 16,
      "outputs": [
        {
          "output_type": "stream",
          "name": "stdout",
          "text": [
            "[1] FALSE\n"
          ]
        }
      ]
    },
    {
      "cell_type": "code",
      "source": [
        "str(df)"
      ],
      "metadata": {
        "colab": {
          "base_uri": "https://localhost:8080/"
        },
        "id": "EzEhbRbgYg23",
        "outputId": "54fd4dde-addb-4b75-c8bc-e7dc772e601b"
      },
      "execution_count": 17,
      "outputs": [
        {
          "output_type": "stream",
          "name": "stdout",
          "text": [
            "'data.frame':\t41176 obs. of  21 variables:\n",
            " $ age           : int  56 57 37 40 56 45 59 41 24 25 ...\n",
            " $ job           : chr  \"housemaid\" \"services\" \"services\" \"admin.\" ...\n",
            " $ marital       : chr  \"married\" \"married\" \"married\" \"married\" ...\n",
            " $ education     : chr  \"basic.4y\" \"high.school\" \"high.school\" \"basic.6y\" ...\n",
            " $ default       : chr  \"no\" \"unknown\" \"no\" \"no\" ...\n",
            " $ housing       : chr  \"no\" \"no\" \"yes\" \"no\" ...\n",
            " $ loan          : chr  \"no\" \"no\" \"no\" \"no\" ...\n",
            " $ contact       : chr  \"telephone\" \"telephone\" \"telephone\" \"telephone\" ...\n",
            " $ month         : chr  \"may\" \"may\" \"may\" \"may\" ...\n",
            " $ day_of_week   : chr  \"mon\" \"mon\" \"mon\" \"mon\" ...\n",
            " $ duration      : int  261 149 226 151 307 198 139 217 380 50 ...\n",
            " $ campaign      : int  1 1 1 1 1 1 1 1 1 1 ...\n",
            " $ pdays         : int  999 999 999 999 999 999 999 999 999 999 ...\n",
            " $ previous      : int  0 0 0 0 0 0 0 0 0 0 ...\n",
            " $ poutcome      : chr  \"nonexistent\" \"nonexistent\" \"nonexistent\" \"nonexistent\" ...\n",
            " $ emp.var.rate  : num  1.1 1.1 1.1 1.1 1.1 1.1 1.1 1.1 1.1 1.1 ...\n",
            " $ cons.price.idx: num  94 94 94 94 94 ...\n",
            " $ cons.conf.idx : num  -36.4 -36.4 -36.4 -36.4 -36.4 -36.4 -36.4 -36.4 -36.4 -36.4 ...\n",
            " $ euribor3m     : num  4.86 4.86 4.86 4.86 4.86 ...\n",
            " $ nr.employed   : num  5191 5191 5191 5191 5191 ...\n",
            " $ y             : chr  \"no\" \"no\" \"no\" \"no\" ...\n"
          ]
        }
      ]
    },
    {
      "cell_type": "code",
      "source": [
        "summary(df)"
      ],
      "metadata": {
        "colab": {
          "base_uri": "https://localhost:8080/",
          "height": 731
        },
        "id": "yfrCUX3TYh-e",
        "outputId": "197f35a2-1d75-409b-c461-ee34f2748807"
      },
      "execution_count": 18,
      "outputs": [
        {
          "output_type": "display_data",
          "data": {
            "text/plain": [
              "      age            job              marital           education        \n",
              " Min.   :17.00   Length:41176       Length:41176       Length:41176      \n",
              " 1st Qu.:32.00   Class :character   Class :character   Class :character  \n",
              " Median :38.00   Mode  :character   Mode  :character   Mode  :character  \n",
              " Mean   :40.02                                                           \n",
              " 3rd Qu.:47.00                                                           \n",
              " Max.   :98.00                                                           \n",
              "   default            housing              loan             contact         \n",
              " Length:41176       Length:41176       Length:41176       Length:41176      \n",
              " Class :character   Class :character   Class :character   Class :character  \n",
              " Mode  :character   Mode  :character   Mode  :character   Mode  :character  \n",
              "                                                                            \n",
              "                                                                            \n",
              "                                                                            \n",
              "    month           day_of_week           duration         campaign     \n",
              " Length:41176       Length:41176       Min.   :   0.0   Min.   : 1.000  \n",
              " Class :character   Class :character   1st Qu.: 102.0   1st Qu.: 1.000  \n",
              " Mode  :character   Mode  :character   Median : 180.0   Median : 2.000  \n",
              "                                       Mean   : 258.3   Mean   : 2.568  \n",
              "                                       3rd Qu.: 319.0   3rd Qu.: 3.000  \n",
              "                                       Max.   :4918.0   Max.   :56.000  \n",
              "     pdays          previous       poutcome          emp.var.rate     \n",
              " Min.   :  0.0   Min.   :0.000   Length:41176       Min.   :-3.40000  \n",
              " 1st Qu.:999.0   1st Qu.:0.000   Class :character   1st Qu.:-1.80000  \n",
              " Median :999.0   Median :0.000   Mode  :character   Median : 1.10000  \n",
              " Mean   :962.5   Mean   :0.173                      Mean   : 0.08192  \n",
              " 3rd Qu.:999.0   3rd Qu.:0.000                      3rd Qu.: 1.40000  \n",
              " Max.   :999.0   Max.   :7.000                      Max.   : 1.40000  \n",
              " cons.price.idx  cons.conf.idx     euribor3m      nr.employed  \n",
              " Min.   :92.20   Min.   :-50.8   Min.   :0.634   Min.   :4964  \n",
              " 1st Qu.:93.08   1st Qu.:-42.7   1st Qu.:1.344   1st Qu.:5099  \n",
              " Median :93.75   Median :-41.8   Median :4.857   Median :5191  \n",
              " Mean   :93.58   Mean   :-40.5   Mean   :3.621   Mean   :5167  \n",
              " 3rd Qu.:93.99   3rd Qu.:-36.4   3rd Qu.:4.961   3rd Qu.:5228  \n",
              " Max.   :94.77   Max.   :-26.9   Max.   :5.045   Max.   :5228  \n",
              "      y            \n",
              " Length:41176      \n",
              " Class :character  \n",
              " Mode  :character  \n",
              "                   \n",
              "                   \n",
              "                   "
            ]
          },
          "metadata": {}
        }
      ]
    },
    {
      "cell_type": "code",
      "source": [
        "boxplot(df)"
      ],
      "metadata": {
        "colab": {
          "base_uri": "https://localhost:8080/",
          "height": 292
        },
        "id": "28hsFW9_YpTO",
        "outputId": "b7df51ca-52a5-46bb-f4e2-98ce570ebd5c"
      },
      "execution_count": 20,
      "outputs": [
        {
          "output_type": "error",
          "ename": "ERROR",
          "evalue": "Error in x[floor(d)] + x[ceiling(d)]: non-numeric argument to binary operator\n",
          "traceback": [
            "Error in x[floor(d)] + x[ceiling(d)]: non-numeric argument to binary operator\nTraceback:\n",
            "1. boxplot.default(df)",
            "2. boxplot.stats(unclass(groups[[i]]), range)",
            "3. stats::fivenum(x, na.rm = TRUE)",
            "4. .handleSimpleError(function (cnd) \n . {\n .     watcher$capture_plot_and_output()\n .     cnd <- sanitize_call(cnd)\n .     watcher$push(cnd)\n .     switch(on_error, continue = invokeRestart(\"eval_continue\"), \n .         stop = invokeRestart(\"eval_stop\"), error = NULL)\n . }, \"non-numeric argument to binary operator\", base::quote(x[floor(d)] + \n .     x[ceiling(d)]))"
          ]
        }
      ]
    },
    {
      "cell_type": "code",
      "source": [
        "select_if(df, is.numeric)"
      ],
      "metadata": {
        "colab": {
          "base_uri": "https://localhost:8080/",
          "height": 1000
        },
        "id": "eD1GOLLEPLIn",
        "outputId": "569b80ef-8c4a-47cb-dd74-fc3de02c4dab"
      },
      "execution_count": 33,
      "outputs": [
        {
          "output_type": "display_data",
          "data": {
            "text/html": [
              "<table class=\"dataframe\">\n",
              "<caption>A data.frame: 41176 × 10</caption>\n",
              "<thead>\n",
              "\t<tr><th scope=col>age</th><th scope=col>duration</th><th scope=col>campaign</th><th scope=col>pdays</th><th scope=col>previous</th><th scope=col>emp.var.rate</th><th scope=col>cons.price.idx</th><th scope=col>cons.conf.idx</th><th scope=col>euribor3m</th><th scope=col>nr.employed</th></tr>\n",
              "\t<tr><th scope=col>&lt;int&gt;</th><th scope=col>&lt;int&gt;</th><th scope=col>&lt;int&gt;</th><th scope=col>&lt;int&gt;</th><th scope=col>&lt;int&gt;</th><th scope=col>&lt;dbl&gt;</th><th scope=col>&lt;dbl&gt;</th><th scope=col>&lt;dbl&gt;</th><th scope=col>&lt;dbl&gt;</th><th scope=col>&lt;dbl&gt;</th></tr>\n",
              "</thead>\n",
              "<tbody>\n",
              "\t<tr><td>56</td><td>261</td><td>1</td><td>999</td><td>0</td><td>1.1</td><td>93.994</td><td>-36.4</td><td>4.857</td><td>5191</td></tr>\n",
              "\t<tr><td>57</td><td>149</td><td>1</td><td>999</td><td>0</td><td>1.1</td><td>93.994</td><td>-36.4</td><td>4.857</td><td>5191</td></tr>\n",
              "\t<tr><td>37</td><td>226</td><td>1</td><td>999</td><td>0</td><td>1.1</td><td>93.994</td><td>-36.4</td><td>4.857</td><td>5191</td></tr>\n",
              "\t<tr><td>40</td><td>151</td><td>1</td><td>999</td><td>0</td><td>1.1</td><td>93.994</td><td>-36.4</td><td>4.857</td><td>5191</td></tr>\n",
              "\t<tr><td>56</td><td>307</td><td>1</td><td>999</td><td>0</td><td>1.1</td><td>93.994</td><td>-36.4</td><td>4.857</td><td>5191</td></tr>\n",
              "\t<tr><td>45</td><td>198</td><td>1</td><td>999</td><td>0</td><td>1.1</td><td>93.994</td><td>-36.4</td><td>4.857</td><td>5191</td></tr>\n",
              "\t<tr><td>59</td><td>139</td><td>1</td><td>999</td><td>0</td><td>1.1</td><td>93.994</td><td>-36.4</td><td>4.857</td><td>5191</td></tr>\n",
              "\t<tr><td>41</td><td>217</td><td>1</td><td>999</td><td>0</td><td>1.1</td><td>93.994</td><td>-36.4</td><td>4.857</td><td>5191</td></tr>\n",
              "\t<tr><td>24</td><td>380</td><td>1</td><td>999</td><td>0</td><td>1.1</td><td>93.994</td><td>-36.4</td><td>4.857</td><td>5191</td></tr>\n",
              "\t<tr><td>25</td><td> 50</td><td>1</td><td>999</td><td>0</td><td>1.1</td><td>93.994</td><td>-36.4</td><td>4.857</td><td>5191</td></tr>\n",
              "\t<tr><td>41</td><td> 55</td><td>1</td><td>999</td><td>0</td><td>1.1</td><td>93.994</td><td>-36.4</td><td>4.857</td><td>5191</td></tr>\n",
              "\t<tr><td>25</td><td>222</td><td>1</td><td>999</td><td>0</td><td>1.1</td><td>93.994</td><td>-36.4</td><td>4.857</td><td>5191</td></tr>\n",
              "\t<tr><td>29</td><td>137</td><td>1</td><td>999</td><td>0</td><td>1.1</td><td>93.994</td><td>-36.4</td><td>4.857</td><td>5191</td></tr>\n",
              "\t<tr><td>57</td><td>293</td><td>1</td><td>999</td><td>0</td><td>1.1</td><td>93.994</td><td>-36.4</td><td>4.857</td><td>5191</td></tr>\n",
              "\t<tr><td>35</td><td>146</td><td>1</td><td>999</td><td>0</td><td>1.1</td><td>93.994</td><td>-36.4</td><td>4.857</td><td>5191</td></tr>\n",
              "\t<tr><td>54</td><td>174</td><td>1</td><td>999</td><td>0</td><td>1.1</td><td>93.994</td><td>-36.4</td><td>4.857</td><td>5191</td></tr>\n",
              "\t<tr><td>35</td><td>312</td><td>1</td><td>999</td><td>0</td><td>1.1</td><td>93.994</td><td>-36.4</td><td>4.857</td><td>5191</td></tr>\n",
              "\t<tr><td>46</td><td>440</td><td>1</td><td>999</td><td>0</td><td>1.1</td><td>93.994</td><td>-36.4</td><td>4.857</td><td>5191</td></tr>\n",
              "\t<tr><td>50</td><td>353</td><td>1</td><td>999</td><td>0</td><td>1.1</td><td>93.994</td><td>-36.4</td><td>4.857</td><td>5191</td></tr>\n",
              "\t<tr><td>39</td><td>195</td><td>1</td><td>999</td><td>0</td><td>1.1</td><td>93.994</td><td>-36.4</td><td>4.857</td><td>5191</td></tr>\n",
              "\t<tr><td>30</td><td> 38</td><td>1</td><td>999</td><td>0</td><td>1.1</td><td>93.994</td><td>-36.4</td><td>4.857</td><td>5191</td></tr>\n",
              "\t<tr><td>55</td><td>262</td><td>1</td><td>999</td><td>0</td><td>1.1</td><td>93.994</td><td>-36.4</td><td>4.857</td><td>5191</td></tr>\n",
              "\t<tr><td>55</td><td>342</td><td>1</td><td>999</td><td>0</td><td>1.1</td><td>93.994</td><td>-36.4</td><td>4.857</td><td>5191</td></tr>\n",
              "\t<tr><td>41</td><td>181</td><td>1</td><td>999</td><td>0</td><td>1.1</td><td>93.994</td><td>-36.4</td><td>4.857</td><td>5191</td></tr>\n",
              "\t<tr><td>37</td><td>172</td><td>1</td><td>999</td><td>0</td><td>1.1</td><td>93.994</td><td>-36.4</td><td>4.857</td><td>5191</td></tr>\n",
              "\t<tr><td>35</td><td> 99</td><td>1</td><td>999</td><td>0</td><td>1.1</td><td>93.994</td><td>-36.4</td><td>4.857</td><td>5191</td></tr>\n",
              "\t<tr><td>59</td><td> 93</td><td>1</td><td>999</td><td>0</td><td>1.1</td><td>93.994</td><td>-36.4</td><td>4.857</td><td>5191</td></tr>\n",
              "\t<tr><td>39</td><td>233</td><td>1</td><td>999</td><td>0</td><td>1.1</td><td>93.994</td><td>-36.4</td><td>4.857</td><td>5191</td></tr>\n",
              "\t<tr><td>54</td><td>255</td><td>2</td><td>999</td><td>0</td><td>1.1</td><td>93.994</td><td>-36.4</td><td>4.857</td><td>5191</td></tr>\n",
              "\t<tr><td>55</td><td>362</td><td>1</td><td>999</td><td>0</td><td>1.1</td><td>93.994</td><td>-36.4</td><td>4.857</td><td>5191</td></tr>\n",
              "\t<tr><td>⋮</td><td>⋮</td><td>⋮</td><td>⋮</td><td>⋮</td><td>⋮</td><td>⋮</td><td>⋮</td><td>⋮</td><td>⋮</td></tr>\n",
              "\t<tr><td>35</td><td> 363</td><td>1</td><td>999</td><td>0</td><td>-1.1</td><td>94.767</td><td>-50.8</td><td>1.035</td><td>4963.6</td></tr>\n",
              "\t<tr><td>35</td><td> 514</td><td>1</td><td>  9</td><td>4</td><td>-1.1</td><td>94.767</td><td>-50.8</td><td>1.035</td><td>4963.6</td></tr>\n",
              "\t<tr><td>33</td><td> 843</td><td>1</td><td>999</td><td>0</td><td>-1.1</td><td>94.767</td><td>-50.8</td><td>1.035</td><td>4963.6</td></tr>\n",
              "\t<tr><td>33</td><td> 510</td><td>1</td><td>999</td><td>1</td><td>-1.1</td><td>94.767</td><td>-50.8</td><td>1.035</td><td>4963.6</td></tr>\n",
              "\t<tr><td>60</td><td> 347</td><td>2</td><td>  4</td><td>1</td><td>-1.1</td><td>94.767</td><td>-50.8</td><td>1.035</td><td>4963.6</td></tr>\n",
              "\t<tr><td>35</td><td> 385</td><td>3</td><td>  4</td><td>2</td><td>-1.1</td><td>94.767</td><td>-50.8</td><td>1.035</td><td>4963.6</td></tr>\n",
              "\t<tr><td>54</td><td>1868</td><td>2</td><td> 10</td><td>1</td><td>-1.1</td><td>94.767</td><td>-50.8</td><td>1.035</td><td>4963.6</td></tr>\n",
              "\t<tr><td>38</td><td> 403</td><td>2</td><td>999</td><td>0</td><td>-1.1</td><td>94.767</td><td>-50.8</td><td>1.030</td><td>4963.6</td></tr>\n",
              "\t<tr><td>32</td><td> 651</td><td>1</td><td>999</td><td>1</td><td>-1.1</td><td>94.767</td><td>-50.8</td><td>1.030</td><td>4963.6</td></tr>\n",
              "\t<tr><td>32</td><td> 236</td><td>3</td><td>999</td><td>0</td><td>-1.1</td><td>94.767</td><td>-50.8</td><td>1.030</td><td>4963.6</td></tr>\n",
              "\t<tr><td>38</td><td> 144</td><td>2</td><td>999</td><td>0</td><td>-1.1</td><td>94.767</td><td>-50.8</td><td>1.030</td><td>4963.6</td></tr>\n",
              "\t<tr><td>62</td><td> 154</td><td>5</td><td>999</td><td>0</td><td>-1.1</td><td>94.767</td><td>-50.8</td><td>1.030</td><td>4963.6</td></tr>\n",
              "\t<tr><td>40</td><td> 293</td><td>2</td><td>999</td><td>4</td><td>-1.1</td><td>94.767</td><td>-50.8</td><td>1.030</td><td>4963.6</td></tr>\n",
              "\t<tr><td>33</td><td> 112</td><td>1</td><td>999</td><td>0</td><td>-1.1</td><td>94.767</td><td>-50.8</td><td>1.031</td><td>4963.6</td></tr>\n",
              "\t<tr><td>31</td><td> 353</td><td>1</td><td>999</td><td>0</td><td>-1.1</td><td>94.767</td><td>-50.8</td><td>1.031</td><td>4963.6</td></tr>\n",
              "\t<tr><td>62</td><td> 329</td><td>1</td><td>999</td><td>2</td><td>-1.1</td><td>94.767</td><td>-50.8</td><td>1.031</td><td>4963.6</td></tr>\n",
              "\t<tr><td>62</td><td> 208</td><td>1</td><td>  1</td><td>6</td><td>-1.1</td><td>94.767</td><td>-50.8</td><td>1.031</td><td>4963.6</td></tr>\n",
              "\t<tr><td>34</td><td> 180</td><td>1</td><td>999</td><td>2</td><td>-1.1</td><td>94.767</td><td>-50.8</td><td>1.031</td><td>4963.6</td></tr>\n",
              "\t<tr><td>38</td><td> 360</td><td>1</td><td>999</td><td>0</td><td>-1.1</td><td>94.767</td><td>-50.8</td><td>1.031</td><td>4963.6</td></tr>\n",
              "\t<tr><td>57</td><td> 124</td><td>6</td><td>999</td><td>0</td><td>-1.1</td><td>94.767</td><td>-50.8</td><td>1.031</td><td>4963.6</td></tr>\n",
              "\t<tr><td>62</td><td> 483</td><td>2</td><td>  6</td><td>3</td><td>-1.1</td><td>94.767</td><td>-50.8</td><td>1.031</td><td>4963.6</td></tr>\n",
              "\t<tr><td>64</td><td> 151</td><td>3</td><td>999</td><td>0</td><td>-1.1</td><td>94.767</td><td>-50.8</td><td>1.028</td><td>4963.6</td></tr>\n",
              "\t<tr><td>36</td><td> 254</td><td>2</td><td>999</td><td>0</td><td>-1.1</td><td>94.767</td><td>-50.8</td><td>1.028</td><td>4963.6</td></tr>\n",
              "\t<tr><td>37</td><td> 281</td><td>1</td><td>999</td><td>0</td><td>-1.1</td><td>94.767</td><td>-50.8</td><td>1.028</td><td>4963.6</td></tr>\n",
              "\t<tr><td>29</td><td> 112</td><td>1</td><td>  9</td><td>1</td><td>-1.1</td><td>94.767</td><td>-50.8</td><td>1.028</td><td>4963.6</td></tr>\n",
              "\t<tr><td>73</td><td> 334</td><td>1</td><td>999</td><td>0</td><td>-1.1</td><td>94.767</td><td>-50.8</td><td>1.028</td><td>4963.6</td></tr>\n",
              "\t<tr><td>46</td><td> 383</td><td>1</td><td>999</td><td>0</td><td>-1.1</td><td>94.767</td><td>-50.8</td><td>1.028</td><td>4963.6</td></tr>\n",
              "\t<tr><td>56</td><td> 189</td><td>2</td><td>999</td><td>0</td><td>-1.1</td><td>94.767</td><td>-50.8</td><td>1.028</td><td>4963.6</td></tr>\n",
              "\t<tr><td>44</td><td> 442</td><td>1</td><td>999</td><td>0</td><td>-1.1</td><td>94.767</td><td>-50.8</td><td>1.028</td><td>4963.6</td></tr>\n",
              "\t<tr><td>74</td><td> 239</td><td>3</td><td>999</td><td>1</td><td>-1.1</td><td>94.767</td><td>-50.8</td><td>1.028</td><td>4963.6</td></tr>\n",
              "</tbody>\n",
              "</table>\n"
            ],
            "text/markdown": "\nA data.frame: 41176 × 10\n\n| age &lt;int&gt; | duration &lt;int&gt; | campaign &lt;int&gt; | pdays &lt;int&gt; | previous &lt;int&gt; | emp.var.rate &lt;dbl&gt; | cons.price.idx &lt;dbl&gt; | cons.conf.idx &lt;dbl&gt; | euribor3m &lt;dbl&gt; | nr.employed &lt;dbl&gt; |\n|---|---|---|---|---|---|---|---|---|---|\n| 56 | 261 | 1 | 999 | 0 | 1.1 | 93.994 | -36.4 | 4.857 | 5191 |\n| 57 | 149 | 1 | 999 | 0 | 1.1 | 93.994 | -36.4 | 4.857 | 5191 |\n| 37 | 226 | 1 | 999 | 0 | 1.1 | 93.994 | -36.4 | 4.857 | 5191 |\n| 40 | 151 | 1 | 999 | 0 | 1.1 | 93.994 | -36.4 | 4.857 | 5191 |\n| 56 | 307 | 1 | 999 | 0 | 1.1 | 93.994 | -36.4 | 4.857 | 5191 |\n| 45 | 198 | 1 | 999 | 0 | 1.1 | 93.994 | -36.4 | 4.857 | 5191 |\n| 59 | 139 | 1 | 999 | 0 | 1.1 | 93.994 | -36.4 | 4.857 | 5191 |\n| 41 | 217 | 1 | 999 | 0 | 1.1 | 93.994 | -36.4 | 4.857 | 5191 |\n| 24 | 380 | 1 | 999 | 0 | 1.1 | 93.994 | -36.4 | 4.857 | 5191 |\n| 25 |  50 | 1 | 999 | 0 | 1.1 | 93.994 | -36.4 | 4.857 | 5191 |\n| 41 |  55 | 1 | 999 | 0 | 1.1 | 93.994 | -36.4 | 4.857 | 5191 |\n| 25 | 222 | 1 | 999 | 0 | 1.1 | 93.994 | -36.4 | 4.857 | 5191 |\n| 29 | 137 | 1 | 999 | 0 | 1.1 | 93.994 | -36.4 | 4.857 | 5191 |\n| 57 | 293 | 1 | 999 | 0 | 1.1 | 93.994 | -36.4 | 4.857 | 5191 |\n| 35 | 146 | 1 | 999 | 0 | 1.1 | 93.994 | -36.4 | 4.857 | 5191 |\n| 54 | 174 | 1 | 999 | 0 | 1.1 | 93.994 | -36.4 | 4.857 | 5191 |\n| 35 | 312 | 1 | 999 | 0 | 1.1 | 93.994 | -36.4 | 4.857 | 5191 |\n| 46 | 440 | 1 | 999 | 0 | 1.1 | 93.994 | -36.4 | 4.857 | 5191 |\n| 50 | 353 | 1 | 999 | 0 | 1.1 | 93.994 | -36.4 | 4.857 | 5191 |\n| 39 | 195 | 1 | 999 | 0 | 1.1 | 93.994 | -36.4 | 4.857 | 5191 |\n| 30 |  38 | 1 | 999 | 0 | 1.1 | 93.994 | -36.4 | 4.857 | 5191 |\n| 55 | 262 | 1 | 999 | 0 | 1.1 | 93.994 | -36.4 | 4.857 | 5191 |\n| 55 | 342 | 1 | 999 | 0 | 1.1 | 93.994 | -36.4 | 4.857 | 5191 |\n| 41 | 181 | 1 | 999 | 0 | 1.1 | 93.994 | -36.4 | 4.857 | 5191 |\n| 37 | 172 | 1 | 999 | 0 | 1.1 | 93.994 | -36.4 | 4.857 | 5191 |\n| 35 |  99 | 1 | 999 | 0 | 1.1 | 93.994 | -36.4 | 4.857 | 5191 |\n| 59 |  93 | 1 | 999 | 0 | 1.1 | 93.994 | -36.4 | 4.857 | 5191 |\n| 39 | 233 | 1 | 999 | 0 | 1.1 | 93.994 | -36.4 | 4.857 | 5191 |\n| 54 | 255 | 2 | 999 | 0 | 1.1 | 93.994 | -36.4 | 4.857 | 5191 |\n| 55 | 362 | 1 | 999 | 0 | 1.1 | 93.994 | -36.4 | 4.857 | 5191 |\n| ⋮ | ⋮ | ⋮ | ⋮ | ⋮ | ⋮ | ⋮ | ⋮ | ⋮ | ⋮ |\n| 35 |  363 | 1 | 999 | 0 | -1.1 | 94.767 | -50.8 | 1.035 | 4963.6 |\n| 35 |  514 | 1 |   9 | 4 | -1.1 | 94.767 | -50.8 | 1.035 | 4963.6 |\n| 33 |  843 | 1 | 999 | 0 | -1.1 | 94.767 | -50.8 | 1.035 | 4963.6 |\n| 33 |  510 | 1 | 999 | 1 | -1.1 | 94.767 | -50.8 | 1.035 | 4963.6 |\n| 60 |  347 | 2 |   4 | 1 | -1.1 | 94.767 | -50.8 | 1.035 | 4963.6 |\n| 35 |  385 | 3 |   4 | 2 | -1.1 | 94.767 | -50.8 | 1.035 | 4963.6 |\n| 54 | 1868 | 2 |  10 | 1 | -1.1 | 94.767 | -50.8 | 1.035 | 4963.6 |\n| 38 |  403 | 2 | 999 | 0 | -1.1 | 94.767 | -50.8 | 1.030 | 4963.6 |\n| 32 |  651 | 1 | 999 | 1 | -1.1 | 94.767 | -50.8 | 1.030 | 4963.6 |\n| 32 |  236 | 3 | 999 | 0 | -1.1 | 94.767 | -50.8 | 1.030 | 4963.6 |\n| 38 |  144 | 2 | 999 | 0 | -1.1 | 94.767 | -50.8 | 1.030 | 4963.6 |\n| 62 |  154 | 5 | 999 | 0 | -1.1 | 94.767 | -50.8 | 1.030 | 4963.6 |\n| 40 |  293 | 2 | 999 | 4 | -1.1 | 94.767 | -50.8 | 1.030 | 4963.6 |\n| 33 |  112 | 1 | 999 | 0 | -1.1 | 94.767 | -50.8 | 1.031 | 4963.6 |\n| 31 |  353 | 1 | 999 | 0 | -1.1 | 94.767 | -50.8 | 1.031 | 4963.6 |\n| 62 |  329 | 1 | 999 | 2 | -1.1 | 94.767 | -50.8 | 1.031 | 4963.6 |\n| 62 |  208 | 1 |   1 | 6 | -1.1 | 94.767 | -50.8 | 1.031 | 4963.6 |\n| 34 |  180 | 1 | 999 | 2 | -1.1 | 94.767 | -50.8 | 1.031 | 4963.6 |\n| 38 |  360 | 1 | 999 | 0 | -1.1 | 94.767 | -50.8 | 1.031 | 4963.6 |\n| 57 |  124 | 6 | 999 | 0 | -1.1 | 94.767 | -50.8 | 1.031 | 4963.6 |\n| 62 |  483 | 2 |   6 | 3 | -1.1 | 94.767 | -50.8 | 1.031 | 4963.6 |\n| 64 |  151 | 3 | 999 | 0 | -1.1 | 94.767 | -50.8 | 1.028 | 4963.6 |\n| 36 |  254 | 2 | 999 | 0 | -1.1 | 94.767 | -50.8 | 1.028 | 4963.6 |\n| 37 |  281 | 1 | 999 | 0 | -1.1 | 94.767 | -50.8 | 1.028 | 4963.6 |\n| 29 |  112 | 1 |   9 | 1 | -1.1 | 94.767 | -50.8 | 1.028 | 4963.6 |\n| 73 |  334 | 1 | 999 | 0 | -1.1 | 94.767 | -50.8 | 1.028 | 4963.6 |\n| 46 |  383 | 1 | 999 | 0 | -1.1 | 94.767 | -50.8 | 1.028 | 4963.6 |\n| 56 |  189 | 2 | 999 | 0 | -1.1 | 94.767 | -50.8 | 1.028 | 4963.6 |\n| 44 |  442 | 1 | 999 | 0 | -1.1 | 94.767 | -50.8 | 1.028 | 4963.6 |\n| 74 |  239 | 3 | 999 | 1 | -1.1 | 94.767 | -50.8 | 1.028 | 4963.6 |\n\n",
            "text/latex": "A data.frame: 41176 × 10\n\\begin{tabular}{llllllllll}\n age & duration & campaign & pdays & previous & emp.var.rate & cons.price.idx & cons.conf.idx & euribor3m & nr.employed\\\\\n <int> & <int> & <int> & <int> & <int> & <dbl> & <dbl> & <dbl> & <dbl> & <dbl>\\\\\n\\hline\n\t 56 & 261 & 1 & 999 & 0 & 1.1 & 93.994 & -36.4 & 4.857 & 5191\\\\\n\t 57 & 149 & 1 & 999 & 0 & 1.1 & 93.994 & -36.4 & 4.857 & 5191\\\\\n\t 37 & 226 & 1 & 999 & 0 & 1.1 & 93.994 & -36.4 & 4.857 & 5191\\\\\n\t 40 & 151 & 1 & 999 & 0 & 1.1 & 93.994 & -36.4 & 4.857 & 5191\\\\\n\t 56 & 307 & 1 & 999 & 0 & 1.1 & 93.994 & -36.4 & 4.857 & 5191\\\\\n\t 45 & 198 & 1 & 999 & 0 & 1.1 & 93.994 & -36.4 & 4.857 & 5191\\\\\n\t 59 & 139 & 1 & 999 & 0 & 1.1 & 93.994 & -36.4 & 4.857 & 5191\\\\\n\t 41 & 217 & 1 & 999 & 0 & 1.1 & 93.994 & -36.4 & 4.857 & 5191\\\\\n\t 24 & 380 & 1 & 999 & 0 & 1.1 & 93.994 & -36.4 & 4.857 & 5191\\\\\n\t 25 &  50 & 1 & 999 & 0 & 1.1 & 93.994 & -36.4 & 4.857 & 5191\\\\\n\t 41 &  55 & 1 & 999 & 0 & 1.1 & 93.994 & -36.4 & 4.857 & 5191\\\\\n\t 25 & 222 & 1 & 999 & 0 & 1.1 & 93.994 & -36.4 & 4.857 & 5191\\\\\n\t 29 & 137 & 1 & 999 & 0 & 1.1 & 93.994 & -36.4 & 4.857 & 5191\\\\\n\t 57 & 293 & 1 & 999 & 0 & 1.1 & 93.994 & -36.4 & 4.857 & 5191\\\\\n\t 35 & 146 & 1 & 999 & 0 & 1.1 & 93.994 & -36.4 & 4.857 & 5191\\\\\n\t 54 & 174 & 1 & 999 & 0 & 1.1 & 93.994 & -36.4 & 4.857 & 5191\\\\\n\t 35 & 312 & 1 & 999 & 0 & 1.1 & 93.994 & -36.4 & 4.857 & 5191\\\\\n\t 46 & 440 & 1 & 999 & 0 & 1.1 & 93.994 & -36.4 & 4.857 & 5191\\\\\n\t 50 & 353 & 1 & 999 & 0 & 1.1 & 93.994 & -36.4 & 4.857 & 5191\\\\\n\t 39 & 195 & 1 & 999 & 0 & 1.1 & 93.994 & -36.4 & 4.857 & 5191\\\\\n\t 30 &  38 & 1 & 999 & 0 & 1.1 & 93.994 & -36.4 & 4.857 & 5191\\\\\n\t 55 & 262 & 1 & 999 & 0 & 1.1 & 93.994 & -36.4 & 4.857 & 5191\\\\\n\t 55 & 342 & 1 & 999 & 0 & 1.1 & 93.994 & -36.4 & 4.857 & 5191\\\\\n\t 41 & 181 & 1 & 999 & 0 & 1.1 & 93.994 & -36.4 & 4.857 & 5191\\\\\n\t 37 & 172 & 1 & 999 & 0 & 1.1 & 93.994 & -36.4 & 4.857 & 5191\\\\\n\t 35 &  99 & 1 & 999 & 0 & 1.1 & 93.994 & -36.4 & 4.857 & 5191\\\\\n\t 59 &  93 & 1 & 999 & 0 & 1.1 & 93.994 & -36.4 & 4.857 & 5191\\\\\n\t 39 & 233 & 1 & 999 & 0 & 1.1 & 93.994 & -36.4 & 4.857 & 5191\\\\\n\t 54 & 255 & 2 & 999 & 0 & 1.1 & 93.994 & -36.4 & 4.857 & 5191\\\\\n\t 55 & 362 & 1 & 999 & 0 & 1.1 & 93.994 & -36.4 & 4.857 & 5191\\\\\n\t ⋮ & ⋮ & ⋮ & ⋮ & ⋮ & ⋮ & ⋮ & ⋮ & ⋮ & ⋮\\\\\n\t 35 &  363 & 1 & 999 & 0 & -1.1 & 94.767 & -50.8 & 1.035 & 4963.6\\\\\n\t 35 &  514 & 1 &   9 & 4 & -1.1 & 94.767 & -50.8 & 1.035 & 4963.6\\\\\n\t 33 &  843 & 1 & 999 & 0 & -1.1 & 94.767 & -50.8 & 1.035 & 4963.6\\\\\n\t 33 &  510 & 1 & 999 & 1 & -1.1 & 94.767 & -50.8 & 1.035 & 4963.6\\\\\n\t 60 &  347 & 2 &   4 & 1 & -1.1 & 94.767 & -50.8 & 1.035 & 4963.6\\\\\n\t 35 &  385 & 3 &   4 & 2 & -1.1 & 94.767 & -50.8 & 1.035 & 4963.6\\\\\n\t 54 & 1868 & 2 &  10 & 1 & -1.1 & 94.767 & -50.8 & 1.035 & 4963.6\\\\\n\t 38 &  403 & 2 & 999 & 0 & -1.1 & 94.767 & -50.8 & 1.030 & 4963.6\\\\\n\t 32 &  651 & 1 & 999 & 1 & -1.1 & 94.767 & -50.8 & 1.030 & 4963.6\\\\\n\t 32 &  236 & 3 & 999 & 0 & -1.1 & 94.767 & -50.8 & 1.030 & 4963.6\\\\\n\t 38 &  144 & 2 & 999 & 0 & -1.1 & 94.767 & -50.8 & 1.030 & 4963.6\\\\\n\t 62 &  154 & 5 & 999 & 0 & -1.1 & 94.767 & -50.8 & 1.030 & 4963.6\\\\\n\t 40 &  293 & 2 & 999 & 4 & -1.1 & 94.767 & -50.8 & 1.030 & 4963.6\\\\\n\t 33 &  112 & 1 & 999 & 0 & -1.1 & 94.767 & -50.8 & 1.031 & 4963.6\\\\\n\t 31 &  353 & 1 & 999 & 0 & -1.1 & 94.767 & -50.8 & 1.031 & 4963.6\\\\\n\t 62 &  329 & 1 & 999 & 2 & -1.1 & 94.767 & -50.8 & 1.031 & 4963.6\\\\\n\t 62 &  208 & 1 &   1 & 6 & -1.1 & 94.767 & -50.8 & 1.031 & 4963.6\\\\\n\t 34 &  180 & 1 & 999 & 2 & -1.1 & 94.767 & -50.8 & 1.031 & 4963.6\\\\\n\t 38 &  360 & 1 & 999 & 0 & -1.1 & 94.767 & -50.8 & 1.031 & 4963.6\\\\\n\t 57 &  124 & 6 & 999 & 0 & -1.1 & 94.767 & -50.8 & 1.031 & 4963.6\\\\\n\t 62 &  483 & 2 &   6 & 3 & -1.1 & 94.767 & -50.8 & 1.031 & 4963.6\\\\\n\t 64 &  151 & 3 & 999 & 0 & -1.1 & 94.767 & -50.8 & 1.028 & 4963.6\\\\\n\t 36 &  254 & 2 & 999 & 0 & -1.1 & 94.767 & -50.8 & 1.028 & 4963.6\\\\\n\t 37 &  281 & 1 & 999 & 0 & -1.1 & 94.767 & -50.8 & 1.028 & 4963.6\\\\\n\t 29 &  112 & 1 &   9 & 1 & -1.1 & 94.767 & -50.8 & 1.028 & 4963.6\\\\\n\t 73 &  334 & 1 & 999 & 0 & -1.1 & 94.767 & -50.8 & 1.028 & 4963.6\\\\\n\t 46 &  383 & 1 & 999 & 0 & -1.1 & 94.767 & -50.8 & 1.028 & 4963.6\\\\\n\t 56 &  189 & 2 & 999 & 0 & -1.1 & 94.767 & -50.8 & 1.028 & 4963.6\\\\\n\t 44 &  442 & 1 & 999 & 0 & -1.1 & 94.767 & -50.8 & 1.028 & 4963.6\\\\\n\t 74 &  239 & 3 & 999 & 1 & -1.1 & 94.767 & -50.8 & 1.028 & 4963.6\\\\\n\\end{tabular}\n",
            "text/plain": [
              "      age duration campaign pdays previous emp.var.rate cons.price.idx\n",
              "1     56  261      1        999   0        1.1          93.994        \n",
              "2     57  149      1        999   0        1.1          93.994        \n",
              "3     37  226      1        999   0        1.1          93.994        \n",
              "4     40  151      1        999   0        1.1          93.994        \n",
              "5     56  307      1        999   0        1.1          93.994        \n",
              "6     45  198      1        999   0        1.1          93.994        \n",
              "7     59  139      1        999   0        1.1          93.994        \n",
              "8     41  217      1        999   0        1.1          93.994        \n",
              "9     24  380      1        999   0        1.1          93.994        \n",
              "10    25   50      1        999   0        1.1          93.994        \n",
              "11    41   55      1        999   0        1.1          93.994        \n",
              "12    25  222      1        999   0        1.1          93.994        \n",
              "13    29  137      1        999   0        1.1          93.994        \n",
              "14    57  293      1        999   0        1.1          93.994        \n",
              "15    35  146      1        999   0        1.1          93.994        \n",
              "16    54  174      1        999   0        1.1          93.994        \n",
              "17    35  312      1        999   0        1.1          93.994        \n",
              "18    46  440      1        999   0        1.1          93.994        \n",
              "19    50  353      1        999   0        1.1          93.994        \n",
              "20    39  195      1        999   0        1.1          93.994        \n",
              "21    30   38      1        999   0        1.1          93.994        \n",
              "22    55  262      1        999   0        1.1          93.994        \n",
              "23    55  342      1        999   0        1.1          93.994        \n",
              "24    41  181      1        999   0        1.1          93.994        \n",
              "25    37  172      1        999   0        1.1          93.994        \n",
              "26    35   99      1        999   0        1.1          93.994        \n",
              "27    59   93      1        999   0        1.1          93.994        \n",
              "28    39  233      1        999   0        1.1          93.994        \n",
              "29    54  255      2        999   0        1.1          93.994        \n",
              "30    55  362      1        999   0        1.1          93.994        \n",
              "⋮     ⋮   ⋮        ⋮        ⋮     ⋮        ⋮            ⋮             \n",
              "41147 35   363     1        999   0        -1.1         94.767        \n",
              "41148 35   514     1          9   4        -1.1         94.767        \n",
              "41149 33   843     1        999   0        -1.1         94.767        \n",
              "41150 33   510     1        999   1        -1.1         94.767        \n",
              "41151 60   347     2          4   1        -1.1         94.767        \n",
              "41152 35   385     3          4   2        -1.1         94.767        \n",
              "41153 54  1868     2         10   1        -1.1         94.767        \n",
              "41154 38   403     2        999   0        -1.1         94.767        \n",
              "41155 32   651     1        999   1        -1.1         94.767        \n",
              "41156 32   236     3        999   0        -1.1         94.767        \n",
              "41157 38   144     2        999   0        -1.1         94.767        \n",
              "41158 62   154     5        999   0        -1.1         94.767        \n",
              "41159 40   293     2        999   4        -1.1         94.767        \n",
              "41160 33   112     1        999   0        -1.1         94.767        \n",
              "41161 31   353     1        999   0        -1.1         94.767        \n",
              "41162 62   329     1        999   2        -1.1         94.767        \n",
              "41163 62   208     1          1   6        -1.1         94.767        \n",
              "41164 34   180     1        999   2        -1.1         94.767        \n",
              "41165 38   360     1        999   0        -1.1         94.767        \n",
              "41166 57   124     6        999   0        -1.1         94.767        \n",
              "41167 62   483     2          6   3        -1.1         94.767        \n",
              "41168 64   151     3        999   0        -1.1         94.767        \n",
              "41169 36   254     2        999   0        -1.1         94.767        \n",
              "41170 37   281     1        999   0        -1.1         94.767        \n",
              "41171 29   112     1          9   1        -1.1         94.767        \n",
              "41172 73   334     1        999   0        -1.1         94.767        \n",
              "41173 46   383     1        999   0        -1.1         94.767        \n",
              "41174 56   189     2        999   0        -1.1         94.767        \n",
              "41175 44   442     1        999   0        -1.1         94.767        \n",
              "41176 74   239     3        999   1        -1.1         94.767        \n",
              "      cons.conf.idx euribor3m nr.employed\n",
              "1     -36.4         4.857     5191       \n",
              "2     -36.4         4.857     5191       \n",
              "3     -36.4         4.857     5191       \n",
              "4     -36.4         4.857     5191       \n",
              "5     -36.4         4.857     5191       \n",
              "6     -36.4         4.857     5191       \n",
              "7     -36.4         4.857     5191       \n",
              "8     -36.4         4.857     5191       \n",
              "9     -36.4         4.857     5191       \n",
              "10    -36.4         4.857     5191       \n",
              "11    -36.4         4.857     5191       \n",
              "12    -36.4         4.857     5191       \n",
              "13    -36.4         4.857     5191       \n",
              "14    -36.4         4.857     5191       \n",
              "15    -36.4         4.857     5191       \n",
              "16    -36.4         4.857     5191       \n",
              "17    -36.4         4.857     5191       \n",
              "18    -36.4         4.857     5191       \n",
              "19    -36.4         4.857     5191       \n",
              "20    -36.4         4.857     5191       \n",
              "21    -36.4         4.857     5191       \n",
              "22    -36.4         4.857     5191       \n",
              "23    -36.4         4.857     5191       \n",
              "24    -36.4         4.857     5191       \n",
              "25    -36.4         4.857     5191       \n",
              "26    -36.4         4.857     5191       \n",
              "27    -36.4         4.857     5191       \n",
              "28    -36.4         4.857     5191       \n",
              "29    -36.4         4.857     5191       \n",
              "30    -36.4         4.857     5191       \n",
              "⋮     ⋮             ⋮         ⋮          \n",
              "41147 -50.8         1.035     4963.6     \n",
              "41148 -50.8         1.035     4963.6     \n",
              "41149 -50.8         1.035     4963.6     \n",
              "41150 -50.8         1.035     4963.6     \n",
              "41151 -50.8         1.035     4963.6     \n",
              "41152 -50.8         1.035     4963.6     \n",
              "41153 -50.8         1.035     4963.6     \n",
              "41154 -50.8         1.030     4963.6     \n",
              "41155 -50.8         1.030     4963.6     \n",
              "41156 -50.8         1.030     4963.6     \n",
              "41157 -50.8         1.030     4963.6     \n",
              "41158 -50.8         1.030     4963.6     \n",
              "41159 -50.8         1.030     4963.6     \n",
              "41160 -50.8         1.031     4963.6     \n",
              "41161 -50.8         1.031     4963.6     \n",
              "41162 -50.8         1.031     4963.6     \n",
              "41163 -50.8         1.031     4963.6     \n",
              "41164 -50.8         1.031     4963.6     \n",
              "41165 -50.8         1.031     4963.6     \n",
              "41166 -50.8         1.031     4963.6     \n",
              "41167 -50.8         1.031     4963.6     \n",
              "41168 -50.8         1.028     4963.6     \n",
              "41169 -50.8         1.028     4963.6     \n",
              "41170 -50.8         1.028     4963.6     \n",
              "41171 -50.8         1.028     4963.6     \n",
              "41172 -50.8         1.028     4963.6     \n",
              "41173 -50.8         1.028     4963.6     \n",
              "41174 -50.8         1.028     4963.6     \n",
              "41175 -50.8         1.028     4963.6     \n",
              "41176 -50.8         1.028     4963.6     "
            ]
          },
          "metadata": {}
        }
      ]
    },
    {
      "cell_type": "code",
      "source": [
        "column(select_if(df, is.numeric))"
      ],
      "metadata": {
        "colab": {
          "base_uri": "https://localhost:8080/",
          "height": 71
        },
        "id": "-utSIPQdP1Xp",
        "outputId": "95b51b1b-fece-4df9-f896-e8fd3a1d3e5f"
      },
      "execution_count": 34,
      "outputs": [
        {
          "output_type": "error",
          "ename": "ERROR",
          "evalue": "Error in column(select_if(df, is.numeric)): could not find function \"column\"\n",
          "traceback": [
            "Error in column(select_if(df, is.numeric)): could not find function \"column\"\nTraceback:\n"
          ]
        }
      ]
    },
    {
      "cell_type": "code",
      "source": [
        "for (column in names(df)[sapply(df, function(x) !is.numeric(x))]) {\n",
        "  cat(column, \"\\n\")\n",
        "  print(table(df[[column]]))\n",
        "  cat(\"\\n\\n\")\n",
        "}"
      ],
      "metadata": {
        "colab": {
          "base_uri": "https://localhost:8080/"
        },
        "id": "1CMAgvMhQ_Fo",
        "outputId": "790c1f6c-7bb2-4b8c-9d23-1bf90fe3f57d"
      },
      "execution_count": 40,
      "outputs": [
        {
          "output_type": "stream",
          "name": "stdout",
          "text": [
            "job \n",
            "\n",
            "       admin.   blue-collar  entrepreneur     housemaid    management \n",
            "        10422          9254          1456          1060          2924 \n",
            "      retired self-employed      services       student    technician \n",
            "         1720          1421          3969           875          6743 \n",
            "   unemployed       unknown \n",
            "         1014           330 \n",
            "\n",
            "\n",
            "marital \n",
            "\n",
            "divorced  married   single  unknown \n",
            "    4612    24928    11568       80 \n",
            "\n",
            "\n",
            "education \n",
            "\n",
            "           basic.4y            basic.6y            basic.9y         high.school \n",
            "               4176                2292                6045                9515 \n",
            "         illiterate professional.course   university.degree             unknown \n",
            "                 18                5243               12168                1731 \n",
            "\n",
            "\n",
            "default \n",
            "\n",
            "     no unknown     yes \n",
            "  32588    8597       3 \n",
            "\n",
            "\n",
            "housing \n",
            "\n",
            "     no unknown     yes \n",
            "  18622     990   21576 \n",
            "\n",
            "\n",
            "loan \n",
            "\n",
            "     no unknown     yes \n",
            "  33950     990    6248 \n",
            "\n",
            "\n",
            "contact \n",
            "\n",
            " cellular telephone \n",
            "    26144     15044 \n",
            "\n",
            "\n",
            "month \n",
            "\n",
            "  apr   aug   dec   jul   jun   mar   may   nov   oct   sep \n",
            " 2632  6178   182  7174  5318   546 13769  4101   718   570 \n",
            "\n",
            "\n",
            "day_of_week \n",
            "\n",
            " fri  mon  thu  tue  wed \n",
            "7827 8514 8623 8090 8134 \n",
            "\n",
            "\n",
            "poutcome \n",
            "\n",
            "    failure nonexistent     success \n",
            "       4252       35563        1373 \n",
            "\n",
            "\n",
            "y \n",
            "\n",
            "   no   yes \n",
            "36548  4640 \n",
            "\n",
            "\n"
          ]
        }
      ]
    },
    {
      "cell_type": "code",
      "source": [],
      "metadata": {
        "id": "btIxcETWTvcn"
      },
      "execution_count": null,
      "outputs": []
    }
  ]
}