{
  "nbformat": 4,
  "nbformat_minor": 0,
  "metadata": {
    "colab": {
      "provenance": [],
      "authorship_tag": "ABX9TyPEOecbMs0IwqEgWcU0pQyb",
      "include_colab_link": true
    },
    "kernelspec": {
      "name": "ir",
      "display_name": "R"
    },
    "language_info": {
      "name": "R"
    }
  },
  "cells": [
    {
      "cell_type": "markdown",
      "metadata": {
        "id": "view-in-github",
        "colab_type": "text"
      },
      "source": [
        "<a href=\"https://colab.research.google.com/github/michp15/statistical_learning_class/blob/main/stat_learn_classif_proj.ipynb\" target=\"_parent\"><img src=\"https://colab.research.google.com/assets/colab-badge.svg\" alt=\"Open In Colab\"/></a>"
      ]
    },
    {
      "cell_type": "code",
      "source": [
        "# Install necessary packages.\n",
        "\n",
        "install.packages('glmnet')\n",
        "install.packages('caret')\n",
        "install.packages('car')\n",
        "install.packages('rsample')\n",
        "install.packages('MLmetrics')"
      ],
      "metadata": {
        "id": "RLEFhe2KwEGu",
        "colab": {
          "base_uri": "https://localhost:8080/"
        },
        "outputId": "5dd4e763-489b-4a76-e72f-118583b82ad9"
      },
      "execution_count": null,
      "outputs": [
        {
          "output_type": "stream",
          "name": "stderr",
          "text": [
            "Installing package into ‘/usr/local/lib/R/site-library’\n",
            "(as ‘lib’ is unspecified)\n",
            "\n",
            "also installing the dependencies ‘iterators’, ‘foreach’, ‘shape’, ‘RcppEigen’\n",
            "\n",
            "\n",
            "Installing package into ‘/usr/local/lib/R/site-library’\n",
            "(as ‘lib’ is unspecified)\n",
            "\n",
            "also installing the dependencies ‘listenv’, ‘parallelly’, ‘future’, ‘globals’, ‘future.apply’, ‘numDeriv’, ‘progressr’, ‘SQUAREM’, ‘diagram’, ‘lava’, ‘prodlim’, ‘proxy’, ‘clock’, ‘gower’, ‘hardhat’, ‘ipred’, ‘sparsevctrs’, ‘timeDate’, ‘e1071’, ‘ModelMetrics’, ‘plyr’, ‘pROC’, ‘recipes’, ‘reshape2’\n",
            "\n",
            "\n",
            "Installing package into ‘/usr/local/lib/R/site-library’\n",
            "(as ‘lib’ is unspecified)\n",
            "\n",
            "also installing the dependencies ‘rbibutils’, ‘cowplot’, ‘Deriv’, ‘microbenchmark’, ‘Rdpack’, ‘doBy’, ‘SparseM’, ‘MatrixModels’, ‘minqa’, ‘nloptr’, ‘reformulas’, ‘carData’, ‘abind’, ‘Formula’, ‘pbkrtest’, ‘quantreg’, ‘lme4’\n",
            "\n",
            "\n",
            "Installing package into ‘/usr/local/lib/R/site-library’\n",
            "(as ‘lib’ is unspecified)\n",
            "\n",
            "also installing the dependencies ‘warp’, ‘furrr’, ‘slider’\n",
            "\n",
            "\n",
            "Installing package into ‘/usr/local/lib/R/site-library’\n",
            "(as ‘lib’ is unspecified)\n",
            "\n",
            "also installing the dependencies ‘bitops’, ‘gtools’, ‘caTools’, ‘gplots’, ‘ROCR’\n",
            "\n",
            "\n"
          ]
        }
      ]
    },
    {
      "cell_type": "code",
      "source": [
        "# Import packages.\n",
        "\n",
        "library(utils)\n",
        "library(tidyverse)\n",
        "library(caret)\n",
        "library(car)\n",
        "library(rsample)\n",
        "library(MLmetrics)\n",
        "library(MASS)\n",
        "library(e1071)"
      ],
      "metadata": {
        "id": "CqaAy0vVNIy8",
        "colab": {
          "base_uri": "https://localhost:8080/"
        },
        "outputId": "b96ed1fd-fa1e-48d9-9571-c64ec2882700"
      },
      "execution_count": null,
      "outputs": [
        {
          "output_type": "stream",
          "name": "stderr",
          "text": [
            "── \u001b[1mAttaching core tidyverse packages\u001b[22m ──────────────────────── tidyverse 2.0.0 ──\n",
            "\u001b[32m✔\u001b[39m \u001b[34mdplyr    \u001b[39m 1.1.4     \u001b[32m✔\u001b[39m \u001b[34mreadr    \u001b[39m 2.1.5\n",
            "\u001b[32m✔\u001b[39m \u001b[34mforcats  \u001b[39m 1.0.0     \u001b[32m✔\u001b[39m \u001b[34mstringr  \u001b[39m 1.5.1\n",
            "\u001b[32m✔\u001b[39m \u001b[34mggplot2  \u001b[39m 3.5.2     \u001b[32m✔\u001b[39m \u001b[34mtibble   \u001b[39m 3.2.1\n",
            "\u001b[32m✔\u001b[39m \u001b[34mlubridate\u001b[39m 1.9.4     \u001b[32m✔\u001b[39m \u001b[34mtidyr    \u001b[39m 1.3.1\n",
            "\u001b[32m✔\u001b[39m \u001b[34mpurrr    \u001b[39m 1.0.4     \n",
            "── \u001b[1mConflicts\u001b[22m ────────────────────────────────────────── tidyverse_conflicts() ──\n",
            "\u001b[31m✖\u001b[39m \u001b[34mdplyr\u001b[39m::\u001b[32mfilter()\u001b[39m masks \u001b[34mstats\u001b[39m::filter()\n",
            "\u001b[31m✖\u001b[39m \u001b[34mdplyr\u001b[39m::\u001b[32mlag()\u001b[39m    masks \u001b[34mstats\u001b[39m::lag()\n",
            "\u001b[36mℹ\u001b[39m Use the conflicted package (\u001b[3m\u001b[34m<http://conflicted.r-lib.org/>\u001b[39m\u001b[23m) to force all conflicts to become errors\n",
            "Loading required package: lattice\n",
            "\n",
            "\n",
            "Attaching package: ‘caret’\n",
            "\n",
            "\n",
            "The following object is masked from ‘package:purrr’:\n",
            "\n",
            "    lift\n",
            "\n",
            "\n",
            "Loading required package: carData\n",
            "\n",
            "\n",
            "Attaching package: ‘car’\n",
            "\n",
            "\n",
            "The following object is masked from ‘package:dplyr’:\n",
            "\n",
            "    recode\n",
            "\n",
            "\n",
            "The following object is masked from ‘package:purrr’:\n",
            "\n",
            "    some\n",
            "\n",
            "\n",
            "\n",
            "Attaching package: ‘MLmetrics’\n",
            "\n",
            "\n",
            "The following objects are masked from ‘package:caret’:\n",
            "\n",
            "    MAE, RMSE\n",
            "\n",
            "\n",
            "The following object is masked from ‘package:base’:\n",
            "\n",
            "    Recall\n",
            "\n",
            "\n",
            "\n",
            "Attaching package: ‘MASS’\n",
            "\n",
            "\n",
            "The following object is masked from ‘package:dplyr’:\n",
            "\n",
            "    select\n",
            "\n",
            "\n",
            "\n",
            "Attaching package: ‘e1071’\n",
            "\n",
            "\n",
            "The following object is masked from ‘package:rsample’:\n",
            "\n",
            "    permutations\n",
            "\n",
            "\n"
          ]
        }
      ]
    },
    {
      "cell_type": "code",
      "source": [
        "# Download dataset.\n",
        "\n",
        "download.file('https://raw.githubusercontent.com/michp15/statistical_learning_class/refs/heads/main/bank-additional-full.csv', 'bank.csv')"
      ],
      "metadata": {
        "id": "2RnI2P0PN96L"
      },
      "execution_count": null,
      "outputs": []
    },
    {
      "cell_type": "code",
      "source": [
        "# Read dataset.\n",
        "\n",
        "df = read.csv('bank.csv', sep=';')"
      ],
      "metadata": {
        "id": "4sSG7FM-O-p-"
      },
      "execution_count": null,
      "outputs": []
    },
    {
      "cell_type": "code",
      "source": [
        "# Inspect dataset for correct formatting.\n",
        "\n",
        "head(df)"
      ],
      "metadata": {
        "colab": {
          "base_uri": "https://localhost:8080/",
          "height": 286
        },
        "id": "edB3wv8ePK3g",
        "outputId": "5983494f-b94f-4dec-f8b6-51a2677988d6"
      },
      "execution_count": null,
      "outputs": [
        {
          "output_type": "display_data",
          "data": {
            "text/html": [
              "<table class=\"dataframe\">\n",
              "<caption>A data.frame: 6 × 21</caption>\n",
              "<thead>\n",
              "\t<tr><th></th><th scope=col>age</th><th scope=col>job</th><th scope=col>marital</th><th scope=col>education</th><th scope=col>default</th><th scope=col>housing</th><th scope=col>loan</th><th scope=col>contact</th><th scope=col>month</th><th scope=col>day_of_week</th><th scope=col>⋯</th><th scope=col>campaign</th><th scope=col>pdays</th><th scope=col>previous</th><th scope=col>poutcome</th><th scope=col>emp.var.rate</th><th scope=col>cons.price.idx</th><th scope=col>cons.conf.idx</th><th scope=col>euribor3m</th><th scope=col>nr.employed</th><th scope=col>y</th></tr>\n",
              "\t<tr><th></th><th scope=col>&lt;int&gt;</th><th scope=col>&lt;chr&gt;</th><th scope=col>&lt;chr&gt;</th><th scope=col>&lt;chr&gt;</th><th scope=col>&lt;chr&gt;</th><th scope=col>&lt;chr&gt;</th><th scope=col>&lt;chr&gt;</th><th scope=col>&lt;chr&gt;</th><th scope=col>&lt;chr&gt;</th><th scope=col>&lt;chr&gt;</th><th scope=col>⋯</th><th scope=col>&lt;int&gt;</th><th scope=col>&lt;int&gt;</th><th scope=col>&lt;int&gt;</th><th scope=col>&lt;chr&gt;</th><th scope=col>&lt;dbl&gt;</th><th scope=col>&lt;dbl&gt;</th><th scope=col>&lt;dbl&gt;</th><th scope=col>&lt;dbl&gt;</th><th scope=col>&lt;dbl&gt;</th><th scope=col>&lt;chr&gt;</th></tr>\n",
              "</thead>\n",
              "<tbody>\n",
              "\t<tr><th scope=row>1</th><td>56</td><td>housemaid</td><td>married</td><td>basic.4y   </td><td>no     </td><td>no </td><td>no </td><td>telephone</td><td>may</td><td>mon</td><td>⋯</td><td>1</td><td>999</td><td>0</td><td>nonexistent</td><td>1.1</td><td>93.994</td><td>-36.4</td><td>4.857</td><td>5191</td><td>no</td></tr>\n",
              "\t<tr><th scope=row>2</th><td>57</td><td>services </td><td>married</td><td>high.school</td><td>unknown</td><td>no </td><td>no </td><td>telephone</td><td>may</td><td>mon</td><td>⋯</td><td>1</td><td>999</td><td>0</td><td>nonexistent</td><td>1.1</td><td>93.994</td><td>-36.4</td><td>4.857</td><td>5191</td><td>no</td></tr>\n",
              "\t<tr><th scope=row>3</th><td>37</td><td>services </td><td>married</td><td>high.school</td><td>no     </td><td>yes</td><td>no </td><td>telephone</td><td>may</td><td>mon</td><td>⋯</td><td>1</td><td>999</td><td>0</td><td>nonexistent</td><td>1.1</td><td>93.994</td><td>-36.4</td><td>4.857</td><td>5191</td><td>no</td></tr>\n",
              "\t<tr><th scope=row>4</th><td>40</td><td>admin.   </td><td>married</td><td>basic.6y   </td><td>no     </td><td>no </td><td>no </td><td>telephone</td><td>may</td><td>mon</td><td>⋯</td><td>1</td><td>999</td><td>0</td><td>nonexistent</td><td>1.1</td><td>93.994</td><td>-36.4</td><td>4.857</td><td>5191</td><td>no</td></tr>\n",
              "\t<tr><th scope=row>5</th><td>56</td><td>services </td><td>married</td><td>high.school</td><td>no     </td><td>no </td><td>yes</td><td>telephone</td><td>may</td><td>mon</td><td>⋯</td><td>1</td><td>999</td><td>0</td><td>nonexistent</td><td>1.1</td><td>93.994</td><td>-36.4</td><td>4.857</td><td>5191</td><td>no</td></tr>\n",
              "\t<tr><th scope=row>6</th><td>45</td><td>services </td><td>married</td><td>basic.9y   </td><td>unknown</td><td>no </td><td>no </td><td>telephone</td><td>may</td><td>mon</td><td>⋯</td><td>1</td><td>999</td><td>0</td><td>nonexistent</td><td>1.1</td><td>93.994</td><td>-36.4</td><td>4.857</td><td>5191</td><td>no</td></tr>\n",
              "</tbody>\n",
              "</table>\n"
            ],
            "text/markdown": "\nA data.frame: 6 × 21\n\n| <!--/--> | age &lt;int&gt; | job &lt;chr&gt; | marital &lt;chr&gt; | education &lt;chr&gt; | default &lt;chr&gt; | housing &lt;chr&gt; | loan &lt;chr&gt; | contact &lt;chr&gt; | month &lt;chr&gt; | day_of_week &lt;chr&gt; | ⋯ ⋯ | campaign &lt;int&gt; | pdays &lt;int&gt; | previous &lt;int&gt; | poutcome &lt;chr&gt; | emp.var.rate &lt;dbl&gt; | cons.price.idx &lt;dbl&gt; | cons.conf.idx &lt;dbl&gt; | euribor3m &lt;dbl&gt; | nr.employed &lt;dbl&gt; | y &lt;chr&gt; |\n|---|---|---|---|---|---|---|---|---|---|---|---|---|---|---|---|---|---|---|---|---|---|\n| 1 | 56 | housemaid | married | basic.4y    | no      | no  | no  | telephone | may | mon | ⋯ | 1 | 999 | 0 | nonexistent | 1.1 | 93.994 | -36.4 | 4.857 | 5191 | no |\n| 2 | 57 | services  | married | high.school | unknown | no  | no  | telephone | may | mon | ⋯ | 1 | 999 | 0 | nonexistent | 1.1 | 93.994 | -36.4 | 4.857 | 5191 | no |\n| 3 | 37 | services  | married | high.school | no      | yes | no  | telephone | may | mon | ⋯ | 1 | 999 | 0 | nonexistent | 1.1 | 93.994 | -36.4 | 4.857 | 5191 | no |\n| 4 | 40 | admin.    | married | basic.6y    | no      | no  | no  | telephone | may | mon | ⋯ | 1 | 999 | 0 | nonexistent | 1.1 | 93.994 | -36.4 | 4.857 | 5191 | no |\n| 5 | 56 | services  | married | high.school | no      | no  | yes | telephone | may | mon | ⋯ | 1 | 999 | 0 | nonexistent | 1.1 | 93.994 | -36.4 | 4.857 | 5191 | no |\n| 6 | 45 | services  | married | basic.9y    | unknown | no  | no  | telephone | may | mon | ⋯ | 1 | 999 | 0 | nonexistent | 1.1 | 93.994 | -36.4 | 4.857 | 5191 | no |\n\n",
            "text/latex": "A data.frame: 6 × 21\n\\begin{tabular}{r|lllllllllllllllllllll}\n  & age & job & marital & education & default & housing & loan & contact & month & day\\_of\\_week & ⋯ & campaign & pdays & previous & poutcome & emp.var.rate & cons.price.idx & cons.conf.idx & euribor3m & nr.employed & y\\\\\n  & <int> & <chr> & <chr> & <chr> & <chr> & <chr> & <chr> & <chr> & <chr> & <chr> & ⋯ & <int> & <int> & <int> & <chr> & <dbl> & <dbl> & <dbl> & <dbl> & <dbl> & <chr>\\\\\n\\hline\n\t1 & 56 & housemaid & married & basic.4y    & no      & no  & no  & telephone & may & mon & ⋯ & 1 & 999 & 0 & nonexistent & 1.1 & 93.994 & -36.4 & 4.857 & 5191 & no\\\\\n\t2 & 57 & services  & married & high.school & unknown & no  & no  & telephone & may & mon & ⋯ & 1 & 999 & 0 & nonexistent & 1.1 & 93.994 & -36.4 & 4.857 & 5191 & no\\\\\n\t3 & 37 & services  & married & high.school & no      & yes & no  & telephone & may & mon & ⋯ & 1 & 999 & 0 & nonexistent & 1.1 & 93.994 & -36.4 & 4.857 & 5191 & no\\\\\n\t4 & 40 & admin.    & married & basic.6y    & no      & no  & no  & telephone & may & mon & ⋯ & 1 & 999 & 0 & nonexistent & 1.1 & 93.994 & -36.4 & 4.857 & 5191 & no\\\\\n\t5 & 56 & services  & married & high.school & no      & no  & yes & telephone & may & mon & ⋯ & 1 & 999 & 0 & nonexistent & 1.1 & 93.994 & -36.4 & 4.857 & 5191 & no\\\\\n\t6 & 45 & services  & married & basic.9y    & unknown & no  & no  & telephone & may & mon & ⋯ & 1 & 999 & 0 & nonexistent & 1.1 & 93.994 & -36.4 & 4.857 & 5191 & no\\\\\n\\end{tabular}\n",
            "text/plain": [
              "  age job       marital education   default housing loan contact   month\n",
              "1 56  housemaid married basic.4y    no      no      no   telephone may  \n",
              "2 57  services  married high.school unknown no      no   telephone may  \n",
              "3 37  services  married high.school no      yes     no   telephone may  \n",
              "4 40  admin.    married basic.6y    no      no      no   telephone may  \n",
              "5 56  services  married high.school no      no      yes  telephone may  \n",
              "6 45  services  married basic.9y    unknown no      no   telephone may  \n",
              "  day_of_week ⋯ campaign pdays previous poutcome    emp.var.rate cons.price.idx\n",
              "1 mon         ⋯ 1        999   0        nonexistent 1.1          93.994        \n",
              "2 mon         ⋯ 1        999   0        nonexistent 1.1          93.994        \n",
              "3 mon         ⋯ 1        999   0        nonexistent 1.1          93.994        \n",
              "4 mon         ⋯ 1        999   0        nonexistent 1.1          93.994        \n",
              "5 mon         ⋯ 1        999   0        nonexistent 1.1          93.994        \n",
              "6 mon         ⋯ 1        999   0        nonexistent 1.1          93.994        \n",
              "  cons.conf.idx euribor3m nr.employed y \n",
              "1 -36.4         4.857     5191        no\n",
              "2 -36.4         4.857     5191        no\n",
              "3 -36.4         4.857     5191        no\n",
              "4 -36.4         4.857     5191        no\n",
              "5 -36.4         4.857     5191        no\n",
              "6 -36.4         4.857     5191        no"
            ]
          },
          "metadata": {}
        }
      ]
    },
    {
      "cell_type": "code",
      "source": [
        "# View types.\n",
        "\n",
        "str(df)"
      ],
      "metadata": {
        "colab": {
          "base_uri": "https://localhost:8080/"
        },
        "id": "Bpgio2Raoiez",
        "outputId": "4e6c10e9-6d17-48da-ffdf-aa0c5a80a8ab"
      },
      "execution_count": null,
      "outputs": [
        {
          "output_type": "stream",
          "name": "stdout",
          "text": [
            "'data.frame':\t41188 obs. of  21 variables:\n",
            " $ age           : int  56 57 37 40 56 45 59 41 24 25 ...\n",
            " $ job           : chr  \"housemaid\" \"services\" \"services\" \"admin.\" ...\n",
            " $ marital       : chr  \"married\" \"married\" \"married\" \"married\" ...\n",
            " $ education     : chr  \"basic.4y\" \"high.school\" \"high.school\" \"basic.6y\" ...\n",
            " $ default       : chr  \"no\" \"unknown\" \"no\" \"no\" ...\n",
            " $ housing       : chr  \"no\" \"no\" \"yes\" \"no\" ...\n",
            " $ loan          : chr  \"no\" \"no\" \"no\" \"no\" ...\n",
            " $ contact       : chr  \"telephone\" \"telephone\" \"telephone\" \"telephone\" ...\n",
            " $ month         : chr  \"may\" \"may\" \"may\" \"may\" ...\n",
            " $ day_of_week   : chr  \"mon\" \"mon\" \"mon\" \"mon\" ...\n",
            " $ duration      : int  261 149 226 151 307 198 139 217 380 50 ...\n",
            " $ campaign      : int  1 1 1 1 1 1 1 1 1 1 ...\n",
            " $ pdays         : int  999 999 999 999 999 999 999 999 999 999 ...\n",
            " $ previous      : int  0 0 0 0 0 0 0 0 0 0 ...\n",
            " $ poutcome      : chr  \"nonexistent\" \"nonexistent\" \"nonexistent\" \"nonexistent\" ...\n",
            " $ emp.var.rate  : num  1.1 1.1 1.1 1.1 1.1 1.1 1.1 1.1 1.1 1.1 ...\n",
            " $ cons.price.idx: num  94 94 94 94 94 ...\n",
            " $ cons.conf.idx : num  -36.4 -36.4 -36.4 -36.4 -36.4 -36.4 -36.4 -36.4 -36.4 -36.4 ...\n",
            " $ euribor3m     : num  4.86 4.86 4.86 4.86 4.86 ...\n",
            " $ nr.employed   : num  5191 5191 5191 5191 5191 ...\n",
            " $ y             : chr  \"no\" \"no\" \"no\" \"no\" ...\n"
          ]
        }
      ]
    },
    {
      "cell_type": "code",
      "source": [
        "# View distributions of categorical data.\n",
        "\n",
        "for (col in colnames(df)){\n",
        "  if (!is.numeric(df[, col])){\n",
        "    print(col)\n",
        "    print(table(df[, col]))\n",
        "    cat('\\n\\n')\n",
        "  }\n",
        "}"
      ],
      "metadata": {
        "colab": {
          "base_uri": "https://localhost:8080/"
        },
        "id": "5_Dqv4bhaXlo",
        "outputId": "b3807d03-91df-41f7-c152-7005a43d7eeb"
      },
      "execution_count": null,
      "outputs": [
        {
          "output_type": "stream",
          "name": "stdout",
          "text": [
            "[1] \"job\"\n",
            "\n",
            "       admin.   blue-collar  entrepreneur     housemaid    management \n",
            "        10422          9254          1456          1060          2924 \n",
            "      retired self-employed      services       student    technician \n",
            "         1720          1421          3969           875          6743 \n",
            "   unemployed       unknown \n",
            "         1014           330 \n",
            "\n",
            "\n",
            "[1] \"marital\"\n",
            "\n",
            "divorced  married   single  unknown \n",
            "    4612    24928    11568       80 \n",
            "\n",
            "\n",
            "[1] \"education\"\n",
            "\n",
            "           basic.4y            basic.6y            basic.9y         high.school \n",
            "               4176                2292                6045                9515 \n",
            "         illiterate professional.course   university.degree             unknown \n",
            "                 18                5243               12168                1731 \n",
            "\n",
            "\n",
            "[1] \"default\"\n",
            "\n",
            "     no unknown     yes \n",
            "  32588    8597       3 \n",
            "\n",
            "\n",
            "[1] \"housing\"\n",
            "\n",
            "     no unknown     yes \n",
            "  18622     990   21576 \n",
            "\n",
            "\n",
            "[1] \"loan\"\n",
            "\n",
            "     no unknown     yes \n",
            "  33950     990    6248 \n",
            "\n",
            "\n",
            "[1] \"contact\"\n",
            "\n",
            " cellular telephone \n",
            "    26144     15044 \n",
            "\n",
            "\n",
            "[1] \"month\"\n",
            "\n",
            "  apr   aug   dec   jul   jun   mar   may   nov   oct   sep \n",
            " 2632  6178   182  7174  5318   546 13769  4101   718   570 \n",
            "\n",
            "\n",
            "[1] \"day_of_week\"\n",
            "\n",
            " fri  mon  thu  tue  wed \n",
            "7827 8514 8623 8090 8134 \n",
            "\n",
            "\n",
            "[1] \"poutcome\"\n",
            "\n",
            "    failure nonexistent     success \n",
            "       4252       35563        1373 \n",
            "\n",
            "\n",
            "[1] \"y\"\n",
            "\n",
            "   no   yes \n",
            "36548  4640 \n",
            "\n",
            "\n"
          ]
        }
      ]
    },
    {
      "cell_type": "code",
      "source": [
        "# Remove the 'duration' column. Removing 'duration' prevents data leakage.\n",
        "\n",
        "duration_vec <- c()\n",
        "index <- 1\n",
        "for (col in colnames(df)){\n",
        "  if (col == 'duration'){\n",
        "    duration_vec[index] <- TRUE\n",
        "  } else {\n",
        "    duration_vec[index] <- FALSE\n",
        "  }\n",
        "  index <- index + 1\n",
        "}\n",
        "df <- df[, !duration_vec]\n",
        "rm(duration_vec)\n",
        "rm(index)"
      ],
      "metadata": {
        "id": "5JaVvLvYYhnf"
      },
      "execution_count": null,
      "outputs": []
    },
    {
      "cell_type": "code",
      "source": [
        "# Function that checks for and removes duplicates.\n",
        "\n",
        "check_remove_duplicates <- function(df) {\n",
        "  duplicates <- duplicated(df)\n",
        "\n",
        "  if (any(duplicates)){\n",
        "    cat('There are:', sum(duplicates), 'duplicates.')\n",
        "    df <- df[!duplicates,]\n",
        "    cat('\\n\\nDuplicates removed.')\n",
        "  }\n",
        "\n",
        "  return (df)\n",
        "}"
      ],
      "metadata": {
        "id": "NuHo3V8hV4oY"
      },
      "execution_count": null,
      "outputs": []
    },
    {
      "cell_type": "code",
      "source": [
        "# Remove duplicates.\n",
        "\n",
        "df <- check_remove_duplicates(df)"
      ],
      "metadata": {
        "colab": {
          "base_uri": "https://localhost:8080/"
        },
        "id": "fKfgUOQltdDo",
        "outputId": "67949ead-9be4-492a-c0ad-8a970d2332ef"
      },
      "execution_count": null,
      "outputs": [
        {
          "output_type": "stream",
          "name": "stdout",
          "text": [
            "There are: 1784 duplicates.\n",
            "\n",
            "Duplicates removed."
          ]
        }
      ]
    },
    {
      "cell_type": "code",
      "source": [
        "# Check for null values.\n",
        "\n",
        "cat(any(is.na(df)))"
      ],
      "metadata": {
        "colab": {
          "base_uri": "https://localhost:8080/"
        },
        "id": "08GSANnsWsIS",
        "outputId": "682a610d-ccba-4afe-ecf1-5d7a8a1df54b"
      },
      "execution_count": null,
      "outputs": [
        {
          "output_type": "stream",
          "name": "stdout",
          "text": [
            "FALSE"
          ]
        }
      ]
    },
    {
      "cell_type": "code",
      "source": [
        "# Check dependent variable distribution.\n",
        "\n",
        "table(df$y)"
      ],
      "metadata": {
        "colab": {
          "base_uri": "https://localhost:8080/",
          "height": 71
        },
        "id": "px46UpwhEGze",
        "outputId": "fd63c346-23d6-4fa9-9af5-1c5983c6da46"
      },
      "execution_count": null,
      "outputs": [
        {
          "output_type": "display_data",
          "data": {
            "text/plain": [
              "\n",
              "   no   yes \n",
              "34806  4598 "
            ]
          },
          "metadata": {}
        }
      ]
    },
    {
      "cell_type": "code",
      "source": [
        "# Check the proportion of the value 'unknown' per column\n",
        "\n",
        "for (i in 1:ncol(df)){\n",
        "  if (is.character(df[, i])){\n",
        "    print(i)\n",
        "    print((sum(df[, i] == 'unknown') / nrow(df)))\n",
        "  }\n",
        "}"
      ],
      "metadata": {
        "colab": {
          "base_uri": "https://localhost:8080/"
        },
        "id": "mPC0dEJdfplG",
        "outputId": "c00604c3-e2d3-4b75-9111-ce5efad687c5"
      },
      "execution_count": null,
      "outputs": [
        {
          "output_type": "stream",
          "name": "stdout",
          "text": [
            "[1] 2\n",
            "[1] 0.008247894\n",
            "[1] 3\n",
            "[1] 0.002004873\n",
            "[1] 4\n",
            "[1] 0.04278753\n",
            "[1] 5\n",
            "[1] 0.2097757\n",
            "[1] 6\n",
            "[1] 0.02487057\n",
            "[1] 7\n",
            "[1] 0.02487057\n",
            "[1] 8\n",
            "[1] 0\n",
            "[1] 9\n",
            "[1] 0\n",
            "[1] 10\n",
            "[1] 0\n",
            "[1] 14\n",
            "[1] 0\n",
            "[1] 20\n",
            "[1] 0\n"
          ]
        }
      ]
    },
    {
      "cell_type": "code",
      "source": [
        "colnames(df)[5]"
      ],
      "metadata": {
        "colab": {
          "base_uri": "https://localhost:8080/",
          "height": 34
        },
        "id": "PHXd8Ooeha5N",
        "outputId": "7c305577-1e83-4b2d-de2e-5890a44fca00"
      },
      "execution_count": null,
      "outputs": [
        {
          "output_type": "display_data",
          "data": {
            "text/html": [
              "'default'"
            ],
            "text/markdown": "'default'",
            "text/latex": "'default'",
            "text/plain": [
              "[1] \"default\""
            ]
          },
          "metadata": {}
        }
      ]
    },
    {
      "cell_type": "code",
      "source": [
        "df <- subset(df, select = -default)"
      ],
      "metadata": {
        "id": "qXrSoveihRpz"
      },
      "execution_count": null,
      "outputs": []
    },
    {
      "cell_type": "code",
      "source": [
        "df <- df[!apply(df, 1, function(row) any(row == 'unknown')), ]"
      ],
      "metadata": {
        "id": "t29_5YHFgoM3"
      },
      "execution_count": null,
      "outputs": []
    },
    {
      "cell_type": "code",
      "source": [
        "dim(df)"
      ],
      "metadata": {
        "colab": {
          "base_uri": "https://localhost:8080/",
          "height": 34
        },
        "id": "Iyg1LmfjhLcF",
        "outputId": "10300e6d-54be-40db-b7df-d5b08b917b48"
      },
      "execution_count": null,
      "outputs": [
        {
          "output_type": "display_data",
          "data": {
            "text/html": [
              "<style>\n",
              ".list-inline {list-style: none; margin:0; padding: 0}\n",
              ".list-inline>li {display: inline-block}\n",
              ".list-inline>li:not(:last-child)::after {content: \"\\00b7\"; padding: 0 .5ex}\n",
              "</style>\n",
              "<ol class=list-inline><li>36518</li><li>19</li></ol>\n"
            ],
            "text/markdown": "1. 36518\n2. 19\n\n\n",
            "text/latex": "\\begin{enumerate*}\n\\item 36518\n\\item 19\n\\end{enumerate*}\n",
            "text/plain": [
              "[1] 36518    19"
            ]
          },
          "metadata": {}
        }
      ]
    },
    {
      "cell_type": "code",
      "source": [
        "# The number of rows that have 'pdays' equal to 999.\n",
        "\n",
        "sum(df$pdays == 999)"
      ],
      "metadata": {
        "colab": {
          "base_uri": "https://localhost:8080/",
          "height": 34
        },
        "id": "x2YifWp1IVLs",
        "outputId": "ed8beb31-5cfc-43bd-940d-4cdb07ea703c"
      },
      "execution_count": null,
      "outputs": [
        {
          "output_type": "display_data",
          "data": {
            "text/html": [
              "35153"
            ],
            "text/markdown": "35153",
            "text/latex": "35153",
            "text/plain": [
              "[1] 35153"
            ]
          },
          "metadata": {}
        }
      ]
    },
    {
      "cell_type": "code",
      "source": [
        "# Cluster 'pdays' in meaningful categories to resolve the '999' problem\n",
        "\n",
        "set.seed(123)\n",
        "kmeans_result <- kmeans(df[df$pdays != 999, 'pdays'], centers = 4, algorithm='Hartigan-Wong')\n",
        "plot(df[df$pdays != 999, 'pdays'],\n",
        "     col = kmeans_result$cluster,\n",
        "     pch = 19,\n",
        "     main = \"K-means Clustering for pdays\",\n",
        "     xlab = \"Index\",\n",
        "     ylab = \"pdays\",\n",
        "     col.axis = \"black\",\n",
        "     cex = 1.5)"
      ],
      "metadata": {
        "colab": {
          "base_uri": "https://localhost:8080/",
          "height": 437
        },
        "id": "_OhZi3_NJquD",
        "outputId": "9d89e6bd-8117-4ebb-ff4f-d9538605af33"
      },
      "execution_count": null,
      "outputs": [
        {
          "output_type": "display_data",
          "data": {
            "text/plain": [
              "Plot with title “K-means Clustering for pdays”"
            ],
            "image/png": "[encoded data removed]"
          },
          "metadata": {
            "image/png": {
              "width": 420,
              "height": 420
            }
          }
        }
      ]
    },
    {
      "cell_type": "code",
      "source": [
        "# Check cluster separation.\n",
        "\n",
        "kmeans_result$betweenss / kmeans_result$totss # -> well separated clusters"
      ],
      "metadata": {
        "colab": {
          "base_uri": "https://localhost:8080/",
          "height": 34
        },
        "id": "CgWhTFWFKEWJ",
        "outputId": "81e4a775-92c9-417d-93d9-5edbbc25a700"
      },
      "execution_count": null,
      "outputs": [
        {
          "output_type": "display_data",
          "data": {
            "text/html": [
              "0.810236350892594"
            ],
            "text/markdown": "0.810236350892594",
            "text/latex": "0.810236350892594",
            "text/plain": [
              "[1] 0.8102364"
            ]
          },
          "metadata": {}
        }
      ]
    },
    {
      "cell_type": "code",
      "source": [
        "# The cluster centroids.\n",
        "\n",
        "kmeans_result$centers"
      ],
      "metadata": {
        "colab": {
          "base_uri": "https://localhost:8080/",
          "height": 177
        },
        "id": "7_tNDJnHLnuD",
        "outputId": "308ad699-9aae-4345-dea4-39213610ca0f"
      },
      "execution_count": null,
      "outputs": [
        {
          "output_type": "display_data",
          "data": {
            "text/html": [
              "<table class=\"dataframe\">\n",
              "<caption>A matrix: 4 × 1 of type dbl</caption>\n",
              "<tbody>\n",
              "\t<tr><th scope=row>1</th><td> 4.30000</td></tr>\n",
              "\t<tr><th scope=row>2</th><td>10.65778</td></tr>\n",
              "\t<tr><th scope=row>3</th><td>15.46774</td></tr>\n",
              "\t<tr><th scope=row>4</th><td>23.25000</td></tr>\n",
              "</tbody>\n",
              "</table>\n"
            ],
            "text/markdown": "\nA matrix: 4 × 1 of type dbl\n\n| 1 |  4.30000 |\n| 2 | 10.65778 |\n| 3 | 15.46774 |\n| 4 | 23.25000 |\n\n",
            "text/latex": "A matrix: 4 × 1 of type dbl\n\\begin{tabular}{r|l}\n\t1 &  4.30000\\\\\n\t2 & 10.65778\\\\\n\t3 & 15.46774\\\\\n\t4 & 23.25000\\\\\n\\end{tabular}\n",
            "text/plain": [
              "  [,1]    \n",
              "1  4.30000\n",
              "2 10.65778\n",
              "3 15.46774\n",
              "4 23.25000"
            ]
          },
          "metadata": {}
        }
      ]
    },
    {
      "cell_type": "code",
      "source": [
        "# Function to get the index of the minimum value in a vector.\n",
        "\n",
        "argmin <- function(vec){\n",
        "  min <- vec[1]\n",
        "  min_index <- 1\n",
        "  for (i in 1:length(vec)){\n",
        "    if (vec[i] < min){\n",
        "      min <- vec[i]\n",
        "      min_index <- i\n",
        "    }\n",
        "  }\n",
        "  return (min_index)\n",
        "}\n",
        "\n",
        "# Function to compute the Euclidean distance between two 1D points.\n",
        "\n",
        "euc_distance <- function(x, y){\n",
        "  return (abs(y - x))  # sqrt((y - x)^2) simplifies to abs(y - x)\n",
        "}\n",
        "\n",
        "# Function to find the index of the closest value in a 1D vector.\n",
        "\n",
        "argmin_distances <- function(x, vec){\n",
        "  distances <- sapply(vec, function(v) euc_distance(x, v))\n",
        "  return (argmin(distances))\n",
        "}\n",
        "\n",
        "# Encoding 'pdays' based on proximity to k-means cluster centers.\n",
        "\n",
        "pdays_new_values <- character(nrow(df))\n",
        "\n",
        "for (i in 1:nrow(df)){\n",
        "  if (df[i, 'pdays'] == 999){\n",
        "    pdays_new_values[i] <- 'never'\n",
        "  } else {\n",
        "    temp <- argmin_distances(df[i, 'pdays'], kmeans_result$centers)\n",
        "    temp <- switch(temp,\n",
        "                   '1' = 'very recent',\n",
        "                   '2' = 'recent',\n",
        "                   '3' = 'moderate',\n",
        "                   '4' = 'older')\n",
        "    pdays_new_values[i] <- temp\n",
        "  }\n",
        "}\n",
        "\n",
        "df$pdays <- pdays_new_values\n",
        "\n",
        "rm(pdays_new_values)"
      ],
      "metadata": {
        "id": "lYSAN0e8bH8p"
      },
      "execution_count": null,
      "outputs": []
    },
    {
      "cell_type": "code",
      "source": [
        "# Remove duplicates.\n",
        "\n",
        "df <- check_remove_duplicates(df)"
      ],
      "metadata": {
        "colab": {
          "base_uri": "https://localhost:8080/"
        },
        "id": "alkMFiSjtu--",
        "outputId": "b6378f7a-3809-4c65-bafe-20d866459d24"
      },
      "execution_count": null,
      "outputs": [
        {
          "output_type": "stream",
          "name": "stdout",
          "text": [
            "There are: 215 duplicates.\n",
            "\n",
            "Duplicates removed."
          ]
        }
      ]
    },
    {
      "cell_type": "code",
      "source": [
        "# Find unique values for each categorical column.\n",
        "\n",
        "for (colname in colnames(df)){\n",
        "  if (!is.numeric(df[[colname]])){\n",
        "    cat(colname,'\\n')\n",
        "    cat(unique(df[[colname]]))\n",
        "    cat('\\n\\n')\n",
        "  }\n",
        "}"
      ],
      "metadata": {
        "colab": {
          "base_uri": "https://localhost:8080/"
        },
        "id": "1CMAgvMhQ_Fo",
        "outputId": "9e9a347c-fbf4-4f3f-a84c-3917d686f7d9"
      },
      "execution_count": null,
      "outputs": [
        {
          "output_type": "stream",
          "name": "stdout",
          "text": [
            "job \n",
            "housemaid services admin. technician blue-collar retired management unemployed self-employed entrepreneur student\n",
            "\n",
            "marital \n",
            "married single divorced\n",
            "\n",
            "education \n",
            "basic.4y high.school basic.6y basic.9y professional.course university.degree illiterate\n",
            "\n",
            "housing \n",
            "no yes\n",
            "\n",
            "loan \n",
            "no yes\n",
            "\n",
            "contact \n",
            "telephone cellular\n",
            "\n",
            "month \n",
            "may jun jul aug oct nov dec mar apr sep\n",
            "\n",
            "day_of_week \n",
            "mon tue wed thu fri\n",
            "\n",
            "pdays \n",
            "never very recent recent moderate older\n",
            "\n",
            "poutcome \n",
            "nonexistent failure success\n",
            "\n",
            "y \n",
            "no yes\n",
            "\n"
          ]
        }
      ]
    },
    {
      "cell_type": "code",
      "source": [
        "# Encode dependent variable 'y'.\n",
        "\n",
        "df$y <- as.factor(ifelse(df$y == 'yes', 1, 0))"
      ],
      "metadata": {
        "id": "bub6DLmaWcGu"
      },
      "execution_count": null,
      "outputs": []
    },
    {
      "cell_type": "code",
      "source": [
        "# Encode 'month' and 'day_of_week' columns.\n",
        "\n",
        "for (i in 1:nrow(df)){\n",
        "  df[i, 'month'] <- switch(df[i, 'month'],\n",
        "                           'mar' = 0,\n",
        "                           'apr' = 1,\n",
        "                           'may' = 2,\n",
        "                           'jun' = 3,\n",
        "                           'jul' = 4,\n",
        "                           'aug' = 5,\n",
        "                           'sep' = 6,\n",
        "                           'oct' = 7,\n",
        "                           'nov' = 8,\n",
        "                           'dec' = 9)\n",
        "\n",
        "  df[i, 'day_of_week'] <- switch(df[i, 'day_of_week'],\n",
        "                                 'mon' = 0,\n",
        "                                 'tue' = 1,\n",
        "                                 'wed' = 2,\n",
        "                                 'thu' = 3,\n",
        "                                 'fri' = 4)\n",
        "}\n",
        "\n",
        "df$month <- as.numeric(df$month)\n",
        "df$day_of_week <- as.numeric(df$day_of_week)\n",
        "\n",
        "df$sin_month <- sin(2 * pi * df$month / 10)\n",
        "df$cos_month <- cos(2 * pi * df$month / 10)\n",
        "df$sin_day_of_week <- sin(2 * pi * df$day_of_week / 5)\n",
        "df$cos_day_of_week <- cos(2 * pi * df$day_of_week / 5)\n",
        "\n",
        "df <- subset(df, select = -c(month, day_of_week))"
      ],
      "metadata": {
        "id": "CpOyU37aWq5T"
      },
      "execution_count": null,
      "outputs": []
    },
    {
      "cell_type": "code",
      "source": [
        "# Encode the 'contact' column.\n",
        "\n",
        "names(df)[names(df) == 'contact'] <- 'mobile_phone'\n",
        "df$mobile_phone <- as.integer(ifelse(df$mobile_phone == 'cellular', 1, 0))"
      ],
      "metadata": {
        "id": "zxkoTx0MCAI5"
      },
      "execution_count": null,
      "outputs": []
    },
    {
      "cell_type": "code",
      "source": [
        "# Encode 'housing' and 'loan'\n",
        "\n",
        "df$housing <- as.integer(ifelse(df$housing == 'yes', 1, 0))\n",
        "df$loan <- as.integer(ifelse(df$loan == 'yes', 1, 0))"
      ],
      "metadata": {
        "id": "c9Vg2VmnjdkM"
      },
      "execution_count": null,
      "outputs": []
    },
    {
      "cell_type": "code",
      "source": [
        "# Education to ordered factor\n",
        "\n",
        "df$education <- factor(df$education,\n",
        "                       levels = c('illiterate', 'basic.4y', 'high.school', 'basic.6y', 'basic.9y', 'professional.course', 'university.degree'),\n",
        "                       ordered = TRUE)"
      ],
      "metadata": {
        "id": "gVKqpUmbkCtW"
      },
      "execution_count": null,
      "outputs": []
    },
    {
      "cell_type": "code",
      "source": [
        "# Pdays to ordered factor\n",
        "\n",
        "df$pdays <- factor(df$pdays,\n",
        "                   levels = c('never', 'very recent', 'recent', 'moderate', 'older'),\n",
        "                   ordered = TRUE)"
      ],
      "metadata": {
        "id": "ZSudtnUGkDWm"
      },
      "execution_count": null,
      "outputs": []
    },
    {
      "cell_type": "code",
      "source": [
        "# Remove duplicates.\n",
        "\n",
        "df <- check_remove_duplicates(df)"
      ],
      "metadata": {
        "id": "UwHXezbtShgW"
      },
      "execution_count": null,
      "outputs": []
    },
    {
      "cell_type": "code",
      "source": [
        "# Convert all character columns to factors.\n",
        "\n",
        "df[] <- lapply(df, function(x) if(is.character(x)) as.factor(x) else x)"
      ],
      "metadata": {
        "id": "sxaQBwMNTTAP"
      },
      "execution_count": null,
      "outputs": []
    },
    {
      "cell_type": "code",
      "source": [
        "write.csv(df, 'bank.csv', row.names = FALSE)"
      ],
      "metadata": {
        "id": "rtmxfVFdV3sc"
      },
      "execution_count": null,
      "outputs": []
    },
    {
      "cell_type": "code",
      "source": [
        "# Split train val test\n",
        "\n",
        "split_1 <- initial_split(df, prop = 0.8, strata = 'y')\n",
        "train <- training(split_1)\n",
        "temp <- testing(split_1)\n",
        "\n",
        "split_2 <- initial_split(temp, prop = 0.5, strata = 'y')\n",
        "val <- training(split_2)\n",
        "test <- testing(split_2)"
      ],
      "metadata": {
        "id": "gtyacMQibqzh"
      },
      "execution_count": null,
      "outputs": []
    },
    {
      "cell_type": "code",
      "source": [
        "# Calculate y variable class proportions for model weights\n",
        "\n",
        "class_proportions <- prop.table(table(train$y))\n",
        "weights <- ifelse(train$y == 1, 1 / class_proportions['1'], 1 / class_proportions['0'])"
      ],
      "metadata": {
        "id": "Qmw07eB65ZSy"
      },
      "execution_count": null,
      "outputs": []
    },
    {
      "cell_type": "code",
      "source": [
        "table(train$y)"
      ],
      "metadata": {
        "colab": {
          "base_uri": "https://localhost:8080/",
          "height": 71
        },
        "id": "ny76kDyYMqII",
        "outputId": "c4fc9b07-53bd-4056-943b-6f0d6cbb8a70"
      },
      "execution_count": null,
      "outputs": [
        {
          "output_type": "display_data",
          "data": {
            "text/plain": [
              "\n",
              "    0     1 \n",
              "25672  3370 "
            ]
          },
          "metadata": {}
        }
      ]
    },
    {
      "cell_type": "code",
      "source": [
        "# Fit Logistic Regression model\n",
        "\n",
        "model <- glm(y ~ ., data=train, family=binomial, weights=weights)\n",
        "summary(model)"
      ],
      "metadata": {
        "colab": {
          "base_uri": "https://localhost:8080/",
          "height": 1000
        },
        "id": "19r9YeITm6rA",
        "outputId": "66d4ef40-fc19-4379-85f0-1d7dee3e535c"
      },
      "execution_count": null,
      "outputs": [
        {
          "output_type": "stream",
          "name": "stderr",
          "text": [
            "Warning message in eval(family$initialize):\n",
            "“non-integer #successes in a binomial glm!”\n"
          ]
        },
        {
          "output_type": "display_data",
          "data": {
            "text/plain": [
              "\n",
              "Call:\n",
              "glm(formula = y ~ ., family = binomial, data = train, weights = weights)\n",
              "\n",
              "Coefficients:\n",
              "                      Estimate Std. Error z value Pr(>|z|)    \n",
              "(Intercept)         -1.117e+02  9.160e+00 -12.190  < 2e-16 ***\n",
              "age                 -8.524e-04  1.167e-03  -0.730 0.465175    \n",
              "jobblue-collar      -9.100e-02  3.629e-02  -2.507 0.012166 *  \n",
              "jobentrepreneur     -1.545e-01  5.712e-02  -2.705 0.006833 ** \n",
              "jobhousemaid        -1.071e-01  6.850e-02  -1.564 0.117918    \n",
              "jobmanagement       -3.858e-02  4.049e-02  -0.953 0.340678    \n",
              "jobretired           3.532e-01  5.638e-02   6.265 3.72e-10 ***\n",
              "jobself-employed    -1.847e-01  5.514e-02  -3.349 0.000810 ***\n",
              "jobservices         -1.025e-01  3.917e-02  -2.618 0.008856 ** \n",
              "jobstudent           3.767e-01  6.867e-02   5.486 4.12e-08 ***\n",
              "jobtechnician        2.131e-02  3.377e-02   0.631 0.527911    \n",
              "jobunemployed       -1.195e-01  6.327e-02  -1.889 0.058861 .  \n",
              "maritalmarried      -7.447e-04  3.170e-02  -0.023 0.981260    \n",
              "maritalsingle        8.637e-02  3.604e-02   2.396 0.016559 *  \n",
              "education.L         -4.356e-01  1.977e-01  -2.203 0.027586 *  \n",
              "education.Q          5.554e-01  1.907e-01   2.912 0.003592 ** \n",
              "education.C         -3.039e-01  1.434e-01  -2.119 0.034127 *  \n",
              "education^4          3.225e-01  8.985e-02   3.589 0.000331 ***\n",
              "education^5         -1.493e-01  4.812e-02  -3.103 0.001913 ** \n",
              "education^6          1.369e-02  3.528e-02   0.388 0.697926    \n",
              "housing             -7.958e-02  1.944e-02  -4.092 4.27e-05 ***\n",
              "loan                -7.648e-02  2.656e-02  -2.880 0.003978 ** \n",
              "mobile_phone         7.413e-01  3.445e-02  21.518  < 2e-16 ***\n",
              "campaign            -4.695e-02  4.498e-03 -10.439  < 2e-16 ***\n",
              "pdays.L              1.370e+00  6.081e-01   2.252 0.024307 *  \n",
              "pdays.Q             -9.019e-02  5.276e-01  -0.171 0.864258    \n",
              "pdays.C              1.208e+00  3.390e-01   3.563 0.000367 ***\n",
              "pdays^4              1.634e-01  1.804e-01   0.906 0.364983    \n",
              "previous            -1.096e-01  4.754e-02  -2.305 0.021190 *  \n",
              "poutcomenonexistent  4.881e-01  6.168e-02   7.913 2.51e-15 ***\n",
              "poutcomesuccess      3.256e-01  1.806e-01   1.803 0.071312 .  \n",
              "emp.var.rate        -7.823e-01  3.653e-02 -21.415  < 2e-16 ***\n",
              "cons.price.idx       1.233e+00  5.604e-02  21.994  < 2e-16 ***\n",
              "cons.conf.idx        2.529e-02  3.827e-03   6.608 3.90e-11 ***\n",
              "euribor3m            2.431e-02  5.452e-02   0.446 0.655605    \n",
              "nr.employed         -4.594e-04  9.238e-04  -0.497 0.618934    \n",
              "sin_month           -1.639e-01  2.279e-02  -7.191 6.45e-13 ***\n",
              "cos_month           -1.875e-01  2.234e-02  -8.392  < 2e-16 ***\n",
              "sin_day_of_week      1.691e-02  1.387e-02   1.219 0.222867    \n",
              "cos_day_of_week     -8.185e-02  1.349e-02  -6.068 1.29e-09 ***\n",
              "---\n",
              "Signif. codes:  0 ‘***’ 0.001 ‘**’ 0.01 ‘*’ 0.05 ‘.’ 0.1 ‘ ’ 1\n",
              "\n",
              "(Dispersion parameter for binomial family taken to be 1)\n",
              "\n",
              "    Null deviance: 80522  on 29041  degrees of freedom\n",
              "Residual deviance: 63934  on 29002  degrees of freedom\n",
              "AIC: 61885\n",
              "\n",
              "Number of Fisher Scoring iterations: 5\n"
            ]
          },
          "metadata": {}
        }
      ]
    },
    {
      "cell_type": "code",
      "source": [
        "# Get VIF values\n",
        "\n",
        "print(car::vif(model))"
      ],
      "metadata": {
        "colab": {
          "base_uri": "https://localhost:8080/"
        },
        "id": "_VcxCFa6t30h",
        "outputId": "8815b71e-d152-45ec-bbeb-2b23f904301d"
      },
      "execution_count": null,
      "outputs": [
        {
          "output_type": "stream",
          "name": "stdout",
          "text": [
            "                      GVIF Df GVIF^(1/(2*Df))\n",
            "age               1.773931  1        1.331890\n",
            "job               4.632493 10        1.079669\n",
            "marital           1.336721  2        1.075252\n",
            "education         3.260100  6        1.103492\n",
            "housing           1.015903  1        1.007920\n",
            "loan              1.006284  1        1.003137\n",
            "mobile_phone      2.605386  1        1.614121\n",
            "campaign          1.047221  1        1.023338\n",
            "pdays            12.832633  4        1.375750\n",
            "previous          6.425411  1        2.534840\n",
            "poutcome         48.136761  2        2.634021\n",
            "emp.var.rate     39.693180  1        6.300252\n",
            "cons.price.idx   12.280859  1        3.504406\n",
            "cons.conf.idx     4.059576  1        2.014839\n",
            "euribor3m       107.456670  1       10.366131\n",
            "nr.employed      53.566029  1        7.318882\n",
            "sin_month         2.310255  1        1.519952\n",
            "cos_month         2.167689  1        1.472307\n",
            "sin_day_of_week   1.013990  1        1.006971\n",
            "cos_day_of_week   1.008220  1        1.004102\n"
          ]
        }
      ]
    },
    {
      "cell_type": "code",
      "source": [
        "num_vars <- train %>% select(where(is.numeric))\n",
        "corrplot(cor(num_vars), method = 'color')"
      ],
      "metadata": {
        "colab": {
          "base_uri": "https://localhost:8080/",
          "height": 252
        },
        "id": "_gk-NX86gfm7",
        "outputId": "875762bf-1187-4e5f-82f8-614a0e0d78b0"
      },
      "execution_count": null,
      "outputs": [
        {
          "output_type": "error",
          "ename": "ERROR",
          "evalue": "Error in select(., where(is.numeric)): unused argument (where(is.numeric))\n",
          "traceback": [
            "Error in select(., where(is.numeric)): unused argument (where(is.numeric))\nTraceback:\n",
            "1. .handleSimpleError(function (cnd) \n . {\n .     watcher$capture_plot_and_output()\n .     cnd <- sanitize_call(cnd)\n .     watcher$push(cnd)\n .     switch(on_error, continue = invokeRestart(\"eval_continue\"), \n .         stop = invokeRestart(\"eval_stop\"), error = NULL)\n . }, \"unused argument (where(is.numeric))\", base::quote(select(., \n .     where(is.numeric))))"
          ]
        }
      ]
    },
    {
      "cell_type": "code",
      "source": [
        "probabilities <- predict(model, newdata=test, type='response')\n",
        "predicted_classes <- ifelse(probabilities >= 0.5, 1, 0)"
      ],
      "metadata": {
        "id": "q4-RTwXTh4c3"
      },
      "execution_count": null,
      "outputs": []
    },
    {
      "cell_type": "code",
      "source": [
        "Precision(test$y, predicted_classes, positive = '1')\n",
        "Recall(test$y, predicted_classes, positive = '1')\n",
        "F1_Score(test$y, predicted_classes, positive = '1')\n",
        "ConfusionMatrix(test$y, predicted_classes)"
      ],
      "metadata": {
        "colab": {
          "base_uri": "https://localhost:8080/",
          "height": 141
        },
        "id": "T3tjthf6n0C2",
        "outputId": "c49ee0cf-e553-4022-918f-e6f5f5bbd33d"
      },
      "execution_count": null,
      "outputs": [
        {
          "output_type": "display_data",
          "data": {
            "text/html": [
              "0.298423423423423"
            ],
            "text/markdown": "0.298423423423423",
            "text/latex": "0.298423423423423",
            "text/plain": [
              "[1] 0.2984234"
            ]
          },
          "metadata": {}
        },
        {
          "output_type": "display_data",
          "data": {
            "text/html": [
              "0.627962085308057"
            ],
            "text/markdown": "0.627962085308057",
            "text/latex": "0.627962085308057",
            "text/plain": [
              "[1] 0.6279621"
            ]
          },
          "metadata": {}
        },
        {
          "output_type": "display_data",
          "data": {
            "text/html": [
              "0.404580152671756"
            ],
            "text/markdown": "0.404580152671756",
            "text/latex": "0.404580152671756",
            "text/plain": [
              "[1] 0.4045802"
            ]
          },
          "metadata": {}
        },
        {
          "output_type": "display_data",
          "data": {
            "text/plain": [
              "      y_pred\n",
              "y_true    0    1\n",
              "     0 2586  157\n",
              "     1  623  265"
            ]
          },
          "metadata": {}
        }
      ]
    },
    {
      "cell_type": "code",
      "source": [
        "# Tune for F1 Score\n",
        "\n",
        "thresholds <- seq(0.1, 0.9, by = 0.05)\n",
        "f1_scores <- sapply(thresholds, function(t) {\n",
        "  preds <- ifelse(probabilities >= t, 1, 0)\n",
        "  f1 <- F1_Score(test$y, preds, positive = '1')\n",
        "  return(f1)\n",
        "})\n",
        "\n",
        "plot(thresholds, f1_scores, type = 'b', main = 'F1 Score by Threshold', ylab = 'F1 Score', xlab = 'Threshold')\n",
        "best_thresh <- thresholds[which.max(f1_scores)]"
      ],
      "metadata": {
        "colab": {
          "base_uri": "https://localhost:8080/",
          "height": 437
        },
        "id": "TYcugNsbh6cD",
        "outputId": "e653602b-0b02-48df-ffbf-77cf81cda718"
      },
      "execution_count": null,
      "outputs": [
        {
          "output_type": "display_data",
          "data": {
            "text/plain": [
              "Plot with title “F1 Score by Threshold”"
            ],
            "image/png": "[encoded data removed]"
          },
          "metadata": {
            "image/png": {
              "width": 420,
              "height": 420
            }
          }
        }
      ]
    },
    {
      "cell_type": "code",
      "source": [
        "probabilities <- predict(model, newdata=test, type='response')\n",
        "predicted_classes <- ifelse(probabilities >= 0.6, 1, 0)"
      ],
      "metadata": {
        "id": "sNSkpdESrJIQ"
      },
      "execution_count": null,
      "outputs": []
    },
    {
      "cell_type": "code",
      "source": [
        "Precision(test$y, predicted_classes, positive = '1')\n",
        "Recall(test$y, predicted_classes, positive = '1')\n",
        "F1_Score(test$y, predicted_classes, positive = '1')\n",
        "ConfusionMatrix(test$y, predicted_classes)"
      ],
      "metadata": {
        "colab": {
          "base_uri": "https://localhost:8080/",
          "height": 141
        },
        "outputId": "c7ab9397-438a-466f-8c3e-d35840822bbc",
        "id": "FM0jWTVVrJIR"
      },
      "execution_count": null,
      "outputs": [
        {
          "output_type": "display_data",
          "data": {
            "text/html": [
              "0.409867172675522"
            ],
            "text/markdown": "0.409867172675522",
            "text/latex": "0.409867172675522",
            "text/plain": [
              "[1] 0.4098672"
            ]
          },
          "metadata": {}
        },
        {
          "output_type": "display_data",
          "data": {
            "text/html": [
              "0.511848341232227"
            ],
            "text/markdown": "0.511848341232227",
            "text/latex": "0.511848341232227",
            "text/plain": [
              "[1] 0.5118483"
            ]
          },
          "metadata": {}
        },
        {
          "output_type": "display_data",
          "data": {
            "text/html": [
              "0.455216016859852"
            ],
            "text/markdown": "0.455216016859852",
            "text/latex": "0.455216016859852",
            "text/plain": [
              "[1] 0.455216"
            ]
          },
          "metadata": {}
        },
        {
          "output_type": "display_data",
          "data": {
            "text/plain": [
              "      y_pred\n",
              "y_true    0    1\n",
              "     0 2898  206\n",
              "     1  311  216"
            ]
          },
          "metadata": {}
        }
      ]
    },
    {
      "cell_type": "code",
      "source": [
        "lda_model <- lda(y ~ ., data = train)\n",
        "plot(lda_model)\n",
        "lda_predictions_test <- predict(lda_model, newdata = test)\n",
        "predicted_classes_test <- lda_predictions_test$class\n",
        "F1_Score(predicted_classes_test, test$y, positive='1')"
      ],
      "metadata": {
        "colab": {
          "base_uri": "https://localhost:8080/",
          "height": 454
        },
        "id": "P5c-aR0HxPwm",
        "outputId": "cb1cebf9-61d2-4306-e53e-c0cc2dd876d3"
      },
      "execution_count": null,
      "outputs": [
        {
          "output_type": "display_data",
          "data": {
            "text/html": [
              "0.402704733283246"
            ],
            "text/markdown": "0.402704733283246",
            "text/latex": "0.402704733283246",
            "text/plain": [
              "[1] 0.4027047"
            ]
          },
          "metadata": {}
        },
        {
          "output_type": "display_data",
          "data": {
            "text/plain": [
              "plot without title"
            ],
            "image/png": "[encoded data removed]"
          },
          "metadata": {
            "image/png": {
              "width": 420,
              "height": 420
            }
          }
        }
      ]
    },
    {
      "cell_type": "code",
      "source": [
        "qda_model <- qda(y ~ ., data = train)\n",
        "summary(qda_model)\n",
        "qda_predictions_test <- predict(qda_model, newdata = test)\n",
        "predicted_classes_test <- qda_predictions_test$class\n",
        "F1_Score(predicted_classes_test, test$y, positive='1')"
      ],
      "metadata": {
        "colab": {
          "base_uri": "https://localhost:8080/",
          "height": 306
        },
        "id": "1vimHubQxwFA",
        "outputId": "20860886-b492-43b9-c5d5-5c9ee6707dc9"
      },
      "execution_count": null,
      "outputs": [
        {
          "output_type": "error",
          "ename": "ERROR",
          "evalue": "Error in qda.default(x, grouping, ...): rank deficiency in group 0\n",
          "traceback": [
            "Error in qda.default(x, grouping, ...): rank deficiency in group 0\nTraceback:\n",
            "1. qda.formula(y ~ ., data = train)",
            "2. qda.default(x, grouping, ...)",
            "3. stop(gettextf(\"rank deficiency in group %s\", lev[i]), domain = NA)",
            "4. .handleSimpleError(function (cnd) \n . {\n .     watcher$capture_plot_and_output()\n .     cnd <- sanitize_call(cnd)\n .     watcher$push(cnd)\n .     switch(on_error, continue = invokeRestart(\"eval_continue\"), \n .         stop = invokeRestart(\"eval_stop\"), error = NULL)\n . }, \"rank deficiency in group 0\", base::quote(qda.default(x, grouping, \n .     ...)))"
          ]
        }
      ]
    },
    {
      "cell_type": "code",
      "source": [
        "nb_model <- naiveBayes(y ~ ., data = train)\n",
        "nb_preds <- predict(nb_model, newdata = test)\n",
        "F1_Score(nb_preds, test$y, positive = '1')"
      ],
      "metadata": {
        "colab": {
          "base_uri": "https://localhost:8080/",
          "height": 34
        },
        "id": "7nvd0nsJzaas",
        "outputId": "1908d830-713e-4949-ba6b-352a584787c9"
      },
      "execution_count": null,
      "outputs": [
        {
          "output_type": "display_data",
          "data": {
            "text/html": [
              "0.359974826935179"
            ],
            "text/markdown": "0.359974826935179",
            "text/latex": "0.359974826935179",
            "text/plain": [
              "[1] 0.3599748"
            ]
          },
          "metadata": {}
        }
      ]
    },
    {
      "cell_type": "code",
      "source": [],
      "metadata": {
        "id": "4mbOinJmM0NX"
      },
      "execution_count": null,
      "outputs": []
    }
  ]
}