{
  "nbformat": 4,
  "nbformat_minor": 0,
  "metadata": {
    "colab": {
      "provenance": [],
      "gpuType": "V28",
      "authorship_tag": "ABX9TyOgmtk8atuyRYIiIuvgmA3J",
      "include_colab_link": true
    },
    "kernelspec": {
      "name": "ir",
      "display_name": "R"
    },
    "language_info": {
      "name": "R"
    },
    "accelerator": "TPU"
  },
  "cells": [
    {
      "cell_type": "markdown",
      "metadata": {
        "id": "view-in-github",
        "colab_type": "text"
      },
      "source": [
        "<a href=\"https://colab.research.google.com/github/michp15/statistical_learning_class/blob/main/stat_learn_classif_proj.ipynb\" target=\"_parent\"><img src=\"https://colab.research.google.com/assets/colab-badge.svg\" alt=\"Open In Colab\"/></a>"
      ]
    },
    {
      "cell_type": "code",
      "source": [
        "# Install necessary packages.\n",
        "\n",
        "install.packages('corrplot')\n",
        "install.packages('naniar')\n",
        "install.packages('glmnet')\n",
        "install.packages('VIM')\n",
        "install.packages(c(\"doParallel\", \"foreach\"))"
      ],
      "metadata": {
        "id": "RLEFhe2KwEGu",
        "colab": {
          "base_uri": "https://localhost:8080/"
        },
        "outputId": "f8ea6478-4a70-4d86-960a-1503f56f172b"
      },
      "execution_count": null,
      "outputs": [
        {
          "output_type": "stream",
          "name": "stderr",
          "text": [
            "Installing package into ‘/usr/local/lib/R/site-library’\n",
            "(as ‘lib’ is unspecified)\n",
            "\n",
            "Installing package into ‘/usr/local/lib/R/site-library’\n",
            "(as ‘lib’ is unspecified)\n",
            "\n",
            "also installing the dependencies ‘gridExtra’, ‘plyr’, ‘norm’, ‘visdat’, ‘viridis’, ‘UpSetR’\n",
            "\n",
            "\n",
            "Installing package into ‘/usr/local/lib/R/site-library’\n",
            "(as ‘lib’ is unspecified)\n",
            "\n",
            "also installing the dependencies ‘iterators’, ‘foreach’, ‘shape’, ‘RcppEigen’\n",
            "\n",
            "\n",
            "Installing package into ‘/usr/local/lib/R/site-library’\n",
            "(as ‘lib’ is unspecified)\n",
            "\n",
            "also installing the dependencies ‘rbibutils’, ‘cowplot’, ‘Deriv’, ‘microbenchmark’, ‘Rdpack’, ‘numDeriv’, ‘doBy’, ‘SparseM’, ‘MatrixModels’, ‘minqa’, ‘nloptr’, ‘reformulas’, ‘zoo’, ‘carData’, ‘abind’, ‘Formula’, ‘pbkrtest’, ‘quantreg’, ‘lme4’, ‘DEoptimR’, ‘lmtest’, ‘proxy’, ‘car’, ‘robustbase’, ‘sp’, ‘vcd’, ‘e1071’, ‘laeken’, ‘ranger’\n",
            "\n",
            "\n",
            "Installing packages into ‘/usr/local/lib/R/site-library’\n",
            "(as ‘lib’ is unspecified)\n",
            "\n"
          ]
        }
      ]
    },
    {
      "cell_type": "code",
      "source": [
        "# Import packages.\n",
        "\n",
        "library(utils)\n",
        "library(corrplot)\n",
        "library(dplyr)\n",
        "library(naniar)\n",
        "library(tidyverse)\n",
        "library(glmnet)\n",
        "library(tidyr)\n",
        "library(VIM)\n",
        "library(foreach)\n",
        "library(doParallel)"
      ],
      "metadata": {
        "id": "CqaAy0vVNIy8",
        "colab": {
          "base_uri": "https://localhost:8080/"
        },
        "outputId": "dd81c07d-edd6-4e2f-ea12-a71197887adb"
      },
      "execution_count": null,
      "outputs": [
        {
          "output_type": "stream",
          "name": "stderr",
          "text": [
            "corrplot 0.95 loaded\n",
            "\n",
            "\n",
            "Attaching package: ‘dplyr’\n",
            "\n",
            "\n",
            "The following objects are masked from ‘package:stats’:\n",
            "\n",
            "    filter, lag\n",
            "\n",
            "\n",
            "The following objects are masked from ‘package:base’:\n",
            "\n",
            "    intersect, setdiff, setequal, union\n",
            "\n",
            "\n",
            "── \u001b[1mAttaching core tidyverse packages\u001b[22m ──────────────────────── tidyverse 2.0.0 ──\n",
            "\u001b[32m✔\u001b[39m \u001b[34mforcats  \u001b[39m 1.0.0     \u001b[32m✔\u001b[39m \u001b[34mreadr    \u001b[39m 2.1.5\n",
            "\u001b[32m✔\u001b[39m \u001b[34mggplot2  \u001b[39m 3.5.1     \u001b[32m✔\u001b[39m \u001b[34mstringr  \u001b[39m 1.5.1\n",
            "\u001b[32m✔\u001b[39m \u001b[34mlubridate\u001b[39m 1.9.4     \u001b[32m✔\u001b[39m \u001b[34mtibble   \u001b[39m 3.2.1\n",
            "\u001b[32m✔\u001b[39m \u001b[34mpurrr    \u001b[39m 1.0.4     \u001b[32m✔\u001b[39m \u001b[34mtidyr    \u001b[39m 1.3.1\n",
            "── \u001b[1mConflicts\u001b[22m ────────────────────────────────────────── tidyverse_conflicts() ──\n",
            "\u001b[31m✖\u001b[39m \u001b[34mdplyr\u001b[39m::\u001b[32mfilter()\u001b[39m masks \u001b[34mstats\u001b[39m::filter()\n",
            "\u001b[31m✖\u001b[39m \u001b[34mdplyr\u001b[39m::\u001b[32mlag()\u001b[39m    masks \u001b[34mstats\u001b[39m::lag()\n",
            "\u001b[36mℹ\u001b[39m Use the conflicted package (\u001b[3m\u001b[34m<http://conflicted.r-lib.org/>\u001b[39m\u001b[23m) to force all conflicts to become errors\n",
            "Loading required package: Matrix\n",
            "\n",
            "\n",
            "Attaching package: ‘Matrix’\n",
            "\n",
            "\n",
            "The following objects are masked from ‘package:tidyr’:\n",
            "\n",
            "    expand, pack, unpack\n",
            "\n",
            "\n",
            "Loaded glmnet 4.1-8\n",
            "\n",
            "Loading required package: colorspace\n",
            "\n",
            "Loading required package: grid\n",
            "\n",
            "VIM is ready to use.\n",
            "\n",
            "\n",
            "Suggestions and bug-reports can be submitted at: https://github.com/statistikat/VIM/issues\n",
            "\n",
            "\n",
            "Attaching package: ‘VIM’\n",
            "\n",
            "\n",
            "The following object is masked from ‘package:datasets’:\n",
            "\n",
            "    sleep\n",
            "\n",
            "\n",
            "\n",
            "Attaching package: ‘foreach’\n",
            "\n",
            "\n",
            "The following objects are masked from ‘package:purrr’:\n",
            "\n",
            "    accumulate, when\n",
            "\n",
            "\n",
            "Loading required package: iterators\n",
            "\n",
            "Loading required package: parallel\n",
            "\n"
          ]
        }
      ]
    },
    {
      "cell_type": "code",
      "source": [
        "# Download dataset.\n",
        "\n",
        "download.file('https://raw.githubusercontent.com/michp15/statistical_learning_class/refs/heads/main/bank-additional-full.csv', 'bank.csv')"
      ],
      "metadata": {
        "id": "2RnI2P0PN96L"
      },
      "execution_count": null,
      "outputs": []
    },
    {
      "cell_type": "code",
      "source": [
        "# Read dataset.\n",
        "\n",
        "df = read.csv('bank.csv', sep=';')"
      ],
      "metadata": {
        "id": "4sSG7FM-O-p-"
      },
      "execution_count": null,
      "outputs": []
    },
    {
      "cell_type": "code",
      "source": [
        "# Inspect dataset for correct formatting.\n",
        "\n",
        "head(df)"
      ],
      "metadata": {
        "colab": {
          "base_uri": "https://localhost:8080/",
          "height": 306
        },
        "id": "edB3wv8ePK3g",
        "outputId": "aca43755-263e-46f6-dc67-a9018860a942"
      },
      "execution_count": null,
      "outputs": [
        {
          "output_type": "display_data",
          "data": {
            "text/html": [
              "<table class=\"dataframe\">\n",
              "<caption>A data.frame: 6 × 21</caption>\n",
              "<thead>\n",
              "\t<tr><th></th><th scope=col>age</th><th scope=col>job</th><th scope=col>marital</th><th scope=col>education</th><th scope=col>default</th><th scope=col>housing</th><th scope=col>loan</th><th scope=col>contact</th><th scope=col>month</th><th scope=col>day_of_week</th><th scope=col>⋯</th><th scope=col>campaign</th><th scope=col>pdays</th><th scope=col>previous</th><th scope=col>poutcome</th><th scope=col>emp.var.rate</th><th scope=col>cons.price.idx</th><th scope=col>cons.conf.idx</th><th scope=col>euribor3m</th><th scope=col>nr.employed</th><th scope=col>y</th></tr>\n",
              "\t<tr><th></th><th scope=col>&lt;int&gt;</th><th scope=col>&lt;chr&gt;</th><th scope=col>&lt;chr&gt;</th><th scope=col>&lt;chr&gt;</th><th scope=col>&lt;chr&gt;</th><th scope=col>&lt;chr&gt;</th><th scope=col>&lt;chr&gt;</th><th scope=col>&lt;chr&gt;</th><th scope=col>&lt;chr&gt;</th><th scope=col>&lt;chr&gt;</th><th scope=col>⋯</th><th scope=col>&lt;int&gt;</th><th scope=col>&lt;int&gt;</th><th scope=col>&lt;int&gt;</th><th scope=col>&lt;chr&gt;</th><th scope=col>&lt;dbl&gt;</th><th scope=col>&lt;dbl&gt;</th><th scope=col>&lt;dbl&gt;</th><th scope=col>&lt;dbl&gt;</th><th scope=col>&lt;dbl&gt;</th><th scope=col>&lt;chr&gt;</th></tr>\n",
              "</thead>\n",
              "<tbody>\n",
              "\t<tr><th scope=row>1</th><td>56</td><td>housemaid</td><td>married</td><td>basic.4y   </td><td>no     </td><td>no </td><td>no </td><td>telephone</td><td>may</td><td>mon</td><td>⋯</td><td>1</td><td>999</td><td>0</td><td>nonexistent</td><td>1.1</td><td>93.994</td><td>-36.4</td><td>4.857</td><td>5191</td><td>no</td></tr>\n",
              "\t<tr><th scope=row>2</th><td>57</td><td>services </td><td>married</td><td>high.school</td><td>unknown</td><td>no </td><td>no </td><td>telephone</td><td>may</td><td>mon</td><td>⋯</td><td>1</td><td>999</td><td>0</td><td>nonexistent</td><td>1.1</td><td>93.994</td><td>-36.4</td><td>4.857</td><td>5191</td><td>no</td></tr>\n",
              "\t<tr><th scope=row>3</th><td>37</td><td>services </td><td>married</td><td>high.school</td><td>no     </td><td>yes</td><td>no </td><td>telephone</td><td>may</td><td>mon</td><td>⋯</td><td>1</td><td>999</td><td>0</td><td>nonexistent</td><td>1.1</td><td>93.994</td><td>-36.4</td><td>4.857</td><td>5191</td><td>no</td></tr>\n",
              "\t<tr><th scope=row>4</th><td>40</td><td>admin.   </td><td>married</td><td>basic.6y   </td><td>no     </td><td>no </td><td>no </td><td>telephone</td><td>may</td><td>mon</td><td>⋯</td><td>1</td><td>999</td><td>0</td><td>nonexistent</td><td>1.1</td><td>93.994</td><td>-36.4</td><td>4.857</td><td>5191</td><td>no</td></tr>\n",
              "\t<tr><th scope=row>5</th><td>56</td><td>services </td><td>married</td><td>high.school</td><td>no     </td><td>no </td><td>yes</td><td>telephone</td><td>may</td><td>mon</td><td>⋯</td><td>1</td><td>999</td><td>0</td><td>nonexistent</td><td>1.1</td><td>93.994</td><td>-36.4</td><td>4.857</td><td>5191</td><td>no</td></tr>\n",
              "\t<tr><th scope=row>6</th><td>45</td><td>services </td><td>married</td><td>basic.9y   </td><td>unknown</td><td>no </td><td>no </td><td>telephone</td><td>may</td><td>mon</td><td>⋯</td><td>1</td><td>999</td><td>0</td><td>nonexistent</td><td>1.1</td><td>93.994</td><td>-36.4</td><td>4.857</td><td>5191</td><td>no</td></tr>\n",
              "</tbody>\n",
              "</table>\n"
            ],
            "text/markdown": "\nA data.frame: 6 × 21\n\n| <!--/--> | age &lt;int&gt; | job &lt;chr&gt; | marital &lt;chr&gt; | education &lt;chr&gt; | default &lt;chr&gt; | housing &lt;chr&gt; | loan &lt;chr&gt; | contact &lt;chr&gt; | month &lt;chr&gt; | day_of_week &lt;chr&gt; | ⋯ ⋯ | campaign &lt;int&gt; | pdays &lt;int&gt; | previous &lt;int&gt; | poutcome &lt;chr&gt; | emp.var.rate &lt;dbl&gt; | cons.price.idx &lt;dbl&gt; | cons.conf.idx &lt;dbl&gt; | euribor3m &lt;dbl&gt; | nr.employed &lt;dbl&gt; | y &lt;chr&gt; |\n|---|---|---|---|---|---|---|---|---|---|---|---|---|---|---|---|---|---|---|---|---|---|\n| 1 | 56 | housemaid | married | basic.4y    | no      | no  | no  | telephone | may | mon | ⋯ | 1 | 999 | 0 | nonexistent | 1.1 | 93.994 | -36.4 | 4.857 | 5191 | no |\n| 2 | 57 | services  | married | high.school | unknown | no  | no  | telephone | may | mon | ⋯ | 1 | 999 | 0 | nonexistent | 1.1 | 93.994 | -36.4 | 4.857 | 5191 | no |\n| 3 | 37 | services  | married | high.school | no      | yes | no  | telephone | may | mon | ⋯ | 1 | 999 | 0 | nonexistent | 1.1 | 93.994 | -36.4 | 4.857 | 5191 | no |\n| 4 | 40 | admin.    | married | basic.6y    | no      | no  | no  | telephone | may | mon | ⋯ | 1 | 999 | 0 | nonexistent | 1.1 | 93.994 | -36.4 | 4.857 | 5191 | no |\n| 5 | 56 | services  | married | high.school | no      | no  | yes | telephone | may | mon | ⋯ | 1 | 999 | 0 | nonexistent | 1.1 | 93.994 | -36.4 | 4.857 | 5191 | no |\n| 6 | 45 | services  | married | basic.9y    | unknown | no  | no  | telephone | may | mon | ⋯ | 1 | 999 | 0 | nonexistent | 1.1 | 93.994 | -36.4 | 4.857 | 5191 | no |\n\n",
            "text/latex": "A data.frame: 6 × 21\n\\begin{tabular}{r|lllllllllllllllllllll}\n  & age & job & marital & education & default & housing & loan & contact & month & day\\_of\\_week & ⋯ & campaign & pdays & previous & poutcome & emp.var.rate & cons.price.idx & cons.conf.idx & euribor3m & nr.employed & y\\\\\n  & <int> & <chr> & <chr> & <chr> & <chr> & <chr> & <chr> & <chr> & <chr> & <chr> & ⋯ & <int> & <int> & <int> & <chr> & <dbl> & <dbl> & <dbl> & <dbl> & <dbl> & <chr>\\\\\n\\hline\n\t1 & 56 & housemaid & married & basic.4y    & no      & no  & no  & telephone & may & mon & ⋯ & 1 & 999 & 0 & nonexistent & 1.1 & 93.994 & -36.4 & 4.857 & 5191 & no\\\\\n\t2 & 57 & services  & married & high.school & unknown & no  & no  & telephone & may & mon & ⋯ & 1 & 999 & 0 & nonexistent & 1.1 & 93.994 & -36.4 & 4.857 & 5191 & no\\\\\n\t3 & 37 & services  & married & high.school & no      & yes & no  & telephone & may & mon & ⋯ & 1 & 999 & 0 & nonexistent & 1.1 & 93.994 & -36.4 & 4.857 & 5191 & no\\\\\n\t4 & 40 & admin.    & married & basic.6y    & no      & no  & no  & telephone & may & mon & ⋯ & 1 & 999 & 0 & nonexistent & 1.1 & 93.994 & -36.4 & 4.857 & 5191 & no\\\\\n\t5 & 56 & services  & married & high.school & no      & no  & yes & telephone & may & mon & ⋯ & 1 & 999 & 0 & nonexistent & 1.1 & 93.994 & -36.4 & 4.857 & 5191 & no\\\\\n\t6 & 45 & services  & married & basic.9y    & unknown & no  & no  & telephone & may & mon & ⋯ & 1 & 999 & 0 & nonexistent & 1.1 & 93.994 & -36.4 & 4.857 & 5191 & no\\\\\n\\end{tabular}\n",
            "text/plain": [
              "  age job       marital education   default housing loan contact   month\n",
              "1 56  housemaid married basic.4y    no      no      no   telephone may  \n",
              "2 57  services  married high.school unknown no      no   telephone may  \n",
              "3 37  services  married high.school no      yes     no   telephone may  \n",
              "4 40  admin.    married basic.6y    no      no      no   telephone may  \n",
              "5 56  services  married high.school no      no      yes  telephone may  \n",
              "6 45  services  married basic.9y    unknown no      no   telephone may  \n",
              "  day_of_week ⋯ campaign pdays previous poutcome    emp.var.rate cons.price.idx\n",
              "1 mon         ⋯ 1        999   0        nonexistent 1.1          93.994        \n",
              "2 mon         ⋯ 1        999   0        nonexistent 1.1          93.994        \n",
              "3 mon         ⋯ 1        999   0        nonexistent 1.1          93.994        \n",
              "4 mon         ⋯ 1        999   0        nonexistent 1.1          93.994        \n",
              "5 mon         ⋯ 1        999   0        nonexistent 1.1          93.994        \n",
              "6 mon         ⋯ 1        999   0        nonexistent 1.1          93.994        \n",
              "  cons.conf.idx euribor3m nr.employed y \n",
              "1 -36.4         4.857     5191        no\n",
              "2 -36.4         4.857     5191        no\n",
              "3 -36.4         4.857     5191        no\n",
              "4 -36.4         4.857     5191        no\n",
              "5 -36.4         4.857     5191        no\n",
              "6 -36.4         4.857     5191        no"
            ]
          },
          "metadata": {}
        }
      ]
    },
    {
      "cell_type": "code",
      "source": [
        "# View types.\n",
        "\n",
        "str(df)"
      ],
      "metadata": {
        "colab": {
          "base_uri": "https://localhost:8080/"
        },
        "id": "Bpgio2Raoiez",
        "outputId": "4a4fa6f6-3285-4f95-9b47-0ed6d76a6844"
      },
      "execution_count": null,
      "outputs": [
        {
          "output_type": "stream",
          "name": "stdout",
          "text": [
            "'data.frame':\t41188 obs. of  21 variables:\n",
            " $ age           : int  56 57 37 40 56 45 59 41 24 25 ...\n",
            " $ job           : chr  \"housemaid\" \"services\" \"services\" \"admin.\" ...\n",
            " $ marital       : chr  \"married\" \"married\" \"married\" \"married\" ...\n",
            " $ education     : chr  \"basic.4y\" \"high.school\" \"high.school\" \"basic.6y\" ...\n",
            " $ default       : chr  \"no\" \"unknown\" \"no\" \"no\" ...\n",
            " $ housing       : chr  \"no\" \"no\" \"yes\" \"no\" ...\n",
            " $ loan          : chr  \"no\" \"no\" \"no\" \"no\" ...\n",
            " $ contact       : chr  \"telephone\" \"telephone\" \"telephone\" \"telephone\" ...\n",
            " $ month         : chr  \"may\" \"may\" \"may\" \"may\" ...\n",
            " $ day_of_week   : chr  \"mon\" \"mon\" \"mon\" \"mon\" ...\n",
            " $ duration      : int  261 149 226 151 307 198 139 217 380 50 ...\n",
            " $ campaign      : int  1 1 1 1 1 1 1 1 1 1 ...\n",
            " $ pdays         : int  999 999 999 999 999 999 999 999 999 999 ...\n",
            " $ previous      : int  0 0 0 0 0 0 0 0 0 0 ...\n",
            " $ poutcome      : chr  \"nonexistent\" \"nonexistent\" \"nonexistent\" \"nonexistent\" ...\n",
            " $ emp.var.rate  : num  1.1 1.1 1.1 1.1 1.1 1.1 1.1 1.1 1.1 1.1 ...\n",
            " $ cons.price.idx: num  94 94 94 94 94 ...\n",
            " $ cons.conf.idx : num  -36.4 -36.4 -36.4 -36.4 -36.4 -36.4 -36.4 -36.4 -36.4 -36.4 ...\n",
            " $ euribor3m     : num  4.86 4.86 4.86 4.86 4.86 ...\n",
            " $ nr.employed   : num  5191 5191 5191 5191 5191 ...\n",
            " $ y             : chr  \"no\" \"no\" \"no\" \"no\" ...\n"
          ]
        }
      ]
    },
    {
      "cell_type": "code",
      "source": [
        "# View distributions of categorical data.\n",
        "\n",
        "for (col in colnames(df)){\n",
        "  if (!is.numeric(df[, col])){\n",
        "    print(col)\n",
        "    print(table(df[, col]))\n",
        "    cat('\\n\\n')\n",
        "  }\n",
        "}"
      ],
      "metadata": {
        "colab": {
          "base_uri": "https://localhost:8080/"
        },
        "id": "5_Dqv4bhaXlo",
        "outputId": "48dfc200-df9c-48e5-8c08-d3cd24fe0c2c"
      },
      "execution_count": null,
      "outputs": [
        {
          "output_type": "stream",
          "name": "stdout",
          "text": [
            "[1] \"job\"\n",
            "\n",
            "       admin.   blue-collar  entrepreneur     housemaid    management \n",
            "        10422          9254          1456          1060          2924 \n",
            "      retired self-employed      services       student    technician \n",
            "         1720          1421          3969           875          6743 \n",
            "   unemployed       unknown \n",
            "         1014           330 \n",
            "\n",
            "\n",
            "[1] \"marital\"\n",
            "\n",
            "divorced  married   single  unknown \n",
            "    4612    24928    11568       80 \n",
            "\n",
            "\n",
            "[1] \"education\"\n",
            "\n",
            "           basic.4y            basic.6y            basic.9y         high.school \n",
            "               4176                2292                6045                9515 \n",
            "         illiterate professional.course   university.degree             unknown \n",
            "                 18                5243               12168                1731 \n",
            "\n",
            "\n",
            "[1] \"default\"\n",
            "\n",
            "     no unknown     yes \n",
            "  32588    8597       3 \n",
            "\n",
            "\n",
            "[1] \"housing\"\n",
            "\n",
            "     no unknown     yes \n",
            "  18622     990   21576 \n",
            "\n",
            "\n",
            "[1] \"loan\"\n",
            "\n",
            "     no unknown     yes \n",
            "  33950     990    6248 \n",
            "\n",
            "\n",
            "[1] \"contact\"\n",
            "\n",
            " cellular telephone \n",
            "    26144     15044 \n",
            "\n",
            "\n",
            "[1] \"month\"\n",
            "\n",
            "  apr   aug   dec   jul   jun   mar   may   nov   oct   sep \n",
            " 2632  6178   182  7174  5318   546 13769  4101   718   570 \n",
            "\n",
            "\n",
            "[1] \"day_of_week\"\n",
            "\n",
            " fri  mon  thu  tue  wed \n",
            "7827 8514 8623 8090 8134 \n",
            "\n",
            "\n",
            "[1] \"poutcome\"\n",
            "\n",
            "    failure nonexistent     success \n",
            "       4252       35563        1373 \n",
            "\n",
            "\n",
            "[1] \"y\"\n",
            "\n",
            "   no   yes \n",
            "36548  4640 \n",
            "\n",
            "\n"
          ]
        }
      ]
    },
    {
      "cell_type": "code",
      "source": [
        "# Remove the 'duration' and 'default' columns. Removing 'duration' prevent data leakage, and default is just uninformative.\n",
        "\n",
        "duration_vec <- c()\n",
        "index <- 1\n",
        "for (col in colnames(df)){\n",
        "  if (col == 'duration' | col == 'default'){\n",
        "    duration_vec[index] <- TRUE\n",
        "  } else {\n",
        "    duration_vec[index] <- FALSE\n",
        "  }\n",
        "  index <- index + 1\n",
        "}\n",
        "df <- df[, !duration_vec]\n",
        "rm(duration_vec)\n",
        "rm(index)"
      ],
      "metadata": {
        "id": "5JaVvLvYYhnf"
      },
      "execution_count": null,
      "outputs": []
    },
    {
      "cell_type": "code",
      "source": [
        "# Function that checks for and removes duplicates.\n",
        "\n",
        "check_remove_duplicates <- function(df) {\n",
        "  duplicates <- duplicated(df)\n",
        "\n",
        "  if (any(duplicates)){\n",
        "    cat('There are:', sum(duplicates), 'duplicates.')\n",
        "    df <- df[!duplicates,]\n",
        "    cat('\\n\\nDuplicates removed.')\n",
        "  }\n",
        "\n",
        "  return (df)\n",
        "}"
      ],
      "metadata": {
        "id": "NuHo3V8hV4oY"
      },
      "execution_count": null,
      "outputs": []
    },
    {
      "cell_type": "code",
      "source": [
        "# Remove duplicates.\n",
        "\n",
        "df <- check_remove_duplicates(df)"
      ],
      "metadata": {
        "colab": {
          "base_uri": "https://localhost:8080/"
        },
        "id": "fKfgUOQltdDo",
        "outputId": "a77b5c4c-e453-47a3-a3ae-7c87cbb77acf"
      },
      "execution_count": null,
      "outputs": [
        {
          "output_type": "stream",
          "name": "stdout",
          "text": [
            "There are: 1997 duplicates.\n",
            "\n",
            "Duplicates removed."
          ]
        }
      ]
    },
    {
      "cell_type": "code",
      "source": [
        "# Check for null values.\n",
        "\n",
        "cat(any(is.na(df)))"
      ],
      "metadata": {
        "colab": {
          "base_uri": "https://localhost:8080/"
        },
        "id": "08GSANnsWsIS",
        "outputId": "08d751ed-1bc3-4d97-d622-359ea2711398"
      },
      "execution_count": null,
      "outputs": [
        {
          "output_type": "stream",
          "name": "stdout",
          "text": [
            "FALSE"
          ]
        }
      ]
    },
    {
      "cell_type": "code",
      "source": [
        "# Check dependent variable distribution.\n",
        "\n",
        "table(df$y)"
      ],
      "metadata": {
        "colab": {
          "base_uri": "https://localhost:8080/",
          "height": 71
        },
        "id": "px46UpwhEGze",
        "outputId": "8bea579a-266a-4fad-d943-974d16b5d065"
      },
      "execution_count": null,
      "outputs": [
        {
          "output_type": "display_data",
          "data": {
            "text/plain": [
              "\n",
              "   no   yes \n",
              "34594  4597 "
            ]
          },
          "metadata": {}
        }
      ]
    },
    {
      "cell_type": "code",
      "source": [
        "# The number of rows that have 'pdays' equal to 999.\n",
        "\n",
        "sum(df$pdays == 999)"
      ],
      "metadata": {
        "colab": {
          "base_uri": "https://localhost:8080/",
          "height": 34
        },
        "id": "x2YifWp1IVLs",
        "outputId": "f5d2fda3-0bec-4871-acc4-d4536aed94af"
      },
      "execution_count": null,
      "outputs": [
        {
          "output_type": "display_data",
          "data": {
            "text/html": [
              "37677"
            ],
            "text/markdown": "37677",
            "text/latex": "37677",
            "text/plain": [
              "[1] 37677"
            ]
          },
          "metadata": {}
        }
      ]
    },
    {
      "cell_type": "code",
      "source": [
        "# Cluster 'pdays' in meaningful categories to resolve the '999' problem\n",
        "\n",
        "set.seed(123)\n",
        "kmeans_result <- kmeans(df[df$pdays != 999, 'pdays'], centers = 4, algorithm='Hartigan-Wong')\n",
        "plot(df[df$pdays != 999, 'pdays'],\n",
        "     col = kmeans_result$cluster,\n",
        "     pch = 19,\n",
        "     main = \"K-means Clustering for pdays\",\n",
        "     xlab = \"Index\",\n",
        "     ylab = \"pdays\",\n",
        "     col.axis = \"black\",\n",
        "     cex = 1.5)"
      ],
      "metadata": {
        "colab": {
          "base_uri": "https://localhost:8080/",
          "height": 437
        },
        "id": "_OhZi3_NJquD",
        "outputId": "46ddb5f6-78fa-4bc4-c066-d39172d4015a"
      },
      "execution_count": null,
      "outputs": [
        {
          "output_type": "display_data",
          "data": {
            "text/plain": [
              "Plot with title “K-means Clustering for pdays”"
            ],
            "image/png": "[encoded data removed]"
          },
          "metadata": {
            "image/png": {
              "width": 420,
              "height": 420
            }
          }
        }
      ]
    },
    {
      "cell_type": "code",
      "source": [
        "# Check cluster separation.\n",
        "\n",
        "kmeans_result$betweenss / kmeans_result$totss # -> well separated clusters"
      ],
      "metadata": {
        "colab": {
          "base_uri": "https://localhost:8080/",
          "height": 34
        },
        "id": "CgWhTFWFKEWJ",
        "outputId": "084b509f-2a7d-43aa-cddc-d49b73ef0808"
      },
      "execution_count": null,
      "outputs": [
        {
          "output_type": "display_data",
          "data": {
            "text/html": [
              "0.814125953307793"
            ],
            "text/markdown": "0.814125953307793",
            "text/latex": "0.814125953307793",
            "text/plain": [
              "[1] 0.814126"
            ]
          },
          "metadata": {}
        }
      ]
    },
    {
      "cell_type": "code",
      "source": [
        "# The cluster centroids.\n",
        "\n",
        "kmeans_result$centers"
      ],
      "metadata": {
        "colab": {
          "base_uri": "https://localhost:8080/",
          "height": 177
        },
        "id": "7_tNDJnHLnuD",
        "outputId": "cd540c58-1586-418d-dee9-c738b056508c"
      },
      "execution_count": null,
      "outputs": [
        {
          "output_type": "display_data",
          "data": {
            "text/html": [
              "<table class=\"dataframe\">\n",
              "<caption>A matrix: 4 × 1 of type dbl</caption>\n",
              "<tbody>\n",
              "\t<tr><th scope=row>1</th><td> 4.29932</td></tr>\n",
              "\t<tr><th scope=row>2</th><td>10.59375</td></tr>\n",
              "\t<tr><th scope=row>3</th><td>15.54795</td></tr>\n",
              "\t<tr><th scope=row>4</th><td>22.88889</td></tr>\n",
              "</tbody>\n",
              "</table>\n"
            ],
            "text/markdown": "\nA matrix: 4 × 1 of type dbl\n\n| 1 |  4.29932 |\n| 2 | 10.59375 |\n| 3 | 15.54795 |\n| 4 | 22.88889 |\n\n",
            "text/latex": "A matrix: 4 × 1 of type dbl\n\\begin{tabular}{r|l}\n\t1 &  4.29932\\\\\n\t2 & 10.59375\\\\\n\t3 & 15.54795\\\\\n\t4 & 22.88889\\\\\n\\end{tabular}\n",
            "text/plain": [
              "  [,1]    \n",
              "1  4.29932\n",
              "2 10.59375\n",
              "3 15.54795\n",
              "4 22.88889"
            ]
          },
          "metadata": {}
        }
      ]
    },
    {
      "cell_type": "code",
      "source": [
        "# Function to get the index of the minimum value in a vector.\n",
        "\n",
        "argmin <- function(vec){\n",
        "  min <- vec[1]\n",
        "  min_index <- 1\n",
        "  for (i in 1:length(vec)){\n",
        "    if (vec[i] < min){\n",
        "      min <- vec[i]\n",
        "      min_index <- i\n",
        "    }\n",
        "  }\n",
        "  return (min_index)\n",
        "}\n",
        "\n",
        "# Function to compute the Euclidean distance between two 1D points.\n",
        "\n",
        "euc_distance <- function(x, y){\n",
        "  return (abs(y - x))  # sqrt((y - x)^2) simplifies to abs(y - x)\n",
        "}\n",
        "\n",
        "# Function to find the index of the closest value in a 1D vector.\n",
        "\n",
        "argmin_distances <- function(x, vec){\n",
        "  distances <- sapply(vec, function(v) euc_distance(x, v))\n",
        "  return (argmin(distances))\n",
        "}\n",
        "\n",
        "# Encoding 'pdays' based on proximity to k-means cluster centers.\n",
        "\n",
        "pdays_new_values <- character(nrow(df))\n",
        "\n",
        "for (i in 1:nrow(df)){\n",
        "  if (df[i, 'pdays'] == 999){\n",
        "    pdays_new_values[i] <- 'Never'\n",
        "  } else {\n",
        "    temp <- argmin_distances(df[i, 'pdays'], kmeans_result$centers)\n",
        "    temp <- switch(temp,\n",
        "                   '1' = 'Very Recent',\n",
        "                   '2' = 'Recent',\n",
        "                   '3' = 'Moderate',\n",
        "                   '4' = 'Older')\n",
        "    pdays_new_values[i] <- temp\n",
        "  }\n",
        "}\n",
        "\n",
        "df$pdays <- pdays_new_values\n",
        "\n",
        "rm(pdays_new_values)"
      ],
      "metadata": {
        "id": "lYSAN0e8bH8p"
      },
      "execution_count": null,
      "outputs": []
    },
    {
      "cell_type": "code",
      "source": [
        "# Remove duplicates.\n",
        "\n",
        "df <- check_remove_duplicates(df)"
      ],
      "metadata": {
        "colab": {
          "base_uri": "https://localhost:8080/"
        },
        "id": "alkMFiSjtu--",
        "outputId": "004b11be-2e7f-4a75-a658-5030277020a7"
      },
      "execution_count": null,
      "outputs": [
        {
          "output_type": "stream",
          "name": "stdout",
          "text": [
            "There are: 5 duplicates.\n",
            "\n",
            "Duplicates removed."
          ]
        }
      ]
    },
    {
      "cell_type": "code",
      "source": [
        "# Find unique values for each categorical column.\n",
        "\n",
        "for (colname in colnames(df)){\n",
        "  if (!is.numeric(df[[colname]])){\n",
        "    cat(colname,'\\n')\n",
        "    cat(unique(df[[colname]]))\n",
        "    cat('\\n\\n')\n",
        "  }\n",
        "}"
      ],
      "metadata": {
        "colab": {
          "base_uri": "https://localhost:8080/"
        },
        "id": "1CMAgvMhQ_Fo",
        "outputId": "fd681e69-e118-49a4-d0b0-0d62657bdde9"
      },
      "execution_count": null,
      "outputs": [
        {
          "output_type": "stream",
          "name": "stdout",
          "text": [
            "job \n",
            "housemaid services admin. blue-collar technician retired management unemployed self-employed unknown entrepreneur student\n",
            "\n",
            "marital \n",
            "married single divorced unknown\n",
            "\n",
            "education \n",
            "basic.4y high.school basic.6y basic.9y professional.course unknown university.degree illiterate\n",
            "\n",
            "housing \n",
            "no yes unknown\n",
            "\n",
            "loan \n",
            "no yes unknown\n",
            "\n",
            "contact \n",
            "telephone cellular\n",
            "\n",
            "month \n",
            "may jun jul aug oct nov dec mar apr sep\n",
            "\n",
            "day_of_week \n",
            "mon tue wed thu fri\n",
            "\n",
            "pdays \n",
            "Never Very Recent Recent Moderate Older\n",
            "\n",
            "poutcome \n",
            "nonexistent failure success\n",
            "\n",
            "y \n",
            "no yes\n",
            "\n"
          ]
        }
      ]
    },
    {
      "cell_type": "code",
      "source": [
        "# Encode dependent variable 'y'.\n",
        "\n",
        "df$y <- as.numeric(ifelse(df$y == 'yes', 1, 0))"
      ],
      "metadata": {
        "id": "bub6DLmaWcGu"
      },
      "execution_count": null,
      "outputs": []
    },
    {
      "cell_type": "code",
      "source": [
        "# Encode 'month' and 'day_of_week' columns.\n",
        "\n",
        "for (i in 1:nrow(df)){\n",
        "  df[i, 'month'] <- switch(df[i, 'month'],\n",
        "                           'mar' = 0,\n",
        "                           'apr' = 1,\n",
        "                           'may' = 2,\n",
        "                           'jun' = 3,\n",
        "                           'jul' = 4,\n",
        "                           'aug' = 5,\n",
        "                           'sep' = 6,\n",
        "                           'oct' = 7,\n",
        "                           'nov' = 8,\n",
        "                           'dec' = 9)\n",
        "\n",
        "  df[i, 'day_of_week'] <- switch(df[i, 'day_of_week'],\n",
        "                                 'mon' = 0,\n",
        "                                 'tue' = 1,\n",
        "                                 'wed' = 2,\n",
        "                                 'thu' = 3,\n",
        "                                 'fri' = 4)\n",
        "}\n",
        "\n",
        "df$month <- as.numeric(df$month)\n",
        "df$day_of_week <- as.numeric(df$day_of_week)\n",
        "\n",
        "df$sin_month <- sin(2 * pi * df$month / 10)\n",
        "df$cos_month <- cos(2 * pi * df$month / 10)\n",
        "df$sin_day_of_week <- sin(2 * pi * df$day_of_week / 5)\n",
        "df$cos_day_of_week <- cos(2 * pi * df$day_of_week / 5)\n",
        "\n",
        "df <- subset(df, select = -c(month, day_of_week))"
      ],
      "metadata": {
        "id": "CpOyU37aWq5T"
      },
      "execution_count": null,
      "outputs": []
    },
    {
      "cell_type": "code",
      "source": [
        "# Encode the 'contact' column.\n",
        "\n",
        "names(df)[names(df) == 'contact'] <- 'mobile_phone'\n",
        "df$mobile_phone <- as.numeric(ifelse(df$mobile_phone == 'cellular', 1, 0))"
      ],
      "metadata": {
        "id": "zxkoTx0MCAI5"
      },
      "execution_count": null,
      "outputs": []
    },
    {
      "cell_type": "code",
      "source": [
        "# Remove duplicates.\n",
        "\n",
        "df <- check_remove_duplicates(df)"
      ],
      "metadata": {
        "id": "UwHXezbtShgW"
      },
      "execution_count": null,
      "outputs": []
    },
    {
      "cell_type": "code",
      "source": [
        "# replace 'unknown' values with NA.\n",
        "\n",
        "for (row in 1:nrow(df)){\n",
        "  for (col in colnames(df)){\n",
        "    if (df[row, col] == 'unknown'){\n",
        "      df[row, col] <- NA\n",
        "    }\n",
        "  }\n",
        "}"
      ],
      "metadata": {
        "id": "vgmPKO0ghnbn"
      },
      "execution_count": null,
      "outputs": []
    },
    {
      "cell_type": "code",
      "source": [
        "# Convert all character columns to factors.\n",
        "\n",
        "df[] <- lapply(df, function(x) if(is.character(x)) as.factor(x) else x)"
      ],
      "metadata": {
        "id": "sxaQBwMNTTAP"
      },
      "execution_count": null,
      "outputs": []
    },
    {
      "cell_type": "code",
      "source": [
        "# Chi-Square Test or Fisher's Exact Test for MCAR on categorical variables\n",
        "test_mcar_chisq <- function(df) {\n",
        "  results <- list()\n",
        "\n",
        "  # Identify categorical columns\n",
        "  categorical_cols <- names(df)[sapply(df, is.factor)]\n",
        "\n",
        "  for (col in categorical_cols) {\n",
        "    # Create missingness flag column for the current categorical column\n",
        "    df$missing_flag <- ifelse(is.na(df[[col]]), 1, 0)\n",
        "\n",
        "    # Perform Chi-Square test for independence between missingness and all other categorical variables\n",
        "    for (other_col in categorical_cols) {\n",
        "      if (col != other_col) {\n",
        "        # Create contingency table for Chi-Square test\n",
        "        table <- table(df[[other_col]], df$missing_flag)\n",
        "\n",
        "        # Check if any expected frequencies are too small\n",
        "        expected <- chisq.test(table)$expected\n",
        "        if ((sum(expected < 5) / length(expected)) > 0.2) {\n",
        "          # If expected frequencies are small, use Fisher's Exact Test with simulation\n",
        "          fisher_test <- fisher.test(table, simulate.p.value = TRUE)\n",
        "          p_value <- fisher_test$p.value\n",
        "          test_type <- \"Fisher's Exact Test (simulated)\"\n",
        "        } else {\n",
        "          # Otherwise, use Chi-Square Test\n",
        "          chisq_test <- chisq.test(table)\n",
        "          p_value <- chisq_test$p.value\n",
        "          test_type <- \"Chi-Square Test\"\n",
        "        }\n",
        "\n",
        "        # Store results\n",
        "        results[[col]] <- list(\n",
        "          column = col,\n",
        "          related_to = other_col,\n",
        "          p_value = p_value,\n",
        "          test_type = test_type,\n",
        "          interpretation = ifelse(p_value < 0.05, \"Not MCAR (related to other column)\", \"MCAR (independent of other column)\")\n",
        "        )\n",
        "      }\n",
        "    }\n",
        "\n",
        "    # Remove the missing_flag column after the test\n",
        "    df$missing_flag <- NULL\n",
        "  }\n",
        "\n",
        "  return(results)\n",
        "}\n",
        "\n",
        "# Example usage:\n",
        "mcar_results <- test_mcar_chisq(df)"
      ],
      "metadata": {
        "colab": {
          "base_uri": "https://localhost:8080/"
        },
        "id": "MdRtllLBSoeW",
        "outputId": "a5eb425d-a90c-4452-f748-68e2e9f479b4"
      },
      "execution_count": null,
      "outputs": [
        {
          "output_type": "stream",
          "name": "stderr",
          "text": [
            "Warning message in chisq.test(table):\n",
            "“Chi-squared approximation may be incorrect”\n",
            "Warning message in chisq.test(table):\n",
            "“Chi-squared approximation may be incorrect”\n",
            "Warning message in chisq.test(table):\n",
            "“Chi-squared approximation may be incorrect”\n",
            "Warning message in chisq.test(table):\n",
            "“Chi-squared approximation may be incorrect”\n",
            "Warning message in chisq.test(table):\n",
            "“Chi-squared approximation may be incorrect”\n",
            "Warning message in chisq.test(table):\n",
            "“Chi-squared approximation may be incorrect”\n",
            "Warning message in chisq.test(table):\n",
            "“Chi-squared approximation may be incorrect”\n",
            "Warning message in chisq.test(table):\n",
            "“Chi-squared approximation may be incorrect”\n",
            "Warning message in chisq.test(table):\n",
            "“Chi-squared approximation may be incorrect”\n",
            "Warning message in chisq.test(table):\n",
            "“Chi-squared approximation may be incorrect”\n",
            "Warning message in chisq.test(table):\n",
            "“Chi-squared approximation may be incorrect”\n",
            "Warning message in chisq.test(table):\n",
            "“Chi-squared approximation may be incorrect”\n",
            "Warning message in chisq.test(table):\n",
            "“Chi-squared approximation may be incorrect”\n",
            "Warning message in chisq.test(table):\n",
            "“Chi-squared approximation may be incorrect”\n",
            "Warning message in chisq.test(table):\n",
            "“Chi-squared approximation may be incorrect”\n",
            "Warning message in chisq.test(table):\n",
            "“Chi-squared approximation may be incorrect”\n",
            "Warning message in chisq.test(table):\n",
            "“Chi-squared approximation may be incorrect”\n",
            "Warning message in chisq.test(table):\n",
            "“Chi-squared approximation may be incorrect”\n",
            "Warning message in chisq.test(table):\n",
            "“Chi-squared approximation may be incorrect”\n",
            "Warning message in chisq.test(table):\n",
            "“Chi-squared approximation may be incorrect”\n",
            "Warning message in chisq.test(table):\n",
            "“Chi-squared approximation may be incorrect”\n"
          ]
        }
      ]
    },
    {
      "cell_type": "code",
      "source": [
        "mcar_results"
      ],
      "metadata": {
        "colab": {
          "base_uri": "https://localhost:8080/",
          "height": 1000
        },
        "id": "IpEmurDNSv2n",
        "outputId": "e4ed80f3-0162-448e-f018-b9d48b960a75"
      },
      "execution_count": null,
      "outputs": [
        {
          "output_type": "display_data",
          "data": {
            "text/html": [
              "<dl>\n",
              "\t<dt>$job</dt>\n",
              "\t\t<dd><dl>\n",
              "\t<dt>$column</dt>\n",
              "\t\t<dd>'job'</dd>\n",
              "\t<dt>$related_to</dt>\n",
              "\t\t<dd>'poutcome'</dd>\n",
              "\t<dt>$p_value</dt>\n",
              "\t\t<dd>0.000675330701990227</dd>\n",
              "\t<dt>$test_type</dt>\n",
              "\t\t<dd>'Chi-Square Test'</dd>\n",
              "\t<dt>$interpretation</dt>\n",
              "\t\t<dd>'Not MCAR (related to other column)'</dd>\n",
              "</dl>\n",
              "</dd>\n",
              "\t<dt>$marital</dt>\n",
              "\t\t<dd><dl>\n",
              "\t<dt>$column</dt>\n",
              "\t\t<dd>'marital'</dd>\n",
              "\t<dt>$related_to</dt>\n",
              "\t\t<dd>'poutcome'</dd>\n",
              "\t<dt>$p_value</dt>\n",
              "\t\t<dd>0.0807440498255998</dd>\n",
              "\t<dt>$test_type</dt>\n",
              "\t\t<dd>'Chi-Square Test'</dd>\n",
              "\t<dt>$interpretation</dt>\n",
              "\t\t<dd>'MCAR (independent of other column)'</dd>\n",
              "</dl>\n",
              "</dd>\n",
              "\t<dt>$education</dt>\n",
              "\t\t<dd><dl>\n",
              "\t<dt>$column</dt>\n",
              "\t\t<dd>'education'</dd>\n",
              "\t<dt>$related_to</dt>\n",
              "\t\t<dd>'poutcome'</dd>\n",
              "\t<dt>$p_value</dt>\n",
              "\t\t<dd>0.00153279186014276</dd>\n",
              "\t<dt>$test_type</dt>\n",
              "\t\t<dd>'Chi-Square Test'</dd>\n",
              "\t<dt>$interpretation</dt>\n",
              "\t\t<dd>'Not MCAR (related to other column)'</dd>\n",
              "</dl>\n",
              "</dd>\n",
              "\t<dt>$housing</dt>\n",
              "\t\t<dd><dl>\n",
              "\t<dt>$column</dt>\n",
              "\t\t<dd>'housing'</dd>\n",
              "\t<dt>$related_to</dt>\n",
              "\t\t<dd>'poutcome'</dd>\n",
              "\t<dt>$p_value</dt>\n",
              "\t\t<dd>0.504772628696621</dd>\n",
              "\t<dt>$test_type</dt>\n",
              "\t\t<dd>'Chi-Square Test'</dd>\n",
              "\t<dt>$interpretation</dt>\n",
              "\t\t<dd>'MCAR (independent of other column)'</dd>\n",
              "</dl>\n",
              "</dd>\n",
              "\t<dt>$loan</dt>\n",
              "\t\t<dd><dl>\n",
              "\t<dt>$column</dt>\n",
              "\t\t<dd>'loan'</dd>\n",
              "\t<dt>$related_to</dt>\n",
              "\t\t<dd>'poutcome'</dd>\n",
              "\t<dt>$p_value</dt>\n",
              "\t\t<dd>0.504772628696621</dd>\n",
              "\t<dt>$test_type</dt>\n",
              "\t\t<dd>'Chi-Square Test'</dd>\n",
              "\t<dt>$interpretation</dt>\n",
              "\t\t<dd>'MCAR (independent of other column)'</dd>\n",
              "</dl>\n",
              "</dd>\n",
              "\t<dt>$pdays</dt>\n",
              "\t\t<dd><dl>\n",
              "\t<dt>$column</dt>\n",
              "\t\t<dd>'pdays'</dd>\n",
              "\t<dt>$related_to</dt>\n",
              "\t\t<dd>'poutcome'</dd>\n",
              "\t<dt>$p_value</dt>\n",
              "\t\t<dd>0</dd>\n",
              "\t<dt>$test_type</dt>\n",
              "\t\t<dd>'Chi-Square Test'</dd>\n",
              "\t<dt>$interpretation</dt>\n",
              "\t\t<dd>'Not MCAR (related to other column)'</dd>\n",
              "</dl>\n",
              "</dd>\n",
              "\t<dt>$poutcome</dt>\n",
              "\t\t<dd><dl>\n",
              "\t<dt>$column</dt>\n",
              "\t\t<dd>'poutcome'</dd>\n",
              "\t<dt>$related_to</dt>\n",
              "\t\t<dd>'pdays'</dd>\n",
              "\t<dt>$p_value</dt>\n",
              "\t\t<dd>0</dd>\n",
              "\t<dt>$test_type</dt>\n",
              "\t\t<dd>'Chi-Square Test'</dd>\n",
              "\t<dt>$interpretation</dt>\n",
              "\t\t<dd>'Not MCAR (related to other column)'</dd>\n",
              "</dl>\n",
              "</dd>\n",
              "</dl>\n"
            ],
            "text/markdown": "$job\n:   $column\n:   'job'\n$related_to\n:   'poutcome'\n$p_value\n:   0.000675330701990227\n$test_type\n:   'Chi-Square Test'\n$interpretation\n:   'Not MCAR (related to other column)'\n\n\n\n$marital\n:   $column\n:   'marital'\n$related_to\n:   'poutcome'\n$p_value\n:   0.0807440498255998\n$test_type\n:   'Chi-Square Test'\n$interpretation\n:   'MCAR (independent of other column)'\n\n\n\n$education\n:   $column\n:   'education'\n$related_to\n:   'poutcome'\n$p_value\n:   0.00153279186014276\n$test_type\n:   'Chi-Square Test'\n$interpretation\n:   'Not MCAR (related to other column)'\n\n\n\n$housing\n:   $column\n:   'housing'\n$related_to\n:   'poutcome'\n$p_value\n:   0.504772628696621\n$test_type\n:   'Chi-Square Test'\n$interpretation\n:   'MCAR (independent of other column)'\n\n\n\n$loan\n:   $column\n:   'loan'\n$related_to\n:   'poutcome'\n$p_value\n:   0.504772628696621\n$test_type\n:   'Chi-Square Test'\n$interpretation\n:   'MCAR (independent of other column)'\n\n\n\n$pdays\n:   $column\n:   'pdays'\n$related_to\n:   'poutcome'\n$p_value\n:   0\n$test_type\n:   'Chi-Square Test'\n$interpretation\n:   'Not MCAR (related to other column)'\n\n\n\n$poutcome\n:   $column\n:   'poutcome'\n$related_to\n:   'pdays'\n$p_value\n:   0\n$test_type\n:   'Chi-Square Test'\n$interpretation\n:   'Not MCAR (related to other column)'\n\n\n\n\n\n",
            "text/latex": "\\begin{description}\n\\item[\\$job] \\begin{description}\n\\item[\\$column] 'job'\n\\item[\\$related\\_to] 'poutcome'\n\\item[\\$p\\_value] 0.000675330701990227\n\\item[\\$test\\_type] 'Chi-Square Test'\n\\item[\\$interpretation] 'Not MCAR (related to other column)'\n\\end{description}\n\n\\item[\\$marital] \\begin{description}\n\\item[\\$column] 'marital'\n\\item[\\$related\\_to] 'poutcome'\n\\item[\\$p\\_value] 0.0807440498255998\n\\item[\\$test\\_type] 'Chi-Square Test'\n\\item[\\$interpretation] 'MCAR (independent of other column)'\n\\end{description}\n\n\\item[\\$education] \\begin{description}\n\\item[\\$column] 'education'\n\\item[\\$related\\_to] 'poutcome'\n\\item[\\$p\\_value] 0.00153279186014276\n\\item[\\$test\\_type] 'Chi-Square Test'\n\\item[\\$interpretation] 'Not MCAR (related to other column)'\n\\end{description}\n\n\\item[\\$housing] \\begin{description}\n\\item[\\$column] 'housing'\n\\item[\\$related\\_to] 'poutcome'\n\\item[\\$p\\_value] 0.504772628696621\n\\item[\\$test\\_type] 'Chi-Square Test'\n\\item[\\$interpretation] 'MCAR (independent of other column)'\n\\end{description}\n\n\\item[\\$loan] \\begin{description}\n\\item[\\$column] 'loan'\n\\item[\\$related\\_to] 'poutcome'\n\\item[\\$p\\_value] 0.504772628696621\n\\item[\\$test\\_type] 'Chi-Square Test'\n\\item[\\$interpretation] 'MCAR (independent of other column)'\n\\end{description}\n\n\\item[\\$pdays] \\begin{description}\n\\item[\\$column] 'pdays'\n\\item[\\$related\\_to] 'poutcome'\n\\item[\\$p\\_value] 0\n\\item[\\$test\\_type] 'Chi-Square Test'\n\\item[\\$interpretation] 'Not MCAR (related to other column)'\n\\end{description}\n\n\\item[\\$poutcome] \\begin{description}\n\\item[\\$column] 'poutcome'\n\\item[\\$related\\_to] 'pdays'\n\\item[\\$p\\_value] 0\n\\item[\\$test\\_type] 'Chi-Square Test'\n\\item[\\$interpretation] 'Not MCAR (related to other column)'\n\\end{description}\n\n\\end{description}\n",
            "text/plain": [
              "$job\n",
              "$job$column\n",
              "[1] \"job\"\n",
              "\n",
              "$job$related_to\n",
              "[1] \"poutcome\"\n",
              "\n",
              "$job$p_value\n",
              "[1] 0.0006753307\n",
              "\n",
              "$job$test_type\n",
              "[1] \"Chi-Square Test\"\n",
              "\n",
              "$job$interpretation\n",
              "[1] \"Not MCAR (related to other column)\"\n",
              "\n",
              "\n",
              "$marital\n",
              "$marital$column\n",
              "[1] \"marital\"\n",
              "\n",
              "$marital$related_to\n",
              "[1] \"poutcome\"\n",
              "\n",
              "$marital$p_value\n",
              "[1] 0.08074405\n",
              "\n",
              "$marital$test_type\n",
              "[1] \"Chi-Square Test\"\n",
              "\n",
              "$marital$interpretation\n",
              "[1] \"MCAR (independent of other column)\"\n",
              "\n",
              "\n",
              "$education\n",
              "$education$column\n",
              "[1] \"education\"\n",
              "\n",
              "$education$related_to\n",
              "[1] \"poutcome\"\n",
              "\n",
              "$education$p_value\n",
              "[1] 0.001532792\n",
              "\n",
              "$education$test_type\n",
              "[1] \"Chi-Square Test\"\n",
              "\n",
              "$education$interpretation\n",
              "[1] \"Not MCAR (related to other column)\"\n",
              "\n",
              "\n",
              "$housing\n",
              "$housing$column\n",
              "[1] \"housing\"\n",
              "\n",
              "$housing$related_to\n",
              "[1] \"poutcome\"\n",
              "\n",
              "$housing$p_value\n",
              "[1] 0.5047726\n",
              "\n",
              "$housing$test_type\n",
              "[1] \"Chi-Square Test\"\n",
              "\n",
              "$housing$interpretation\n",
              "[1] \"MCAR (independent of other column)\"\n",
              "\n",
              "\n",
              "$loan\n",
              "$loan$column\n",
              "[1] \"loan\"\n",
              "\n",
              "$loan$related_to\n",
              "[1] \"poutcome\"\n",
              "\n",
              "$loan$p_value\n",
              "[1] 0.5047726\n",
              "\n",
              "$loan$test_type\n",
              "[1] \"Chi-Square Test\"\n",
              "\n",
              "$loan$interpretation\n",
              "[1] \"MCAR (independent of other column)\"\n",
              "\n",
              "\n",
              "$pdays\n",
              "$pdays$column\n",
              "[1] \"pdays\"\n",
              "\n",
              "$pdays$related_to\n",
              "[1] \"poutcome\"\n",
              "\n",
              "$pdays$p_value\n",
              "[1] 0\n",
              "\n",
              "$pdays$test_type\n",
              "[1] \"Chi-Square Test\"\n",
              "\n",
              "$pdays$interpretation\n",
              "[1] \"Not MCAR (related to other column)\"\n",
              "\n",
              "\n",
              "$poutcome\n",
              "$poutcome$column\n",
              "[1] \"poutcome\"\n",
              "\n",
              "$poutcome$related_to\n",
              "[1] \"pdays\"\n",
              "\n",
              "$poutcome$p_value\n",
              "[1] 0\n",
              "\n",
              "$poutcome$test_type\n",
              "[1] \"Chi-Square Test\"\n",
              "\n",
              "$poutcome$interpretation\n",
              "[1] \"Not MCAR (related to other column)\"\n",
              "\n"
            ]
          },
          "metadata": {}
        }
      ]
    },
    {
      "cell_type": "code",
      "source": [
        "str(df)"
      ],
      "metadata": {
        "colab": {
          "base_uri": "https://localhost:8080/"
        },
        "id": "oC39epxBS0ZT",
        "outputId": "3027b841-bf7d-426c-88a2-2ce3c3e02b98"
      },
      "execution_count": null,
      "outputs": [
        {
          "output_type": "stream",
          "name": "stdout",
          "text": [
            "'data.frame':\t39186 obs. of  21 variables:\n",
            " $ age            : int  56 57 37 40 56 45 59 41 24 25 ...\n",
            " $ job            : Factor w/ 11 levels \"admin.\",\"blue-collar\",..: 4 8 8 1 8 8 1 2 10 8 ...\n",
            " $ marital        : Factor w/ 3 levels \"divorced\",\"married\",..: 2 2 2 2 2 2 2 2 3 3 ...\n",
            " $ education      : Factor w/ 7 levels \"basic.4y\",\"basic.6y\",..: 1 4 4 2 4 3 6 NA 6 4 ...\n",
            " $ housing        : Factor w/ 2 levels \"no\",\"yes\": 1 1 2 1 1 1 1 1 2 2 ...\n",
            " $ loan           : Factor w/ 2 levels \"no\",\"yes\": 1 1 1 1 2 1 1 1 1 1 ...\n",
            " $ mobile_phone   : num  0 0 0 0 0 0 0 0 0 0 ...\n",
            " $ campaign       : int  1 1 1 1 1 1 1 1 1 1 ...\n",
            " $ pdays          : Factor w/ 5 levels \"Moderate\",\"Never\",..: 2 2 2 2 2 2 2 2 2 2 ...\n",
            " $ previous       : int  0 0 0 0 0 0 0 0 0 0 ...\n",
            " $ poutcome       : Factor w/ 3 levels \"failure\",\"nonexistent\",..: 2 2 2 2 2 2 2 2 2 2 ...\n",
            " $ emp.var.rate   : num  1.1 1.1 1.1 1.1 1.1 1.1 1.1 1.1 1.1 1.1 ...\n",
            " $ cons.price.idx : num  94 94 94 94 94 ...\n",
            " $ cons.conf.idx  : num  -36.4 -36.4 -36.4 -36.4 -36.4 -36.4 -36.4 -36.4 -36.4 -36.4 ...\n",
            " $ euribor3m      : num  4.86 4.86 4.86 4.86 4.86 ...\n",
            " $ nr.employed    : num  5191 5191 5191 5191 5191 ...\n",
            " $ y              : num  0 0 0 0 0 0 0 0 0 0 ...\n",
            " $ sin_month      : num  0.951 0.951 0.951 0.951 0.951 ...\n",
            " $ cos_month      : num  0.309 0.309 0.309 0.309 0.309 ...\n",
            " $ sin_day_of_week: num  0 0 0 0 0 0 0 0 0 0 ...\n",
            " $ cos_day_of_week: num  1 1 1 1 1 1 1 1 1 1 ...\n"
          ]
        }
      ]
    },
    {
      "cell_type": "code",
      "source": [
        "df_with_nulls <- df[, colSums(is.na(df)) > 0]\n",
        "\n",
        "mcar_test(df_with_nulls) # -> The p-value is 0 => Reject the null hypothesis: strongly suggests that the data is not missing completely at random (MCAR)"
      ],
      "metadata": {
        "id": "ip7MrWOPoMIl",
        "colab": {
          "base_uri": "https://localhost:8080/",
          "height": 129
        },
        "outputId": "5d3e13c1-a06b-4713-81dc-ca4ec148e905"
      },
      "execution_count": null,
      "outputs": [
        {
          "output_type": "display_data",
          "data": {
            "text/html": [
              "<table class=\"dataframe\">\n",
              "<caption>A tibble: 1 × 4</caption>\n",
              "<thead>\n",
              "\t<tr><th scope=col>statistic</th><th scope=col>df</th><th scope=col>p.value</th><th scope=col>missing.patterns</th></tr>\n",
              "\t<tr><th scope=col>&lt;dbl&gt;</th><th scope=col>&lt;dbl&gt;</th><th scope=col>&lt;dbl&gt;</th><th scope=col>&lt;int&gt;</th></tr>\n",
              "</thead>\n",
              "<tbody>\n",
              "\t<tr><td>123.5152</td><td>33</td><td>2.198353e-12</td><td>13</td></tr>\n",
              "</tbody>\n",
              "</table>\n"
            ],
            "text/markdown": "\nA tibble: 1 × 4\n\n| statistic &lt;dbl&gt; | df &lt;dbl&gt; | p.value &lt;dbl&gt; | missing.patterns &lt;int&gt; |\n|---|---|---|---|\n| 123.5152 | 33 | 2.198353e-12 | 13 |\n\n",
            "text/latex": "A tibble: 1 × 4\n\\begin{tabular}{llll}\n statistic & df & p.value & missing.patterns\\\\\n <dbl> & <dbl> & <dbl> & <int>\\\\\n\\hline\n\t 123.5152 & 33 & 2.198353e-12 & 13\\\\\n\\end{tabular}\n",
            "text/plain": [
              "  statistic df p.value      missing.patterns\n",
              "1 123.5152  33 2.198353e-12 13              "
            ]
          },
          "metadata": {}
        }
      ]
    },
    {
      "cell_type": "code",
      "source": [
        "# Logistic Regression MAR test function.\n",
        "\n",
        "test_mar <- function(df) {\n",
        "  setNames(lapply(names(df)[colSums(is.na(df)) > 0], function(col) {\n",
        "    df_test <- df %>% mutate(missing = is.na(.data[[col]])) %>% select(-all_of(col)) %>% drop_na()\n",
        "    if (ncol(df_test) <= 1) return(\"Not enough predictors\")\n",
        "    model <- glm(missing ~ ., data = df_test, family = binomial, control = list(maxit = 100))\n",
        "    p_values <- summary(model)$coefficients[-1, 4]\n",
        "    list(sig_p = p_values[p_values < 0.05], interpretation = ifelse(any(p_values < 0.05), \"MAR likely\", \"No strong MAR evidence\"))\n",
        "  }), names(df)[colSums(is.na(df)) > 0])\n",
        "}\n",
        "\n",
        "mar_results <- test_mar(df_with_nulls) # -> The columns 'housing' and 'loan' are not MAR. Assumed MNAR.\n",
        "print(mar_results)"
      ],
      "metadata": {
        "colab": {
          "base_uri": "https://localhost:8080/"
        },
        "id": "XFyhRrWxMg2H",
        "outputId": "221b838c-9684-4b6a-f4f6-1014c945d0f7"
      },
      "execution_count": null,
      "outputs": [
        {
          "output_type": "stream",
          "name": "stderr",
          "text": [
            "Warning message:\n",
            "“glm.fit: fitted probabilities numerically 0 or 1 occurred”\n",
            "Warning message:\n",
            "“glm.fit: fitted probabilities numerically 0 or 1 occurred”\n"
          ]
        },
        {
          "output_type": "stream",
          "name": "stdout",
          "text": [
            "$job\n",
            "$job$sig_p\n",
            "              maritalmarried                maritalsingle \n",
            "                9.303623e-03                 5.776129e-04 \n",
            "           educationbasic.9y         educationhigh.school \n",
            "                1.878567e-05                 5.791842e-09 \n",
            "educationprofessional.course   educationuniversity.degree \n",
            "                4.169883e-08                 9.490800e-12 \n",
            "\n",
            "$job$interpretation\n",
            "[1] \"MAR likely\"\n",
            "\n",
            "\n",
            "$marital\n",
            "$marital$sig_p\n",
            "   jobretired jobunemployed    housingyes \n",
            "  0.043398985   0.004938833   0.029401736 \n",
            "\n",
            "$marital$interpretation\n",
            "[1] \"MAR likely\"\n",
            "\n",
            "\n",
            "$education\n",
            "$education$sig_p\n",
            " jobblue-collar jobentrepreneur    jobhousemaid   jobmanagement      jobretired \n",
            "   8.603270e-17    7.241553e-04    4.685746e-03    9.147003e-07    1.902458e-10 \n",
            "    jobservices      jobstudent   jobtechnician \n",
            "   4.582078e-05    1.022130e-89    8.749739e-03 \n",
            "\n",
            "$education$interpretation\n",
            "[1] \"MAR likely\"\n",
            "\n",
            "\n",
            "$housing\n",
            "$housing$sig_p\n",
            "named numeric(0)\n",
            "\n",
            "$housing$interpretation\n",
            "[1] \"No strong MAR evidence\"\n",
            "\n",
            "\n",
            "$loan\n",
            "$loan$sig_p\n",
            "named numeric(0)\n",
            "\n",
            "$loan$interpretation\n",
            "[1] \"No strong MAR evidence\"\n",
            "\n",
            "\n"
          ]
        }
      ]
    },
    {
      "cell_type": "code",
      "source": [
        "# Convert 'education' column to numeric\n",
        "\n",
        "education_levels <- c(\"illiterate\", \"basic.4y\", \"basic.6y\", \"basic.9y\",\n",
        "                      \"high.school\", \"professional.course\", \"university.degree\")\n",
        "\n",
        "df$education <- factor(df$education, levels = education_levels, ordered = TRUE)\n",
        "\n",
        "df$education <- as.numeric(df$education) - 1"
      ],
      "metadata": {
        "id": "G7LqAFZSJDgx"
      },
      "execution_count": null,
      "outputs": []
    },
    {
      "cell_type": "code",
      "source": [
        "str(df)"
      ],
      "metadata": {
        "colab": {
          "base_uri": "https://localhost:8080/"
        },
        "id": "-vyauFKRLtB9",
        "outputId": "14712ec4-4fe7-483f-c942-f575fefe8bdb"
      },
      "execution_count": null,
      "outputs": [
        {
          "output_type": "stream",
          "name": "stdout",
          "text": [
            "'data.frame':\t39186 obs. of  21 variables:\n",
            " $ age            : int  56 57 37 40 56 45 59 41 24 25 ...\n",
            " $ job            : Factor w/ 11 levels \"admin.\",\"blue-collar\",..: 4 8 8 1 8 8 1 2 10 8 ...\n",
            " $ marital        : Factor w/ 3 levels \"divorced\",\"married\",..: 2 2 2 2 2 2 2 2 3 3 ...\n",
            " $ education      : num  1 4 4 2 4 3 5 NA 5 4 ...\n",
            " $ housing        : Factor w/ 2 levels \"no\",\"yes\": 1 1 2 1 1 1 1 1 2 2 ...\n",
            " $ loan           : Factor w/ 2 levels \"no\",\"yes\": 1 1 1 1 2 1 1 1 1 1 ...\n",
            " $ mobile_phone   : num  0 0 0 0 0 0 0 0 0 0 ...\n",
            " $ campaign       : int  1 1 1 1 1 1 1 1 1 1 ...\n",
            " $ pdays          : Factor w/ 5 levels \"Moderate\",\"Never\",..: 2 2 2 2 2 2 2 2 2 2 ...\n",
            " $ previous       : int  0 0 0 0 0 0 0 0 0 0 ...\n",
            " $ poutcome       : Factor w/ 3 levels \"failure\",\"nonexistent\",..: 2 2 2 2 2 2 2 2 2 2 ...\n",
            " $ emp.var.rate   : num  1.1 1.1 1.1 1.1 1.1 1.1 1.1 1.1 1.1 1.1 ...\n",
            " $ cons.price.idx : num  94 94 94 94 94 ...\n",
            " $ cons.conf.idx  : num  -36.4 -36.4 -36.4 -36.4 -36.4 -36.4 -36.4 -36.4 -36.4 -36.4 ...\n",
            " $ euribor3m      : num  4.86 4.86 4.86 4.86 4.86 ...\n",
            " $ nr.employed    : num  5191 5191 5191 5191 5191 ...\n",
            " $ y              : num  0 0 0 0 0 0 0 0 0 0 ...\n",
            " $ sin_month      : num  0.951 0.951 0.951 0.951 0.951 ...\n",
            " $ cos_month      : num  0.309 0.309 0.309 0.309 0.309 ...\n",
            " $ sin_day_of_week: num  0 0 0 0 0 0 0 0 0 0 ...\n",
            " $ cos_day_of_week: num  1 1 1 1 1 1 1 1 1 1 ...\n"
          ]
        }
      ]
    },
    {
      "cell_type": "code",
      "source": [
        "# Fill 'housing' and 'loan' columns with unknown, since presumed MCAR and add missing values vector.\n",
        "\n",
        "columns_to_replace <- c(\"housing\", \"loan\")\n",
        "\n",
        "for (col in columns_to_replace) {\n",
        "  if (col %in% names(df)) {\n",
        "    df[[col]] <- as.character(df[[col]])\n",
        "    df[[col]][is.na(df[[col]])] <- \"unknown\"\n",
        "    df[[col]] <- as.factor(df[[col]])\n",
        "  }\n",
        "}\n",
        "\n",
        "df$house_missing <- as.numeric(ifelse(df$housing == 'unknown', 1, 0))\n",
        "df$loan_missing <- as.numeric(ifelse(df$loan == 'unknown', 1, 0))"
      ],
      "metadata": {
        "id": "aNMIau5BF2zf"
      },
      "execution_count": null,
      "outputs": []
    },
    {
      "cell_type": "code",
      "source": [
        "unique(df$housing)"
      ],
      "metadata": {
        "colab": {
          "base_uri": "https://localhost:8080/",
          "height": 52
        },
        "id": "P3ltClAlIH9i",
        "outputId": "93b87858-e20e-436e-8a5c-c05b19a99543"
      },
      "execution_count": null,
      "outputs": [
        {
          "output_type": "display_data",
          "data": {
            "text/html": [
              "<style>\n",
              ".list-inline {list-style: none; margin:0; padding: 0}\n",
              ".list-inline>li {display: inline-block}\n",
              ".list-inline>li:not(:last-child)::after {content: \"\\00b7\"; padding: 0 .5ex}\n",
              "</style>\n",
              "<ol class=list-inline><li>no</li><li>yes</li><li>unknown</li></ol>\n",
              "\n",
              "<details>\n",
              "\t<summary style=display:list-item;cursor:pointer>\n",
              "\t\t<strong>Levels</strong>:\n",
              "\t</summary>\n",
              "\t<style>\n",
              "\t.list-inline {list-style: none; margin:0; padding: 0}\n",
              "\t.list-inline>li {display: inline-block}\n",
              "\t.list-inline>li:not(:last-child)::after {content: \"\\00b7\"; padding: 0 .5ex}\n",
              "\t</style>\n",
              "\t<ol class=list-inline><li>'no'</li><li>'unknown'</li><li>'yes'</li></ol>\n",
              "</details>"
            ],
            "text/markdown": "1. no\n2. yes\n3. unknown\n\n\n\n**Levels**: 1. 'no'\n2. 'unknown'\n3. 'yes'\n\n\n",
            "text/latex": "\\begin{enumerate*}\n\\item no\n\\item yes\n\\item unknown\n\\end{enumerate*}\n\n\\emph{Levels}: \\begin{enumerate*}\n\\item 'no'\n\\item 'unknown'\n\\item 'yes'\n\\end{enumerate*}\n",
            "text/plain": [
              "[1] no      yes     unknown\n",
              "Levels: no unknown yes"
            ]
          },
          "metadata": {}
        }
      ]
    },
    {
      "cell_type": "code",
      "source": [
        "str(df)"
      ],
      "metadata": {
        "colab": {
          "base_uri": "https://localhost:8080/"
        },
        "id": "bQ3wblR_HvAq",
        "outputId": "5a26cf23-16d6-4d83-9f3f-cd3d301f116b"
      },
      "execution_count": null,
      "outputs": [
        {
          "output_type": "stream",
          "name": "stdout",
          "text": [
            "'data.frame':\t39186 obs. of  23 variables:\n",
            " $ age            : int  56 57 37 40 56 45 59 41 24 25 ...\n",
            " $ job            : Factor w/ 11 levels \"admin.\",\"blue-collar\",..: 4 8 8 1 8 8 1 2 10 8 ...\n",
            " $ marital        : Factor w/ 3 levels \"divorced\",\"married\",..: 2 2 2 2 2 2 2 2 3 3 ...\n",
            " $ education      : num  1 4 4 2 4 3 5 NA 5 4 ...\n",
            " $ housing        : Factor w/ 3 levels \"no\",\"unknown\",..: 1 1 3 1 1 1 1 1 3 3 ...\n",
            " $ loan           : Factor w/ 3 levels \"no\",\"unknown\",..: 1 1 1 1 3 1 1 1 1 1 ...\n",
            " $ mobile_phone   : num  0 0 0 0 0 0 0 0 0 0 ...\n",
            " $ campaign       : int  1 1 1 1 1 1 1 1 1 1 ...\n",
            " $ pdays          : Factor w/ 5 levels \"Moderate\",\"Never\",..: 2 2 2 2 2 2 2 2 2 2 ...\n",
            " $ previous       : int  0 0 0 0 0 0 0 0 0 0 ...\n",
            " $ poutcome       : Factor w/ 3 levels \"failure\",\"nonexistent\",..: 2 2 2 2 2 2 2 2 2 2 ...\n",
            " $ emp.var.rate   : num  1.1 1.1 1.1 1.1 1.1 1.1 1.1 1.1 1.1 1.1 ...\n",
            " $ cons.price.idx : num  94 94 94 94 94 ...\n",
            " $ cons.conf.idx  : num  -36.4 -36.4 -36.4 -36.4 -36.4 -36.4 -36.4 -36.4 -36.4 -36.4 ...\n",
            " $ euribor3m      : num  4.86 4.86 4.86 4.86 4.86 ...\n",
            " $ nr.employed    : num  5191 5191 5191 5191 5191 ...\n",
            " $ y              : num  0 0 0 0 0 0 0 0 0 0 ...\n",
            " $ sin_month      : num  0.951 0.951 0.951 0.951 0.951 ...\n",
            " $ cos_month      : num  0.309 0.309 0.309 0.309 0.309 ...\n",
            " $ sin_day_of_week: num  0 0 0 0 0 0 0 0 0 0 ...\n",
            " $ cos_day_of_week: num  1 1 1 1 1 1 1 1 1 1 ...\n",
            " $ house_missing  : num  0 0 0 0 0 0 0 0 0 0 ...\n",
            " $ loan_missing   : num  0 0 0 0 0 0 0 0 0 0 ...\n"
          ]
        }
      ]
    },
    {
      "cell_type": "code",
      "source": [
        "# Remove duplicates.\n",
        "\n",
        "df <- check_remove_duplicates(df)"
      ],
      "metadata": {
        "id": "jSN9F1BcH5Uy"
      },
      "execution_count": null,
      "outputs": []
    },
    {
      "cell_type": "code",
      "source": [
        "set.seed(123)\n",
        "\n",
        "# 1. Identify categorical columns with missing values\n",
        "cat_cols <- names(df)[sapply(df, is.factor) | sapply(df, is.character)]\n",
        "cat_cols <- cat_cols[colSums(is.na(df[cat_cols])) > 0]\n",
        "\n",
        "# 2. Parameters\n",
        "k_values <- 1:10\n",
        "acc_results <- matrix(NA, nrow = length(k_values), ncol = length(cat_cols))\n",
        "rownames(acc_results) <- paste0(\"k=\", k_values)\n",
        "colnames(acc_results) <- cat_cols\n",
        "\n",
        "# 3. For each categorical column, mask values & compute accuracy\n",
        "for (j in seq_along(cat_cols)) {\n",
        "  col <- cat_cols[j]\n",
        "\n",
        "  # Store original non-missing values\n",
        "  known_idx <- which(!is.na(df[[col]]))\n",
        "  test_idx <- sample(known_idx, size = floor(0.05 * length(known_idx)))\n",
        "\n",
        "  df_masked <- df\n",
        "  true_values <- df[[col]][test_idx]\n",
        "  df_masked[[col]][test_idx] <- NA\n",
        "\n",
        "  for (i in seq_along(k_values)) {\n",
        "    k <- k_values[i]\n",
        "\n",
        "    imputed_df <- kNN(df_masked, variable = col, k = k, imp_var = FALSE)\n",
        "    pred_values <- imputed_df[[col]][test_idx]\n",
        "\n",
        "    # Accuracy\n",
        "    acc <- mean(pred_values == true_values)\n",
        "    acc_results[i, j] <- acc\n",
        "  }\n",
        "}\n",
        "\n",
        "# 4. Aggregate accuracy across columns\n",
        "mean_acc <- rowMeans(acc_results, na.rm = TRUE)\n",
        "\n",
        "# 5. Plot accuracy vs k\n",
        "plot(k_values, mean_acc, type = \"b\", pch = 19,\n",
        "     xlab = \"k (neighbors)\", ylab = \"Average Accuracy\",\n",
        "     main = \"Optimal k for Categorical Imputation\")\n",
        "\n",
        "best_k <- k_values[which.max(mean_acc)]\n",
        "cat(\"✅ Best k =\", best_k, \"with avg. accuracy =\", max(mean_acc), \"\\n\")"
      ],
      "metadata": {
        "colab": {
          "base_uri": "https://localhost:8080/",
          "height": 455
        },
        "id": "MehGs9vOjQbg",
        "outputId": "37702177-831a-458b-894c-e2cb0def0061"
      },
      "execution_count": null,
      "outputs": [
        {
          "output_type": "stream",
          "name": "stdout",
          "text": [
            "✅ Best k = 10 with avg. accuracy = 0.532311 \n"
          ]
        },
        {
          "output_type": "display_data",
          "data": {
            "text/plain": [
              "Plot with title “Optimal k for Categorical Imputation”"
            ],
            "image/png": "[encoded data removed]"
          },
          "metadata": {
            "image/png": {
              "width": 420,
              "height": 420
            }
          }
        }
      ]
    },
    {
      "cell_type": "code",
      "source": [
        "set.seed(123)\n",
        "\n",
        "# 1. Identify categorical columns with missing values\n",
        "cat_cols <- names(df)[sapply(df, is.factor) | sapply(df, is.character)]\n",
        "cat_cols <- cat_cols[colSums(is.na(df[cat_cols])) > 0]\n",
        "\n",
        "# 2. Parameters\n",
        "k_values <- 11:30\n",
        "acc_results <- matrix(NA, nrow = length(k_values), ncol = length(cat_cols))\n",
        "rownames(acc_results) <- paste0(\"k=\", k_values)\n",
        "colnames(acc_results) <- cat_cols\n",
        "\n",
        "# 3. Setup parallel backend\n",
        "num_cores <- parallel::detectCores() - 1\n",
        "cl <- makeCluster(num_cores)\n",
        "registerDoParallel(cl)\n",
        "\n",
        "# 4. Parallel loop\n",
        "results <- foreach(j = seq_along(cat_cols), .combine = 'cbind', .packages = 'VIM') %dopar% {\n",
        "  col <- cat_cols[j]\n",
        "\n",
        "  known_idx <- which(!is.na(df[[col]]))\n",
        "  test_idx <- sample(known_idx, size = floor(0.05 * length(known_idx)))\n",
        "\n",
        "  df_masked <- df\n",
        "  true_values <- df[[col]][test_idx]\n",
        "  df_masked[[col]][test_idx] <- NA\n",
        "\n",
        "  acc_vec <- numeric(length(k_values))\n",
        "\n",
        "  for (i in seq_along(k_values)) {\n",
        "    k <- k_values[i]\n",
        "    imputed_df <- kNN(df_masked, variable = col, k = k, imp_var = FALSE)\n",
        "    pred_values <- imputed_df[[col]][test_idx]\n",
        "\n",
        "    acc_vec[i] <- mean(pred_values == true_values)\n",
        "  }\n",
        "\n",
        "  acc_vec  # This will become one column of acc_results\n",
        "}\n",
        "\n",
        "# Stop cluster\n",
        "stopCluster(cl)\n",
        "\n",
        "# 5. Reshape and aggregate\n",
        "acc_results <- matrix(results, nrow = length(k_values), ncol = length(cat_cols))\n",
        "rownames(acc_results) <- paste0(\"k=\", k_values)\n",
        "colnames(acc_results) <- cat_cols\n",
        "\n",
        "mean_acc <- rowMeans(acc_results, na.rm = TRUE)\n",
        "\n",
        "# 6. Plot\n",
        "plot(k_values, mean_acc, type = \"b\", pch = 19,\n",
        "     xlab = \"k (neighbors)\", ylab = \"Average Accuracy\",\n",
        "     main = \"Optimal k for Categorical Imputation\")\n",
        "\n",
        "best_k <- k_values[which.max(mean_acc)]\n",
        "cat(\"✅ Best k =\", best_k, \"with avg. accuracy =\", max(mean_acc), \"\\n\")"
      ],
      "metadata": {
        "colab": {
          "base_uri": "https://localhost:8080/",
          "height": 455
        },
        "id": "IwEj5dA6y5ke",
        "outputId": "846f5372-042d-474e-db13-271da8d83212"
      },
      "execution_count": null,
      "outputs": [
        {
          "output_type": "stream",
          "name": "stdout",
          "text": [
            "✅ Best k = 23 with avg. accuracy = 0.5453687 \n"
          ]
        },
        {
          "output_type": "display_data",
          "data": {
            "text/plain": [
              "Plot with title “Optimal k for Categorical Imputation”"
            ],
            "image/png": "[encoded data removed]"
          },
          "metadata": {
            "image/png": {
              "width": 420,
              "height": 420
            }
          }
        }
      ]
    },
    {
      "cell_type": "code",
      "source": [
        "# Execute random forest imputation\n",
        "\n",
        "df_imputed <- kNN(df, variable=names(df), k=10, imp_var=FALSE)"
      ],
      "metadata": {
        "id": "5f7UQuCCHHzw"
      },
      "execution_count": null,
      "outputs": []
    },
    {
      "cell_type": "code",
      "source": [
        "# Remove duplicates.\n",
        "\n",
        "df <- check_remove_duplicates(df_imputed)"
      ],
      "metadata": {
        "id": "sn-xI1BXJNAN",
        "colab": {
          "base_uri": "https://localhost:8080/"
        },
        "outputId": "29d27316-898e-4040-80f6-b28c5ab889cf"
      },
      "execution_count": null,
      "outputs": [
        {
          "output_type": "stream",
          "name": "stdout",
          "text": [
            "There are: 75 duplicates.\n",
            "\n",
            "Duplicates removed."
          ]
        }
      ]
    },
    {
      "cell_type": "code",
      "source": [
        "# Remove duplicates.\n",
        "\n",
        "df <- check_remove_duplicates(df)"
      ],
      "metadata": {
        "id": "VZCMAV5AiAri"
      },
      "execution_count": null,
      "outputs": []
    },
    {
      "cell_type": "code",
      "source": [
        "# Check\n",
        "sum(is.na(df))"
      ],
      "metadata": {
        "colab": {
          "base_uri": "https://localhost:8080/",
          "height": 34
        },
        "id": "F9ay81J6hnzo",
        "outputId": "7d8a0d23-615f-4655-e734-af29e01038d9"
      },
      "execution_count": null,
      "outputs": [
        {
          "output_type": "display_data",
          "data": {
            "text/html": [
              "0"
            ],
            "text/markdown": "0",
            "text/latex": "0",
            "text/plain": [
              "[1] 0"
            ]
          },
          "metadata": {}
        }
      ]
    },
    {
      "cell_type": "code",
      "source": [
        "write.csv(df, \"df_preprocessed_bank.csv\", row.names = FALSE)"
      ],
      "metadata": {
        "id": "WDA8P-jlh2NM"
      },
      "execution_count": null,
      "outputs": []
    },
    {
      "cell_type": "code",
      "source": [
        "table(df$y)"
      ],
      "metadata": {
        "colab": {
          "base_uri": "https://localhost:8080/",
          "height": 71
        },
        "id": "n2RfUml2CYgx",
        "outputId": "df17903f-b066-458e-d357-fb22c69262cf"
      },
      "execution_count": null,
      "outputs": [
        {
          "output_type": "display_data",
          "data": {
            "text/plain": [
              "\n",
              "    0     1 \n",
              "34519  4592 "
            ]
          },
          "metadata": {}
        }
      ]
    },
    {
      "cell_type": "code",
      "source": [
        "str(df)"
      ],
      "metadata": {
        "colab": {
          "base_uri": "https://localhost:8080/"
        },
        "id": "U3GZ_YFHCkdH",
        "outputId": "099ad9cb-9a69-4cc7-ba8d-57743b0c4c9c"
      },
      "execution_count": null,
      "outputs": [
        {
          "output_type": "stream",
          "name": "stdout",
          "text": [
            "'data.frame':\t39111 obs. of  23 variables:\n",
            " $ age            : int  56 57 37 40 56 45 59 41 24 25 ...\n",
            " $ job            : Factor w/ 11 levels \"admin.\",\"blue-collar\",..: 4 8 8 1 8 8 1 2 10 8 ...\n",
            " $ marital        : Factor w/ 3 levels \"divorced\",\"married\",..: 2 2 2 2 2 2 2 2 3 3 ...\n",
            " $ education      : num  1 4 4 2 4 3 5 3 5 4 ...\n",
            " $ housing        : Factor w/ 3 levels \"no\",\"unknown\",..: 1 1 3 1 1 1 1 1 3 3 ...\n",
            " $ loan           : Factor w/ 3 levels \"no\",\"unknown\",..: 1 1 1 1 3 1 1 1 1 1 ...\n",
            " $ mobile_phone   : num  0 0 0 0 0 0 0 0 0 0 ...\n",
            " $ campaign       : int  1 1 1 1 1 1 1 1 1 1 ...\n",
            " $ pdays          : Factor w/ 5 levels \"Moderate\",\"Never\",..: 2 2 2 2 2 2 2 2 2 2 ...\n",
            " $ previous       : int  0 0 0 0 0 0 0 0 0 0 ...\n",
            " $ poutcome       : Factor w/ 3 levels \"failure\",\"nonexistent\",..: 2 2 2 2 2 2 2 2 2 2 ...\n",
            " $ emp.var.rate   : num  1.1 1.1 1.1 1.1 1.1 1.1 1.1 1.1 1.1 1.1 ...\n",
            " $ cons.price.idx : num  94 94 94 94 94 ...\n",
            " $ cons.conf.idx  : num  -36.4 -36.4 -36.4 -36.4 -36.4 -36.4 -36.4 -36.4 -36.4 -36.4 ...\n",
            " $ euribor3m      : num  4.86 4.86 4.86 4.86 4.86 ...\n",
            " $ nr.employed    : num  5191 5191 5191 5191 5191 ...\n",
            " $ y              : num  0 0 0 0 0 0 0 0 0 0 ...\n",
            " $ sin_month      : num  0.951 0.951 0.951 0.951 0.951 ...\n",
            " $ cos_month      : num  0.309 0.309 0.309 0.309 0.309 ...\n",
            " $ sin_day_of_week: num  0 0 0 0 0 0 0 0 0 0 ...\n",
            " $ cos_day_of_week: num  1 1 1 1 1 1 1 1 1 1 ...\n",
            " $ house_missing  : num  0 0 0 0 0 0 0 0 0 0 ...\n",
            " $ loan_missing   : num  0 0 0 0 0 0 0 0 0 0 ...\n"
          ]
        }
      ]
    },
    {
      "cell_type": "code",
      "source": [
        "numerical.cols <- df[, sapply(df, is.numeric)]"
      ],
      "metadata": {
        "id": "qmY6cd8WnCWC"
      },
      "execution_count": null,
      "outputs": []
    },
    {
      "cell_type": "code",
      "source": [
        "corrplot(cor(numerical.cols), method='number', type='lower', diag=FALSE)"
      ],
      "metadata": {
        "colab": {
          "base_uri": "https://localhost:8080/",
          "height": 437
        },
        "id": "VAIhoEDlZFW7",
        "outputId": "dc27ecd7-44af-481f-d883-3ab3b066f466"
      },
      "execution_count": null,
      "outputs": [
        {
          "output_type": "display_data",
          "data": {
            "text/plain": [
              "Plot with title “”"
            ],
            "image/png": "[encoded data removed]"
          },
          "metadata": {
            "image/png": {
              "width": 420,
              "height": 420
            }
          }
        }
      ]
    }
  ]
}